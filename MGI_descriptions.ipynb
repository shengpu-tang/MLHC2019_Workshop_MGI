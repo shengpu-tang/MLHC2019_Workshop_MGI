{
  "nbformat": 4,
  "nbformat_minor": 0,
  "metadata": {
    "colab": {
      "name": "MLHC 2019 BigQuery demo1",
      "version": "0.3.2",
      "provenance": [],
      "collapsed_sections": [],
      "toc_visible": true
    },
    "kernelspec": {
      "display_name": "Python 3",
      "name": "python3"
    }
  },
  "cells": [
    {
      "cell_type": "markdown",
      "metadata": {
        "id": "uKujxclb5Mrn",
        "colab_type": "text"
      },
      "source": [
        "# MGI cohort descriptions\n",
        "\n",
        "Click the triangle (▶/▼) to expand/hide a section"
      ]
    },
    {
      "cell_type": "code",
      "metadata": {
        "id": "ylfF3nJn8oWQ",
        "colab_type": "code",
        "colab": {}
      },
      "source": [
        "import numpy as np\n",
        "import pandas as pd\n",
        "import scipy as sp\n",
        "import matplotlib.pyplot as plt\n",
        "%config InlineBackend.figure_format = 'svg'\n",
        "\n",
        "PROJECT_ID = 'mlforhc2019-data'"
      ],
      "execution_count": 0,
      "outputs": []
    },
    {
      "cell_type": "markdown",
      "metadata": {
        "id": "YCmlm7wI8Ji2",
        "colab_type": "text"
      },
      "source": [
        "## Setup (Connect to BigQuery)"
      ]
    },
    {
      "cell_type": "code",
      "metadata": {
        "id": "bSsQde1E8I_1",
        "colab_type": "code",
        "outputId": "7ad1ce66-1537-4151-b828-231ce5c335be",
        "colab": {
          "base_uri": "https://localhost:8080/",
          "height": 34
        }
      },
      "source": [
        "from google.colab import auth\n",
        "auth.authenticate_user()\n",
        "print('Authenticated')"
      ],
      "execution_count": 0,
      "outputs": [
        {
          "output_type": "stream",
          "text": [
            "Authenticated\n"
          ],
          "name": "stdout"
        }
      ]
    },
    {
      "cell_type": "markdown",
      "metadata": {
        "id": "I-FjYg9BMo_s",
        "colab_type": "text"
      },
      "source": [
        "## Table 1: Cohort Characteristics"
      ]
    },
    {
      "cell_type": "markdown",
      "metadata": {
        "id": "cz2L4wrgZUfJ",
        "colab_type": "text"
      },
      "source": [
        "### Number of unique patients"
      ]
    },
    {
      "cell_type": "code",
      "metadata": {
        "id": "Nf7eQCF4J1KU",
        "colab_type": "code",
        "outputId": "37d08dae-1ebd-4f61-b7a4-cbfb406de8b0",
        "colab": {
          "base_uri": "https://localhost:8080/",
          "height": 80
        }
      },
      "source": [
        "%%bigquery --project $PROJECT_ID\n",
        "SELECT COUNT(DISTINCT patientID) AS numPatients FROM MGI_Data.PatientInfoAll"
      ],
      "execution_count": 0,
      "outputs": [
        {
          "output_type": "execute_result",
          "data": {
            "text/html": [
              "<div>\n",
              "<style scoped>\n",
              "    .dataframe tbody tr th:only-of-type {\n",
              "        vertical-align: middle;\n",
              "    }\n",
              "\n",
              "    .dataframe tbody tr th {\n",
              "        vertical-align: top;\n",
              "    }\n",
              "\n",
              "    .dataframe thead th {\n",
              "        text-align: right;\n",
              "    }\n",
              "</style>\n",
              "<table border=\"1\" class=\"dataframe\">\n",
              "  <thead>\n",
              "    <tr style=\"text-align: right;\">\n",
              "      <th></th>\n",
              "      <th>numPatients</th>\n",
              "    </tr>\n",
              "  </thead>\n",
              "  <tbody>\n",
              "    <tr>\n",
              "      <th>0</th>\n",
              "      <td>58624</td>\n",
              "    </tr>\n",
              "  </tbody>\n",
              "</table>\n",
              "</div>"
            ],
            "text/plain": [
              "   numPatients\n",
              "0        58624"
            ]
          },
          "metadata": {
            "tags": []
          },
          "execution_count": 3
        }
      ]
    },
    {
      "cell_type": "markdown",
      "metadata": {
        "id": "pDuuuBEuZMZ5",
        "colab_type": "text"
      },
      "source": [
        "### Number of unique primary encounters"
      ]
    },
    {
      "cell_type": "code",
      "metadata": {
        "id": "p2kbuMUp2e9n",
        "colab_type": "code",
        "outputId": "28af372b-9c2a-43ad-ae6b-7701f2b635fb",
        "colab": {
          "base_uri": "https://localhost:8080/",
          "height": 80
        }
      },
      "source": [
        "%%bigquery --project $PROJECT_ID\n",
        "SELECT COUNT(DISTINCT COALESCE(PrimaryEncounterID, ENCOUNTERID)) AS numEncounters FROM `MGI_Data.EncounterProperties`"
      ],
      "execution_count": 0,
      "outputs": [
        {
          "output_type": "execute_result",
          "data": {
            "text/html": [
              "<div>\n",
              "<style scoped>\n",
              "    .dataframe tbody tr th:only-of-type {\n",
              "        vertical-align: middle;\n",
              "    }\n",
              "\n",
              "    .dataframe tbody tr th {\n",
              "        vertical-align: top;\n",
              "    }\n",
              "\n",
              "    .dataframe thead th {\n",
              "        text-align: right;\n",
              "    }\n",
              "</style>\n",
              "<table border=\"1\" class=\"dataframe\">\n",
              "  <thead>\n",
              "    <tr style=\"text-align: right;\">\n",
              "      <th></th>\n",
              "      <th>numEncounters</th>\n",
              "    </tr>\n",
              "  </thead>\n",
              "  <tbody>\n",
              "    <tr>\n",
              "      <th>0</th>\n",
              "      <td>15799232</td>\n",
              "    </tr>\n",
              "  </tbody>\n",
              "</table>\n",
              "</div>"
            ],
            "text/plain": [
              "   numEncounters\n",
              "0       15799232"
            ]
          },
          "metadata": {
            "tags": []
          },
          "execution_count": 4
        }
      ]
    },
    {
      "cell_type": "code",
      "metadata": {
        "id": "Jg7JOpP1LGcr",
        "colab_type": "code",
        "colab": {}
      },
      "source": [
        "# These are incorrect\n",
        "# %%bigquery --project $PROJECT_ID\n",
        "# SELECT COUNT(DISTINCT EncounterID) AS numEncounters FROM `MGI_Data.EncounterProperties` WHERE PrimaryEncounterID = EncounterID OR PrimaryEncounterID IS NULL\n",
        "\n",
        "# %%bigquery --project $PROJECT_ID\n",
        "# SELECT COUNT(*) AS numEncounters FROM `MGI_Data.EncounterProperties` WHERE PrimaryEncounterID = EncounterID OR PrimaryEncounterID IS NULL"
      ],
      "execution_count": 0,
      "outputs": []
    },
    {
      "cell_type": "markdown",
      "metadata": {
        "id": "XYVHekfY1q61",
        "colab_type": "text"
      },
      "source": [
        "### Gender distribution"
      ]
    },
    {
      "cell_type": "code",
      "metadata": {
        "id": "PIKl3-ML2Hq1",
        "colab_type": "code",
        "outputId": "64a986b4-fd18-4147-d149-0b174c510c57",
        "colab": {
          "base_uri": "https://localhost:8080/",
          "height": 111
        }
      },
      "source": [
        "%%bigquery --project $PROJECT_ID\n",
        "SELECT GenderName,\n",
        "       COUNT(distinct patientID) as ct\n",
        "FROM `MGI_Data.PatientInfoAll`\n",
        "GROUP BY GenderName\n",
        "ORDER BY ct desc;"
      ],
      "execution_count": 0,
      "outputs": [
        {
          "output_type": "execute_result",
          "data": {
            "text/html": [
              "<div>\n",
              "<style scoped>\n",
              "    .dataframe tbody tr th:only-of-type {\n",
              "        vertical-align: middle;\n",
              "    }\n",
              "\n",
              "    .dataframe tbody tr th {\n",
              "        vertical-align: top;\n",
              "    }\n",
              "\n",
              "    .dataframe thead th {\n",
              "        text-align: right;\n",
              "    }\n",
              "</style>\n",
              "<table border=\"1\" class=\"dataframe\">\n",
              "  <thead>\n",
              "    <tr style=\"text-align: right;\">\n",
              "      <th></th>\n",
              "      <th>GenderName</th>\n",
              "      <th>ct</th>\n",
              "    </tr>\n",
              "  </thead>\n",
              "  <tbody>\n",
              "    <tr>\n",
              "      <th>0</th>\n",
              "      <td>Female</td>\n",
              "      <td>31170</td>\n",
              "    </tr>\n",
              "    <tr>\n",
              "      <th>1</th>\n",
              "      <td>Male</td>\n",
              "      <td>27454</td>\n",
              "    </tr>\n",
              "  </tbody>\n",
              "</table>\n",
              "</div>"
            ],
            "text/plain": [
              "  GenderName     ct\n",
              "0     Female  31170\n",
              "1       Male  27454"
            ]
          },
          "metadata": {
            "tags": []
          },
          "execution_count": 19
        }
      ]
    },
    {
      "cell_type": "markdown",
      "metadata": {
        "id": "yTzgm-qF2Afh",
        "colab_type": "text"
      },
      "source": [
        "### Age distribution\n",
        "\n",
        "* For each patient, take the max age (in years). \n",
        "* Patients over the age of 89 have their age appear as 300. "
      ]
    },
    {
      "cell_type": "code",
      "metadata": {
        "id": "6d5F0hRc23WM",
        "colab_type": "code",
        "colab": {}
      },
      "source": [
        "%%bigquery df_age --project $PROJECT_ID\n",
        "SELECT PatientID, MAX(AgeInYears) AS MaxAge FROM MGI_Data.Encounter GROUP BY PatientID "
      ],
      "execution_count": 0,
      "outputs": []
    },
    {
      "cell_type": "code",
      "metadata": {
        "id": "lCCkkvIX3Cv3",
        "colab_type": "code",
        "outputId": "26cd96b8-cfa8-4313-d4f6-1fea03c120e1",
        "colab": {
          "base_uri": "https://localhost:8080/",
          "height": 297
        }
      },
      "source": [
        "pd.DataFrame(df_age['MaxAge'].describe())"
      ],
      "execution_count": 0,
      "outputs": [
        {
          "output_type": "execute_result",
          "data": {
            "text/html": [
              "<div>\n",
              "<style scoped>\n",
              "    .dataframe tbody tr th:only-of-type {\n",
              "        vertical-align: middle;\n",
              "    }\n",
              "\n",
              "    .dataframe tbody tr th {\n",
              "        vertical-align: top;\n",
              "    }\n",
              "\n",
              "    .dataframe thead th {\n",
              "        text-align: right;\n",
              "    }\n",
              "</style>\n",
              "<table border=\"1\" class=\"dataframe\">\n",
              "  <thead>\n",
              "    <tr style=\"text-align: right;\">\n",
              "      <th></th>\n",
              "      <th>MaxAge</th>\n",
              "    </tr>\n",
              "  </thead>\n",
              "  <tbody>\n",
              "    <tr>\n",
              "      <th>count</th>\n",
              "      <td>58624.000000</td>\n",
              "    </tr>\n",
              "    <tr>\n",
              "      <th>mean</th>\n",
              "      <td>56.604206</td>\n",
              "    </tr>\n",
              "    <tr>\n",
              "      <th>std</th>\n",
              "      <td>24.225901</td>\n",
              "    </tr>\n",
              "    <tr>\n",
              "      <th>min</th>\n",
              "      <td>18.000000</td>\n",
              "    </tr>\n",
              "    <tr>\n",
              "      <th>25%</th>\n",
              "      <td>44.000000</td>\n",
              "    </tr>\n",
              "    <tr>\n",
              "      <th>50%</th>\n",
              "      <td>58.000000</td>\n",
              "    </tr>\n",
              "    <tr>\n",
              "      <th>75%</th>\n",
              "      <td>68.000000</td>\n",
              "    </tr>\n",
              "    <tr>\n",
              "      <th>max</th>\n",
              "      <td>300.000000</td>\n",
              "    </tr>\n",
              "  </tbody>\n",
              "</table>\n",
              "</div>"
            ],
            "text/plain": [
              "             MaxAge\n",
              "count  58624.000000\n",
              "mean      56.604206\n",
              "std       24.225901\n",
              "min       18.000000\n",
              "25%       44.000000\n",
              "50%       58.000000\n",
              "75%       68.000000\n",
              "max      300.000000"
            ]
          },
          "metadata": {
            "tags": []
          },
          "execution_count": 21
        }
      ]
    },
    {
      "cell_type": "markdown",
      "metadata": {
        "id": "VFt0dutz3Y9M",
        "colab_type": "text"
      },
      "source": [
        "### Date range of data span for each patient"
      ]
    },
    {
      "cell_type": "code",
      "metadata": {
        "id": "0pI0L7tE3owm",
        "colab_type": "code",
        "colab": {}
      },
      "source": [
        "%%bigquery df_daterange --project $PROJECT_ID\n",
        "SELECT\n",
        "    e.PatientID,\n",
        "    min(e.ActivityDate) AS minDate,\n",
        "    max(e.ActivityDate) AS maxDate\n",
        "FROM\n",
        "    MGI_Data.Encounter e JOIN\n",
        "    MGI_Data.EncounterProperties ep ON e.encounterID = ep.encounterID\n",
        "WHERE\n",
        "    ep.HasLabs + ep.HasMeds + ep.HasObservations + ep.HasOrders + ep.HasProblems + ep.HasProcedures >= 1\n",
        "    AND e.ActivityDate > TIMESTAMP('1900-01-01 00:00:00+00:00')\n",
        "    AND e.ActivityDate < TIMESTAMP('2019-06-01 00:00:00+00:00')\n",
        "GROUP BY e.PatientID"
      ],
      "execution_count": 0,
      "outputs": []
    },
    {
      "cell_type": "code",
      "metadata": {
        "id": "UUFYhftCGkot",
        "colab_type": "code",
        "colab": {}
      },
      "source": [
        "df_daterange['range'] = df_daterange['maxDate'] - df_daterange['minDate']\n",
        "df_daterange['rangeInYears'] = df_daterange['range'].apply(lambda r: r.total_seconds() / (3600*24*365.25))"
      ],
      "execution_count": 0,
      "outputs": []
    },
    {
      "cell_type": "code",
      "metadata": {
        "id": "_YUlAoH0EQBE",
        "colab_type": "code",
        "outputId": "462c6db4-304e-4504-8de8-7aa67fdfd733",
        "colab": {
          "base_uri": "https://localhost:8080/",
          "height": 170
        }
      },
      "source": [
        "df_daterange['rangeInYears'].describe()"
      ],
      "execution_count": 0,
      "outputs": [
        {
          "output_type": "execute_result",
          "data": {
            "text/plain": [
              "count    58624.000000\n",
              "mean         8.405622\n",
              "std          6.958799\n",
              "min          0.000000\n",
              "25%          2.050650\n",
              "50%          6.173854\n",
              "75%         15.143053\n",
              "max         67.096509\n",
              "Name: rangeInYears, dtype: float64"
            ]
          },
          "metadata": {
            "tags": []
          },
          "execution_count": 16
        }
      ]
    },
    {
      "cell_type": "code",
      "metadata": {
        "id": "ZPZpLd1vESRg",
        "colab_type": "code",
        "outputId": "0a6dbe9d-86a7-40cb-986b-fcbc9e70948a",
        "colab": {
          "base_uri": "https://localhost:8080/",
          "height": 34
        }
      },
      "source": [
        "(df_daterange['rangeInYears'] > 4).mean()"
      ],
      "execution_count": 0,
      "outputs": [
        {
          "output_type": "execute_result",
          "data": {
            "text/plain": [
              "0.6138612172489083"
            ]
          },
          "metadata": {
            "tags": []
          },
          "execution_count": 17
        }
      ]
    },
    {
      "cell_type": "markdown",
      "metadata": {
        "id": "tjphq9szIOIa",
        "colab_type": "text"
      },
      "source": [
        "### Primary encounter counts per patient"
      ]
    },
    {
      "cell_type": "code",
      "metadata": {
        "id": "hHz07a_4EXRu",
        "colab_type": "code",
        "colab": {}
      },
      "source": [
        "%%bigquery df_enc_counts --project $PROJECT_ID\n",
        "SELECT \n",
        "    p.PatientID,\n",
        "    COUNT(DISTINCT COALESCE(ep.PrimaryEncounterID, ep.EncounterID)) AS EncounterCount\n",
        "FROM\n",
        "    MGI_Data.PatientInfoAll p\n",
        "    LEFT OUTER JOIN MGI_Data.Encounter e ON e.PatientID = p.PatientID\n",
        "    AND e.ActivityDate > TIMESTAMP('1900-01-01 00:00:00+00:00')\n",
        "    AND e.ActivityDate < TIMESTAMP('2019-06-01 00:00:00+00:00')\n",
        "    LEFT OUTER JOIN MGI_Data.EncounterProperties ep\n",
        "        ON ep.EncounterID = e.EncounterID AND HasLabs + HasMeds + HasObservations + HasOrders + HasProblems + HasProcedures > 0\n",
        "GROUP BY p.PatientID"
      ],
      "execution_count": 0,
      "outputs": []
    },
    {
      "cell_type": "code",
      "metadata": {
        "id": "u5GQ4gOnJdmH",
        "colab_type": "code",
        "outputId": "82c9d517-07ef-4bc4-ae9f-5a19f4f859a6",
        "colab": {
          "base_uri": "https://localhost:8080/",
          "height": 297
        }
      },
      "source": [
        "df_enc_counts.describe()"
      ],
      "execution_count": 0,
      "outputs": [
        {
          "output_type": "execute_result",
          "data": {
            "text/html": [
              "<div>\n",
              "<style scoped>\n",
              "    .dataframe tbody tr th:only-of-type {\n",
              "        vertical-align: middle;\n",
              "    }\n",
              "\n",
              "    .dataframe tbody tr th {\n",
              "        vertical-align: top;\n",
              "    }\n",
              "\n",
              "    .dataframe thead th {\n",
              "        text-align: right;\n",
              "    }\n",
              "</style>\n",
              "<table border=\"1\" class=\"dataframe\">\n",
              "  <thead>\n",
              "    <tr style=\"text-align: right;\">\n",
              "      <th></th>\n",
              "      <th>EncounterCount</th>\n",
              "    </tr>\n",
              "  </thead>\n",
              "  <tbody>\n",
              "    <tr>\n",
              "      <th>count</th>\n",
              "      <td>58624.000000</td>\n",
              "    </tr>\n",
              "    <tr>\n",
              "      <th>mean</th>\n",
              "      <td>138.757130</td>\n",
              "    </tr>\n",
              "    <tr>\n",
              "      <th>std</th>\n",
              "      <td>171.005321</td>\n",
              "    </tr>\n",
              "    <tr>\n",
              "      <th>min</th>\n",
              "      <td>1.000000</td>\n",
              "    </tr>\n",
              "    <tr>\n",
              "      <th>25%</th>\n",
              "      <td>31.000000</td>\n",
              "    </tr>\n",
              "    <tr>\n",
              "      <th>50%</th>\n",
              "      <td>74.000000</td>\n",
              "    </tr>\n",
              "    <tr>\n",
              "      <th>75%</th>\n",
              "      <td>181.000000</td>\n",
              "    </tr>\n",
              "    <tr>\n",
              "      <th>max</th>\n",
              "      <td>2199.000000</td>\n",
              "    </tr>\n",
              "  </tbody>\n",
              "</table>\n",
              "</div>"
            ],
            "text/plain": [
              "       EncounterCount\n",
              "count    58624.000000\n",
              "mean       138.757130\n",
              "std        171.005321\n",
              "min          1.000000\n",
              "25%         31.000000\n",
              "50%         74.000000\n",
              "75%        181.000000\n",
              "max       2199.000000"
            ]
          },
          "metadata": {
            "tags": []
          },
          "execution_count": 23
        }
      ]
    },
    {
      "cell_type": "markdown",
      "metadata": {
        "id": "T86xscklJnHM",
        "colab_type": "text"
      },
      "source": [
        "### Inpatient visits"
      ]
    },
    {
      "cell_type": "code",
      "metadata": {
        "id": "eUUncZStJqq3",
        "colab_type": "code",
        "colab": {}
      },
      "source": [
        "%%bigquery df_IP_counts --project $PROJECT_ID\n",
        "SELECT \n",
        "    p.PatientID,\n",
        "    COUNT(DISTINCT COALESCE(ep.PrimaryEncounterID, ep.EncounterID)) AS EncounterCount\n",
        "FROM\n",
        "    MGI_Data.PatientInfoAll p\n",
        "    LEFT OUTER JOIN MGI_Data.Encounter e on e.PatientID = p.PatientID\n",
        "    AND e.ActivityDate > TIMESTAMP('1900-01-01 00:00:00+00:00')\n",
        "    AND e.ActivityDate < TIMESTAMP('2019-06-01 00:00:00+00:00')\n",
        "    LEFT OUTER JOIN MGI_Data.EncounterProperties ep\n",
        "    ON ep.EncounterID = e.EncounterID AND HasLabs + HasMeds + HasObservations + HasOrders + HasProblems + HasProcedures > 0\n",
        "        AND ep.EncounterPatientClassName = 'Inpatient'\n",
        "GROUP BY p.PatientID"
      ],
      "execution_count": 0,
      "outputs": []
    },
    {
      "cell_type": "code",
      "metadata": {
        "id": "oaVo07OSLY76",
        "colab_type": "code",
        "outputId": "24ad81a3-a21a-4425-c289-a882d762c52a",
        "colab": {
          "base_uri": "https://localhost:8080/",
          "height": 297
        }
      },
      "source": [
        "df_IP_counts.describe()"
      ],
      "execution_count": 0,
      "outputs": [
        {
          "output_type": "execute_result",
          "data": {
            "text/html": [
              "<div>\n",
              "<style scoped>\n",
              "    .dataframe tbody tr th:only-of-type {\n",
              "        vertical-align: middle;\n",
              "    }\n",
              "\n",
              "    .dataframe tbody tr th {\n",
              "        vertical-align: top;\n",
              "    }\n",
              "\n",
              "    .dataframe thead th {\n",
              "        text-align: right;\n",
              "    }\n",
              "</style>\n",
              "<table border=\"1\" class=\"dataframe\">\n",
              "  <thead>\n",
              "    <tr style=\"text-align: right;\">\n",
              "      <th></th>\n",
              "      <th>EncounterCount</th>\n",
              "    </tr>\n",
              "  </thead>\n",
              "  <tbody>\n",
              "    <tr>\n",
              "      <th>count</th>\n",
              "      <td>58624.000000</td>\n",
              "    </tr>\n",
              "    <tr>\n",
              "      <th>mean</th>\n",
              "      <td>1.073195</td>\n",
              "    </tr>\n",
              "    <tr>\n",
              "      <th>std</th>\n",
              "      <td>2.203500</td>\n",
              "    </tr>\n",
              "    <tr>\n",
              "      <th>min</th>\n",
              "      <td>0.000000</td>\n",
              "    </tr>\n",
              "    <tr>\n",
              "      <th>25%</th>\n",
              "      <td>0.000000</td>\n",
              "    </tr>\n",
              "    <tr>\n",
              "      <th>50%</th>\n",
              "      <td>0.000000</td>\n",
              "    </tr>\n",
              "    <tr>\n",
              "      <th>75%</th>\n",
              "      <td>1.000000</td>\n",
              "    </tr>\n",
              "    <tr>\n",
              "      <th>max</th>\n",
              "      <td>69.000000</td>\n",
              "    </tr>\n",
              "  </tbody>\n",
              "</table>\n",
              "</div>"
            ],
            "text/plain": [
              "       EncounterCount\n",
              "count    58624.000000\n",
              "mean         1.073195\n",
              "std          2.203500\n",
              "min          0.000000\n",
              "25%          0.000000\n",
              "50%          0.000000\n",
              "75%          1.000000\n",
              "max         69.000000"
            ]
          },
          "metadata": {
            "tags": []
          },
          "execution_count": 25
        }
      ]
    },
    {
      "cell_type": "markdown",
      "metadata": {
        "id": "jAl1mSXvLgra",
        "colab_type": "text"
      },
      "source": [
        "### Non-inpatient visits"
      ]
    },
    {
      "cell_type": "code",
      "metadata": {
        "id": "osFpImQfLid5",
        "colab_type": "code",
        "colab": {}
      },
      "source": [
        "%%bigquery df_NIP_counts --project $PROJECT_ID\n",
        "SELECT \n",
        "    p.PatientID,\n",
        "    COUNT(DISTINCT COALESCE(ep.PrimaryEncounterID, ep.EncounterID)) AS EncounterCount\n",
        "FROM\n",
        "    MGI_Data.PatientInfoAll p\n",
        "    LEFT OUTER JOIN MGI_Data.Encounter e on e.PatientID = p.PatientID\n",
        "    AND e.ActivityDate > TIMESTAMP('1900-01-01 00:00:00+00:00')\n",
        "    AND e.ActivityDate < TIMESTAMP('2019-06-01 00:00:00+00:00')\n",
        "    LEFT OUTER JOIN MGI_Data.EncounterProperties ep\n",
        "    ON ep.EncounterID = e.EncounterID AND HasLabs + HasMeds + HasObservations + HasOrders + HasProblems + HasProcedures > 0\n",
        "        AND (ep.EncounterPatientClassName <> 'Inpatient' or ep.EncounterPatientClassName is NULL)\n",
        "GROUP BY p.PatientID"
      ],
      "execution_count": 0,
      "outputs": []
    },
    {
      "cell_type": "code",
      "metadata": {
        "id": "chyv9jHtLztF",
        "colab_type": "code",
        "outputId": "f3029d63-3c71-46f1-dc8a-fb50ab00ced1",
        "colab": {
          "base_uri": "https://localhost:8080/",
          "height": 297
        }
      },
      "source": [
        "df_NIP_counts.describe()"
      ],
      "execution_count": 0,
      "outputs": [
        {
          "output_type": "execute_result",
          "data": {
            "text/html": [
              "<div>\n",
              "<style scoped>\n",
              "    .dataframe tbody tr th:only-of-type {\n",
              "        vertical-align: middle;\n",
              "    }\n",
              "\n",
              "    .dataframe tbody tr th {\n",
              "        vertical-align: top;\n",
              "    }\n",
              "\n",
              "    .dataframe thead th {\n",
              "        text-align: right;\n",
              "    }\n",
              "</style>\n",
              "<table border=\"1\" class=\"dataframe\">\n",
              "  <thead>\n",
              "    <tr style=\"text-align: right;\">\n",
              "      <th></th>\n",
              "      <th>EncounterCount</th>\n",
              "    </tr>\n",
              "  </thead>\n",
              "  <tbody>\n",
              "    <tr>\n",
              "      <th>count</th>\n",
              "      <td>58624.000000</td>\n",
              "    </tr>\n",
              "    <tr>\n",
              "      <th>mean</th>\n",
              "      <td>138.074321</td>\n",
              "    </tr>\n",
              "    <tr>\n",
              "      <th>std</th>\n",
              "      <td>170.552121</td>\n",
              "    </tr>\n",
              "    <tr>\n",
              "      <th>min</th>\n",
              "      <td>0.000000</td>\n",
              "    </tr>\n",
              "    <tr>\n",
              "      <th>25%</th>\n",
              "      <td>30.000000</td>\n",
              "    </tr>\n",
              "    <tr>\n",
              "      <th>50%</th>\n",
              "      <td>73.000000</td>\n",
              "    </tr>\n",
              "    <tr>\n",
              "      <th>75%</th>\n",
              "      <td>180.000000</td>\n",
              "    </tr>\n",
              "    <tr>\n",
              "      <th>max</th>\n",
              "      <td>2195.000000</td>\n",
              "    </tr>\n",
              "  </tbody>\n",
              "</table>\n",
              "</div>"
            ],
            "text/plain": [
              "       EncounterCount\n",
              "count    58624.000000\n",
              "mean       138.074321\n",
              "std        170.552121\n",
              "min          0.000000\n",
              "25%         30.000000\n",
              "50%         73.000000\n",
              "75%        180.000000\n",
              "max       2195.000000"
            ]
          },
          "metadata": {
            "tags": []
          },
          "execution_count": 27
        }
      ]
    },
    {
      "cell_type": "markdown",
      "metadata": {
        "id": "vNAGN04lME_x",
        "colab_type": "text"
      },
      "source": [
        "### Charted nursing observations"
      ]
    },
    {
      "cell_type": "code",
      "metadata": {
        "id": "Rq2vvySb5G5J",
        "colab_type": "code",
        "cellView": "form",
        "colab": {}
      },
      "source": [
        "#@title Generate part of the query string...\n",
        "\n",
        "vitals1 = [\n",
        "    'SpO2',\n",
        "    'Temperature',\n",
        "    'RespiratoryRate',\n",
        "    'BPMeanInvasive',\n",
        "    'BPDiaInvasive',\n",
        "    'BPSysInvasive',\n",
        "    'BPMeanNonInvasive',\n",
        "    'BPDiaNonInvasive',\n",
        "    'BPSysNonInvasive',\n",
        "    'HeartRate',\n",
        "]\n",
        "vitals2 = [\n",
        "    'VentModeCategory',\n",
        "    'BladderPressure',\n",
        "    'PressureSupportSet',\n",
        "    'FiO2Set',\n",
        "    'PEEPSet',\n",
        "    'FiO2Actual',\n",
        "    'PaO2',\n",
        "    'TidalVolumeSet',\n",
        "    'TidalVolumeActual',\n",
        "    'RespiratoryRateActual',\n",
        "    'RespiratoryRateSet',\n",
        "    'PainScoreTermName',\n",
        "    'PainScoreValue',\n",
        "]\n",
        "\n",
        "for v in vitals1:\n",
        "    print('    COUNT({v}) AS ct_{v},'.format(v=v))\n",
        "\n",
        "print()\n",
        "for v in vitals2:\n",
        "    print('    COUNT({v}) AS ct_{v},'.format(v=v))"
      ],
      "execution_count": 0,
      "outputs": []
    },
    {
      "cell_type": "code",
      "metadata": {
        "id": "KRYg07M_6fRN",
        "colab_type": "code",
        "colab": {}
      },
      "source": [
        "%%bigquery df_patients --project $PROJECT_ID\n",
        "SELECT DISTINCT PatientID FROM MGI_Data.PatientInfoAll"
      ],
      "execution_count": 0,
      "outputs": []
    },
    {
      "cell_type": "code",
      "metadata": {
        "id": "XZZa-Bzg49Yy",
        "colab_type": "code",
        "colab": {}
      },
      "source": [
        "%%bigquery df_vitals1_ct --project $PROJECT_ID\n",
        "SELECT \n",
        "    PatientID,\n",
        "    COUNT(SpO2) AS ct_SpO2,\n",
        "    COUNT(Temperature) AS ct_Temperature,\n",
        "    COUNT(RespiratoryRate) AS ct_RespiratoryRate,\n",
        "    COUNT(BPMeanInvasive) AS ct_BPMeanInvasive,\n",
        "    COUNT(BPDiaInvasive) AS ct_BPDiaInvasive,\n",
        "    COUNT(BPSysInvasive) AS ct_BPSysInvasive,\n",
        "    COUNT(BPMeanNonInvasive) AS ct_BPMeanNonInvasive,\n",
        "    COUNT(BPDiaNonInvasive) AS ct_BPDiaNonInvasive,\n",
        "    COUNT(BPSysNonInvasive) AS ct_BPSysNonInvasive,\n",
        "    COUNT(HeartRate) AS ct_HeartRate\n",
        "FROM MGI_Data.NursingStandardVitalSigns\n",
        "GROUP BY PatientID"
      ],
      "execution_count": 0,
      "outputs": []
    },
    {
      "cell_type": "code",
      "metadata": {
        "id": "ntJZHiQ85xYN",
        "colab_type": "code",
        "colab": {}
      },
      "source": [
        "%%bigquery df_vitals2_ct --project $PROJECT_ID\n",
        "SELECT \n",
        "    PatientID,\n",
        "    COUNT(VentModeCategory) AS ct_VentModeCategory,\n",
        "    COUNT(BladderPressure) AS ct_BladderPressure,\n",
        "    COUNT(PressureSupportSet) AS ct_PressureSupportSet,\n",
        "    COUNT(FiO2Set) AS ct_FiO2Set,\n",
        "    COUNT(PEEPSet) AS ct_PEEPSet,\n",
        "    COUNT(FiO2Actual) AS ct_FiO2Actual,\n",
        "    COUNT(PaO2) AS ct_PaO2,\n",
        "    COUNT(TidalVolumeSet) AS ct_TidalVolumeSet,\n",
        "    COUNT(TidalVolumeActual) AS ct_TidalVolumeActual,\n",
        "    COUNT(RespiratoryRateActual) AS ct_RespiratoryRateActual,\n",
        "    COUNT(RespiratoryRateSet) AS ct_RespiratoryRateSet,\n",
        "    COUNT(PainScoreTermName) AS ct_PainScoreTermName,\n",
        "    COUNT(PainScoreValue) AS ct_PainScoreValue\n",
        "FROM MGI_Data.NursingUncommonVitalSigns\n",
        "GROUP BY PatientID"
      ],
      "execution_count": 0,
      "outputs": []
    },
    {
      "cell_type": "code",
      "metadata": {
        "id": "H7MDwQX557jt",
        "colab_type": "code",
        "colab": {}
      },
      "source": [
        "df_vitals_ct = df_patients.set_index('PatientID') \\\n",
        "    .join(df_vitals1_ct.set_index('PatientID'), how='outer') \\\n",
        "    .join(df_vitals2_ct.set_index('PatientID'), how='outer') \\\n",
        "    .fillna(0)"
      ],
      "execution_count": 0,
      "outputs": []
    },
    {
      "cell_type": "code",
      "metadata": {
        "id": "HwCajKNl7BEr",
        "colab_type": "code",
        "outputId": "14f01f2d-be26-4b61-e0d4-ef77319c8121",
        "colab": {
          "base_uri": "https://localhost:8080/",
          "height": 297
        }
      },
      "source": [
        "pd.DataFrame(df_vitals_ct.T.sum()).describe()"
      ],
      "execution_count": 0,
      "outputs": [
        {
          "output_type": "execute_result",
          "data": {
            "text/html": [
              "<div>\n",
              "<style scoped>\n",
              "    .dataframe tbody tr th:only-of-type {\n",
              "        vertical-align: middle;\n",
              "    }\n",
              "\n",
              "    .dataframe tbody tr th {\n",
              "        vertical-align: top;\n",
              "    }\n",
              "\n",
              "    .dataframe thead th {\n",
              "        text-align: right;\n",
              "    }\n",
              "</style>\n",
              "<table border=\"1\" class=\"dataframe\">\n",
              "  <thead>\n",
              "    <tr style=\"text-align: right;\">\n",
              "      <th></th>\n",
              "      <th>0</th>\n",
              "    </tr>\n",
              "  </thead>\n",
              "  <tbody>\n",
              "    <tr>\n",
              "      <th>count</th>\n",
              "      <td>58624.000000</td>\n",
              "    </tr>\n",
              "    <tr>\n",
              "      <th>mean</th>\n",
              "      <td>618.568726</td>\n",
              "    </tr>\n",
              "    <tr>\n",
              "      <th>std</th>\n",
              "      <td>1647.694437</td>\n",
              "    </tr>\n",
              "    <tr>\n",
              "      <th>min</th>\n",
              "      <td>0.000000</td>\n",
              "    </tr>\n",
              "    <tr>\n",
              "      <th>25%</th>\n",
              "      <td>64.000000</td>\n",
              "    </tr>\n",
              "    <tr>\n",
              "      <th>50%</th>\n",
              "      <td>176.000000</td>\n",
              "    </tr>\n",
              "    <tr>\n",
              "      <th>75%</th>\n",
              "      <td>521.000000</td>\n",
              "    </tr>\n",
              "    <tr>\n",
              "      <th>max</th>\n",
              "      <td>79675.000000</td>\n",
              "    </tr>\n",
              "  </tbody>\n",
              "</table>\n",
              "</div>"
            ],
            "text/plain": [
              "                  0\n",
              "count  58624.000000\n",
              "mean     618.568726\n",
              "std     1647.694437\n",
              "min        0.000000\n",
              "25%       64.000000\n",
              "50%      176.000000\n",
              "75%      521.000000\n",
              "max    79675.000000"
            ]
          },
          "metadata": {
            "tags": []
          },
          "execution_count": 77
        }
      ]
    },
    {
      "cell_type": "markdown",
      "metadata": {
        "id": "gXLxQo1cMPOu",
        "colab_type": "text"
      },
      "source": [
        "### Labs"
      ]
    },
    {
      "cell_type": "code",
      "metadata": {
        "id": "HbE7tMKtMTeE",
        "colab_type": "code",
        "colab": {}
      },
      "source": [
        "%%bigquery df_lab_count --project $PROJECT_ID\n",
        "SELECT \n",
        "    p.PatientID,\n",
        "    COUNT(DISTINCT lr.RDW_Labresult_id) AS LabCount\n",
        "FROM \n",
        "    MGI_Data.PatientInfoAll p LEFT OUTER JOIN \n",
        "    MGI_Data.LabResults lr ON p.PatientID = lr.PatientID\n",
        "GROUP BY p.PatientID"
      ],
      "execution_count": 0,
      "outputs": []
    },
    {
      "cell_type": "code",
      "metadata": {
        "id": "Dd-eksgxZpEq",
        "colab_type": "code",
        "outputId": "0c99bf20-e71b-47a6-e9e2-4fb73d0974e5",
        "colab": {
          "base_uri": "https://localhost:8080/",
          "height": 297
        }
      },
      "source": [
        "df_lab_count.describe()"
      ],
      "execution_count": 0,
      "outputs": [
        {
          "output_type": "execute_result",
          "data": {
            "text/html": [
              "<div>\n",
              "<style scoped>\n",
              "    .dataframe tbody tr th:only-of-type {\n",
              "        vertical-align: middle;\n",
              "    }\n",
              "\n",
              "    .dataframe tbody tr th {\n",
              "        vertical-align: top;\n",
              "    }\n",
              "\n",
              "    .dataframe thead th {\n",
              "        text-align: right;\n",
              "    }\n",
              "</style>\n",
              "<table border=\"1\" class=\"dataframe\">\n",
              "  <thead>\n",
              "    <tr style=\"text-align: right;\">\n",
              "      <th></th>\n",
              "      <th>LabCount</th>\n",
              "    </tr>\n",
              "  </thead>\n",
              "  <tbody>\n",
              "    <tr>\n",
              "      <th>count</th>\n",
              "      <td>58624.000000</td>\n",
              "    </tr>\n",
              "    <tr>\n",
              "      <th>mean</th>\n",
              "      <td>692.301139</td>\n",
              "    </tr>\n",
              "    <tr>\n",
              "      <th>std</th>\n",
              "      <td>1498.500836</td>\n",
              "    </tr>\n",
              "    <tr>\n",
              "      <th>min</th>\n",
              "      <td>0.000000</td>\n",
              "    </tr>\n",
              "    <tr>\n",
              "      <th>25%</th>\n",
              "      <td>59.000000</td>\n",
              "    </tr>\n",
              "    <tr>\n",
              "      <th>50%</th>\n",
              "      <td>213.000000</td>\n",
              "    </tr>\n",
              "    <tr>\n",
              "      <th>75%</th>\n",
              "      <td>661.000000</td>\n",
              "    </tr>\n",
              "    <tr>\n",
              "      <th>max</th>\n",
              "      <td>27883.000000</td>\n",
              "    </tr>\n",
              "  </tbody>\n",
              "</table>\n",
              "</div>"
            ],
            "text/plain": [
              "           LabCount\n",
              "count  58624.000000\n",
              "mean     692.301139\n",
              "std     1498.500836\n",
              "min        0.000000\n",
              "25%       59.000000\n",
              "50%      213.000000\n",
              "75%      661.000000\n",
              "max    27883.000000"
            ]
          },
          "metadata": {
            "tags": []
          },
          "execution_count": 29
        }
      ]
    },
    {
      "cell_type": "markdown",
      "metadata": {
        "id": "jTvMdJ7lMQls",
        "colab_type": "text"
      },
      "source": [
        "### Medications"
      ]
    },
    {
      "cell_type": "code",
      "metadata": {
        "id": "-88lDR3BMS4U",
        "colab_type": "code",
        "colab": {}
      },
      "source": [
        "%%bigquery df_med_count --project $PROJECT_ID\n",
        "SELECT \n",
        "    p.PatientID,\n",
        "    COUNT(DISTINCT MA.MedicationAdministrationID) AS MedCount\n",
        "FROM \n",
        "    MGI_Data.PatientInfoAll p LEFT OUTER JOIN\n",
        "    MGI_Data.MedicationAdministrationsComprehensive ma on p.PatientID = ma.PatientID\n",
        "GROUP BY p.PatientID"
      ],
      "execution_count": 0,
      "outputs": []
    },
    {
      "cell_type": "code",
      "metadata": {
        "id": "Ab78OpsONruc",
        "colab_type": "code",
        "outputId": "819e0285-8511-4bda-92a4-59448a518fd6",
        "colab": {
          "base_uri": "https://localhost:8080/",
          "height": 297
        }
      },
      "source": [
        "df_med_count.describe()"
      ],
      "execution_count": 0,
      "outputs": [
        {
          "output_type": "execute_result",
          "data": {
            "text/html": [
              "<div>\n",
              "<style scoped>\n",
              "    .dataframe tbody tr th:only-of-type {\n",
              "        vertical-align: middle;\n",
              "    }\n",
              "\n",
              "    .dataframe tbody tr th {\n",
              "        vertical-align: top;\n",
              "    }\n",
              "\n",
              "    .dataframe thead th {\n",
              "        text-align: right;\n",
              "    }\n",
              "</style>\n",
              "<table border=\"1\" class=\"dataframe\">\n",
              "  <thead>\n",
              "    <tr style=\"text-align: right;\">\n",
              "      <th></th>\n",
              "      <th>MedCount</th>\n",
              "    </tr>\n",
              "  </thead>\n",
              "  <tbody>\n",
              "    <tr>\n",
              "      <th>count</th>\n",
              "      <td>58624.000000</td>\n",
              "    </tr>\n",
              "    <tr>\n",
              "      <th>mean</th>\n",
              "      <td>216.377661</td>\n",
              "    </tr>\n",
              "    <tr>\n",
              "      <th>std</th>\n",
              "      <td>665.978059</td>\n",
              "    </tr>\n",
              "    <tr>\n",
              "      <th>min</th>\n",
              "      <td>0.000000</td>\n",
              "    </tr>\n",
              "    <tr>\n",
              "      <th>25%</th>\n",
              "      <td>12.000000</td>\n",
              "    </tr>\n",
              "    <tr>\n",
              "      <th>50%</th>\n",
              "      <td>45.000000</td>\n",
              "    </tr>\n",
              "    <tr>\n",
              "      <th>75%</th>\n",
              "      <td>161.000000</td>\n",
              "    </tr>\n",
              "    <tr>\n",
              "      <th>max</th>\n",
              "      <td>21740.000000</td>\n",
              "    </tr>\n",
              "  </tbody>\n",
              "</table>\n",
              "</div>"
            ],
            "text/plain": [
              "           MedCount\n",
              "count  58624.000000\n",
              "mean     216.377661\n",
              "std      665.978059\n",
              "min        0.000000\n",
              "25%       12.000000\n",
              "50%       45.000000\n",
              "75%      161.000000\n",
              "max    21740.000000"
            ]
          },
          "metadata": {
            "tags": []
          },
          "execution_count": 32
        }
      ]
    },
    {
      "cell_type": "markdown",
      "metadata": {
        "id": "8J3Ym6M2MgAh",
        "colab_type": "text"
      },
      "source": [
        "### Comorbidities"
      ]
    },
    {
      "cell_type": "code",
      "metadata": {
        "id": "LwnCDlPZMiC-",
        "colab_type": "code",
        "colab": {}
      },
      "source": [
        "%%bigquery df_pat_elix_cnt --project $PROJECT_ID\n",
        "SELECT \n",
        "    p.PatientID, \n",
        "    COALESCE(d.ComorbidityCount, 0) AS ComorbidityCount\n",
        "FROM MGI_Data.PatientInfoAll p \n",
        "LEFT OUTER JOIN\n",
        "(\n",
        "    SELECT \n",
        "        i.PatientID,\n",
        "        i.ElixhauserAlcoholAbuse + i.ElixhauserBloodLossAnemia\n",
        "            + i.ElixhauserCardiacArrhythmias + i.ElixhauserChronicPulmonaryDisease + i.ElixhauserCoagulopathy\n",
        "            + i.ElixhauserCongestiveHeartFailure + i.ElixhauserDeficiencyAnemia + i.ElixhauserDepression\n",
        "            + i.ElixhauserDiabetesComplicated + i.ElixhauserDiabetesUncomplicated + i.ElixhauserDrugAbuse\n",
        "            + i.ElixhauserFluidElectrolyteDisorders + i.ElixhauserHypertensionComplicated\n",
        "            + i.ElixhauserHypertensionUncomplicated + i.ElixhauserHypothyroidism + i.ElixhauserLiverDisease\n",
        "            + i.ElixhauserLymphoma + i.ElixhauserMetastaticCancer + i.ElixhauserObesity\n",
        "            + i.ElixhauserOtherNeurologicalDisorders + i.ElixhauserParalysis\n",
        "            + i.ElixhauserPepticUlcerDiseaseExcludingBleeding + i.ElixhauserPeripheralVascularDisorders\n",
        "            + i.ElixhauserPsychoses + i.ElixhauserPulmonaryCirculationDisorders + i.ElixhauserRenalFailure\n",
        "            + i.ElixhauserRheumatoidArthritisCollagenVascularDiseases + i.ElixhauserSolidTumorWithoutMetastasis\n",
        "            + i.ElixhauserValvularDisease + i.ElixhauserWeightLoss \n",
        "        AS ComorbidityCount\n",
        "    FROM\n",
        "    (\n",
        "        SELECT \n",
        "            p.patientID,\n",
        "            MAX(CASE WHEN ElixhauserAlcoholAbuse >= 0 THEN elix.ElixhauserAlcoholAbuse ELSE 0 end) AS ElixhauserAlcoholAbuse,\n",
        "            MAX(CASE WHEN ElixhauserBloodLossAnemia >= 0 THEN elix.ElixhauserBloodLossAnemia ELSE 0 end) AS ElixhauserBloodLossAnemia,\n",
        "            MAX(CASE WHEN ElixhauserCardiacArrhythmias >= 0 THEN elix.ElixhauserCardiacArrhythmias ELSE 0 end) AS ElixhauserCardiacArrhythmias,\n",
        "            MAX(CASE WHEN ElixhauserChronicPulmonaryDisease >= 0 THEN elix.ElixhauserChronicPulmonaryDisease ELSE 0 end) AS ElixhauserChronicPulmonaryDisease,\n",
        "            MAX(CASE WHEN ElixhauserCoagulopathy >= 0 THEN elix.ElixhauserCoagulopathy ELSE 0 end) AS ElixhauserCoagulopathy,\n",
        "            MAX(CASE WHEN ElixhauserCongestiveHeartFailure >= 0 THEN elix.ElixhauserCongestiveHeartFailure ELSE 0 end) AS ElixhauserCongestiveHeartFailure,\n",
        "            MAX(CASE WHEN ElixhauserDeficiencyAnemia >= 0 THEN elix.ElixhauserDeficiencyAnemia ELSE 0 end) AS ElixhauserDeficiencyAnemia,\n",
        "            MAX(CASE WHEN ElixhauserDepression >= 0 THEN elix.ElixhauserDepression ELSE 0 end) AS ElixhauserDepression,\n",
        "            MAX(CASE WHEN ElixhauserDiabetesComplicated >= 0 THEN elix.ElixhauserDiabetesComplicated ELSE 0 end) AS ElixhauserDiabetesComplicated,\n",
        "            MAX(CASE WHEN ElixhauserDiabetesUncomplicated >= 0 THEN elix.ElixhauserDiabetesUncomplicated ELSE 0 end) AS ElixhauserDiabetesUncomplicated,\n",
        "            MAX(CASE WHEN ElixhauserDrugAbuse >= 0 THEN elix.ElixhauserDrugAbuse ELSE 0 end) AS ElixhauserDrugAbuse,\n",
        "            MAX(CASE WHEN ElixhauserFluidElectrolyteDisorders >= 0 THEN elix.ElixhauserFluidElectrolyteDisorders ELSE 0 end) AS ElixhauserFluidElectrolyteDisorders,\n",
        "            MAX(CASE WHEN ElixhauserHypertensionComplicated >= 0 THEN elix.ElixhauserHypertensionComplicated ELSE 0 end) AS ElixhauserHypertensionComplicated,\n",
        "            MAX(CASE WHEN ElixhauserHypertensionUncomplicated >= 0 THEN elix.ElixhauserHypertensionUncomplicated ELSE 0 end) AS ElixhauserHypertensionUncomplicated,\n",
        "            MAX(CASE WHEN ElixhauserHypothyroidism >= 0 THEN elix.ElixhauserHypothyroidism ELSE 0 end) AS ElixhauserHypothyroidism,\n",
        "            MAX(CASE WHEN ElixhauserLiverDisease >= 0 THEN elix.ElixhauserLiverDisease ELSE 0 end) AS ElixhauserLiverDisease,\n",
        "            MAX(CASE WHEN ElixhauserLymphoma >= 0 THEN elix.ElixhauserLymphoma ELSE 0 end) AS ElixhauserLymphoma,\n",
        "            MAX(CASE WHEN ElixhauserMetastaticCancer >= 0 THEN elix.ElixhauserMetastaticCancer ELSE 0 end) AS ElixhauserMetastaticCancer,\n",
        "            MAX(CASE WHEN ElixhauserObesity >= 0 THEN elix.ElixhauserObesity ELSE 0 end) AS ElixhauserObesity,\n",
        "            MAX(CASE WHEN ElixhauserOtherNeurologicalDisorders >= 0 THEN elix.ElixhauserOtherNeurologicalDisorders ELSE 0 end) AS ElixhauserOtherNeurologicalDisorders,\n",
        "            MAX(CASE WHEN ElixhauserParalysis >= 0 THEN elix.ElixhauserParalysis ELSE 0 end) AS ElixhauserParalysis,\n",
        "            MAX(CASE WHEN ElixhauserPepticUlcerDiseaseExcludingBleeding >= 0 THEN elix.ElixhauserPepticUlcerDiseaseExcludingBleeding ELSE 0 end) AS ElixhauserPepticUlcerDiseaseExcludingBleeding,\n",
        "            MAX(CASE WHEN ElixhauserPeripheralVascularDisorders >= 0 THEN elix.ElixhauserPeripheralVascularDisorders ELSE 0 end) AS ElixhauserPeripheralVascularDisorders,\n",
        "            MAX(CASE WHEN ElixhauserPsychoses >= 0 THEN elix.ElixhauserPsychoses ELSE 0 end) AS ElixhauserPsychoses,\n",
        "            MAX(CASE WHEN ElixhauserPulmonaryCirculationDisorders >= 0 THEN elix.ElixhauserPulmonaryCirculationDisorders ELSE 0 end) AS ElixhauserPulmonaryCirculationDisorders,\n",
        "            MAX(CASE WHEN ElixhauserRenalFailure >= 0 THEN elix.ElixhauserRenalFailure ELSE 0 end) AS ElixhauserRenalFailure,\n",
        "            MAX(CASE WHEN ElixhauserRheumatoidArthritisCollagenVascularDiseases >= 0 THEN elix.ElixhauserRheumatoidArthritisCollagenVascularDiseases ELSE 0 end) AS ElixhauserRheumatoidArthritisCollagenVascularDiseases,\n",
        "            MAX(CASE WHEN ElixhauserSolidTumorWithoutMetastasis >= 0 THEN elix.ElixhauserSolidTumorWithoutMetastasis ELSE 0 end) AS ElixhauserSolidTumorWithoutMetastasis,\n",
        "            MAX(CASE WHEN ElixhauserValvularDisease >= 0 THEN elix.ElixhauserValvularDisease ELSE 0 end) AS ElixhauserValvularDisease,\n",
        "            MAX(CASE WHEN ElixhauserWeightLoss >= 0 THEN elix.ElixhauserWeightLoss ELSE 0 end) AS ElixhauserWeightLoss\n",
        "        FROM MGI_Data.PatientInfoAll p\n",
        "            JOIN MGI_Data.Encounter e\n",
        "                ON e.PatientID = p.patientID\n",
        "            JOIN MGI_Data.EncounterComorbiditiesElixhauser elix\n",
        "                ON elix.EncounterID = e.EncounterID\n",
        "        GROUP BY p.patientID\n",
        "    ) i\n",
        ") d\n",
        "ON d.PatientID = p.PatientID"
      ],
      "execution_count": 0,
      "outputs": []
    },
    {
      "cell_type": "code",
      "metadata": {
        "id": "hAw1J5FD4V6z",
        "colab_type": "code",
        "outputId": "1a6e9aea-f64e-455c-a57e-a729d5b66e66",
        "colab": {
          "base_uri": "https://localhost:8080/",
          "height": 297
        }
      },
      "source": [
        "df_pat_elix_cnt.describe()"
      ],
      "execution_count": 0,
      "outputs": [
        {
          "output_type": "execute_result",
          "data": {
            "text/html": [
              "<div>\n",
              "<style scoped>\n",
              "    .dataframe tbody tr th:only-of-type {\n",
              "        vertical-align: middle;\n",
              "    }\n",
              "\n",
              "    .dataframe tbody tr th {\n",
              "        vertical-align: top;\n",
              "    }\n",
              "\n",
              "    .dataframe thead th {\n",
              "        text-align: right;\n",
              "    }\n",
              "</style>\n",
              "<table border=\"1\" class=\"dataframe\">\n",
              "  <thead>\n",
              "    <tr style=\"text-align: right;\">\n",
              "      <th></th>\n",
              "      <th>ComorbidityCount</th>\n",
              "    </tr>\n",
              "  </thead>\n",
              "  <tbody>\n",
              "    <tr>\n",
              "      <th>count</th>\n",
              "      <td>75623.000000</td>\n",
              "    </tr>\n",
              "    <tr>\n",
              "      <th>mean</th>\n",
              "      <td>4.686352</td>\n",
              "    </tr>\n",
              "    <tr>\n",
              "      <th>std</th>\n",
              "      <td>3.772864</td>\n",
              "    </tr>\n",
              "    <tr>\n",
              "      <th>min</th>\n",
              "      <td>0.000000</td>\n",
              "    </tr>\n",
              "    <tr>\n",
              "      <th>25%</th>\n",
              "      <td>2.000000</td>\n",
              "    </tr>\n",
              "    <tr>\n",
              "      <th>50%</th>\n",
              "      <td>4.000000</td>\n",
              "    </tr>\n",
              "    <tr>\n",
              "      <th>75%</th>\n",
              "      <td>7.000000</td>\n",
              "    </tr>\n",
              "    <tr>\n",
              "      <th>max</th>\n",
              "      <td>26.000000</td>\n",
              "    </tr>\n",
              "  </tbody>\n",
              "</table>\n",
              "</div>"
            ],
            "text/plain": [
              "       ComorbidityCount\n",
              "count      75623.000000\n",
              "mean           4.686352\n",
              "std            3.772864\n",
              "min            0.000000\n",
              "25%            2.000000\n",
              "50%            4.000000\n",
              "75%            7.000000\n",
              "max           26.000000"
            ]
          },
          "metadata": {
            "tags": []
          },
          "execution_count": 39
        }
      ]
    },
    {
      "cell_type": "markdown",
      "metadata": {
        "id": "64Udx8e_M9NS",
        "colab_type": "text"
      },
      "source": [
        "## Table 2: Distribution of comorbidities according to the 30 Elixhauser comorbidity measures. \n"
      ]
    },
    {
      "cell_type": "code",
      "metadata": {
        "id": "v6w_ad7ZGT5e",
        "colab_type": "code",
        "cellView": "form",
        "colab": {}
      },
      "source": [
        "#@title Generate part of the query string...\n",
        "\n",
        "elixhauser = [\n",
        "    'ElixhauserCongestiveHeartFailure',\n",
        "    'ElixhauserCardiacArrhythmias',\n",
        "    'ElixhauserValvularDisease',\n",
        "    'ElixhauserPulmonaryCirculationDisorders',\n",
        "    'ElixhauserPeripheralVascularDisorders',\n",
        "    'ElixhauserHypertensionUncomplicated',\n",
        "    'ElixhauserHypertensionComplicated',\n",
        "    'ElixhauserParalysis',\n",
        "    'ElixhauserOtherNeurologicalDisorders',\n",
        "    'ElixhauserChronicPulmonaryDisease',\n",
        "    'ElixhauserDiabetesUncomplicated',\n",
        "    'ElixhauserDiabetesComplicated',\n",
        "    'ElixhauserHypothyroidism',\n",
        "    'ElixhauserRenalFailure',\n",
        "    'ElixhauserLiverDisease',\n",
        "    'ElixhauserPepticUlcerDiseaseExcludingBleeding',\n",
        "    'ElixhauserLymphoma',\n",
        "    'ElixhauserMetastaticCancer',\n",
        "    'ElixhauserSolidTumorWithoutMetastasis',\n",
        "    'ElixhauserRheumatoidArthritisCollagenVascularDiseases',\n",
        "    'ElixhauserCoagulopathy',\n",
        "    'ElixhauserObesity',\n",
        "    'ElixhauserWeightLoss',\n",
        "    'ElixhauserFluidElectrolyteDisorders',\n",
        "    'ElixhauserBloodLossAnemia',\n",
        "    'ElixhauserDeficiencyAnemia',\n",
        "    'ElixhauserAlcoholAbuse',\n",
        "    'ElixhauserDrugAbuse',\n",
        "    'ElixhauserPsychoses',\n",
        "    'ElixhauserDepression',\n",
        "]\n",
        "\n",
        "l_ = max(len(e_) for e_ in elixhauser)\n",
        "for e_ in elixhauser:\n",
        "    print(\n",
        "        '    SUM({}) {} AS {} {},'.format(\n",
        "            e_, ' ' * (l_-len(e_)), \n",
        "            e_, ' ' * (l_-len(e_)))\n",
        "    )\n",
        "\n",
        "# print()\n",
        "# for e_ in elixhauser:\n",
        "#     print(\n",
        "#         '    MAX(CASE WHEN {} {} >= 0 THEN {} {} ELSE 0 END) AS {} {},'.format(\n",
        "#             e_, ' ' * (l_-len(e_)), \n",
        "#             e_, ' ' * (l_-len(e_)), \n",
        "#             e_, ' ' * (l_-len(e_)))\n",
        "#     )"
      ],
      "execution_count": 0,
      "outputs": []
    },
    {
      "cell_type": "markdown",
      "metadata": {
        "id": "WnA_3SoJVaGF",
        "colab_type": "text"
      },
      "source": [
        "### Patient-level counts\n",
        "\n",
        "A patient is considered having the comorbidity if the corresponding ICD9/10 code was documented at least once"
      ]
    },
    {
      "cell_type": "code",
      "metadata": {
        "id": "rcQiNtSaV2uB",
        "colab_type": "code",
        "colab": {}
      },
      "source": [
        "# Option 1\n",
        "%%bigquery df_elix_pat_counts --project $PROJECT_ID\n",
        "SELECT SUM(ElixhauserAlcoholAbuse) AS ElixhauserAlcoholAbuse,\n",
        "       SUM(ElixhauserBloodLossAnemia) AS ElixhauserBloodLossAnemia,\n",
        "       SUM(ElixhauserCardiacArrhythmias) AS ElixhauserCardiacArrhythmias,\n",
        "       SUM(ElixhauserChronicPulmonaryDisease) AS ElixhauserChronicPulmonaryDisease,\n",
        "       SUM(ElixhauserCoagulopathy) AS ElixhauserCoagulopathy,\n",
        "       SUM(ElixhauserCongestiveHeartFailure) AS ElixhauserCongestiveHeartFailure,\n",
        "       SUM(ElixhauserDeficiencyAnemia) AS ElixhauserDeficiencyAnemia,\n",
        "       SUM(ElixhauserDepression) AS ElixhauserDepression,\n",
        "       SUM(ElixhauserDiabetesComplicated) AS ElixhauserDiabetesComplicated,\n",
        "       SUM(ElixhauserDiabetesUncomplicated) AS ElixhauserDiabetesUncomplicated,\n",
        "       SUM(ElixhauserDrugAbuse) AS ElixhauserDrugAbuse,\n",
        "       SUM(ElixhauserFluidElectrolyteDisorders) AS ElixhauserFluidElectrolyteDisorders,\n",
        "       SUM(ElixhauserHypertensionComplicated) AS ElixhauserHypertensionComplicated,\n",
        "       SUM(ElixhauserHypertensionUncomplicated) AS ElixhauserHypertensionUncomplicated,\n",
        "       SUM(ElixhauserHypothyroidism) AS ElixhauserHypothyroidism,\n",
        "       SUM(ElixhauserLiverDisease) AS ElixhauserLiverDisease,\n",
        "       SUM(ElixhauserLymphoma) AS ElixhauserLymphoma,\n",
        "       SUM(ElixhauserMetastaticCancer) AS ElixhauserMetastaticCancer,\n",
        "       SUM(ElixhauserObesity) AS ElixhauserObesity,\n",
        "       SUM(ElixhauserOtherNeurologicalDisorders) AS ElixhauserOtherNeurologicalDisorders,\n",
        "       SUM(ElixhauserParalysis) AS ElixhauserParalysis,\n",
        "       SUM(ElixhauserPepticUlcerDiseaseExcludingBleeding) AS ElixhauserPepticUlcerDiseaseExcludingBleeding,\n",
        "       SUM(ElixhauserPeripheralVascularDisorders) AS ElixhauserPeripheralVascularDisorders,\n",
        "       SUM(ElixhauserPsychoses) AS ElixhauserPsychoses,\n",
        "       SUM(ElixhauserPulmonaryCirculationDisorders) AS ElixhauserPulmonaryCirculationDisorders,\n",
        "       SUM(ElixhauserRenalFailure) AS ElixhauserRenalFailure,\n",
        "       SUM(ElixhauserRheumatoidArthritisCollagenVascularDiseases) AS ElixhauserRheumatoidArthritisCollagenVascularDiseases,\n",
        "       SUM(ElixhauserSolidTumorWithoutMetastasis) AS ElixhauserSolidTumorWithoutMetastasis,\n",
        "       SUM(ElixhauserValvularDisease) AS ElixhauserValvularDisease,\n",
        "       SUM(ElixhauserWeightLoss) AS ElixhauserWeightLoss\n",
        "FROM\n",
        "(\n",
        "    SELECT p.patientID,\n",
        "           MAX(CASE WHEN ElixhauserAlcoholAbuse >= 0 THEN elix.ElixhauserAlcoholAbuse ELSE 0 end) AS ElixhauserAlcoholAbuse,\n",
        "           MAX(CASE WHEN ElixhauserBloodLossAnemia >= 0 THEN elix.ElixhauserBloodLossAnemia ELSE 0 end) AS ElixhauserBloodLossAnemia,\n",
        "           MAX(CASE WHEN ElixhauserCardiacArrhythmias >= 0 THEN elix.ElixhauserCardiacArrhythmias ELSE 0 end) AS ElixhauserCardiacArrhythmias,\n",
        "           MAX(CASE WHEN ElixhauserChronicPulmonaryDisease >= 0 THEN elix.ElixhauserChronicPulmonaryDisease ELSE 0 end) AS ElixhauserChronicPulmonaryDisease,\n",
        "           MAX(CASE WHEN ElixhauserCoagulopathy >= 0 THEN elix.ElixhauserCoagulopathy ELSE 0 end) AS ElixhauserCoagulopathy,\n",
        "           MAX(CASE WHEN ElixhauserCongestiveHeartFailure >= 0 THEN elix.ElixhauserCongestiveHeartFailure ELSE 0 end) AS ElixhauserCongestiveHeartFailure,\n",
        "           MAX(CASE WHEN ElixhauserDeficiencyAnemia >= 0 THEN elix.ElixhauserDeficiencyAnemia ELSE 0 end) AS ElixhauserDeficiencyAnemia,\n",
        "           MAX(CASE WHEN ElixhauserDepression >= 0 THEN elix.ElixhauserDepression ELSE 0 end) AS ElixhauserDepression,\n",
        "           MAX(CASE WHEN ElixhauserDiabetesComplicated >= 0 THEN elix.ElixhauserDiabetesComplicated ELSE 0 end) AS ElixhauserDiabetesComplicated,\n",
        "           MAX(CASE WHEN ElixhauserDiabetesUncomplicated >= 0 THEN elix.ElixhauserDiabetesUncomplicated ELSE 0 end) AS ElixhauserDiabetesUncomplicated,\n",
        "           MAX(CASE WHEN ElixhauserDrugAbuse >= 0 THEN elix.ElixhauserDrugAbuse ELSE 0 end) AS ElixhauserDrugAbuse,\n",
        "           MAX(CASE WHEN ElixhauserFluidElectrolyteDisorders >= 0 THEN elix.ElixhauserFluidElectrolyteDisorders ELSE 0 end) AS ElixhauserFluidElectrolyteDisorders,\n",
        "           MAX(CASE WHEN ElixhauserHypertensionComplicated >= 0 THEN elix.ElixhauserHypertensionComplicated ELSE 0 end) AS ElixhauserHypertensionComplicated,\n",
        "           MAX(CASE WHEN ElixhauserHypertensionUncomplicated >= 0 THEN elix.ElixhauserHypertensionUncomplicated ELSE 0 end) AS ElixhauserHypertensionUncomplicated,\n",
        "           MAX(CASE WHEN ElixhauserHypothyroidism >= 0 THEN elix.ElixhauserHypothyroidism ELSE 0 end) AS ElixhauserHypothyroidism,\n",
        "           MAX(CASE WHEN ElixhauserLiverDisease >= 0 THEN elix.ElixhauserLiverDisease ELSE 0 end) AS ElixhauserLiverDisease,\n",
        "           MAX(CASE WHEN ElixhauserLymphoma >= 0 THEN elix.ElixhauserLymphoma ELSE 0 end) AS ElixhauserLymphoma,\n",
        "           MAX(CASE WHEN ElixhauserMetastaticCancer >= 0 THEN elix.ElixhauserMetastaticCancer ELSE 0 end) AS ElixhauserMetastaticCancer,\n",
        "           MAX(CASE WHEN ElixhauserObesity >= 0 THEN elix.ElixhauserObesity ELSE 0 end) AS ElixhauserObesity,\n",
        "           MAX(CASE WHEN ElixhauserOtherNeurologicalDisorders >= 0 THEN elix.ElixhauserOtherNeurologicalDisorders ELSE 0 end) AS ElixhauserOtherNeurologicalDisorders,\n",
        "           MAX(CASE WHEN ElixhauserParalysis >= 0 THEN elix.ElixhauserParalysis ELSE 0 end) AS ElixhauserParalysis,\n",
        "           MAX(CASE WHEN ElixhauserPepticUlcerDiseaseExcludingBleeding >= 0 THEN elix.ElixhauserPepticUlcerDiseaseExcludingBleeding ELSE 0 end) AS ElixhauserPepticUlcerDiseaseExcludingBleeding,\n",
        "           MAX(CASE WHEN ElixhauserPeripheralVascularDisorders >= 0 THEN elix.ElixhauserPeripheralVascularDisorders ELSE 0 end) AS ElixhauserPeripheralVascularDisorders,\n",
        "           MAX(CASE WHEN ElixhauserPsychoses >= 0 THEN elix.ElixhauserPsychoses ELSE 0 end) AS ElixhauserPsychoses,\n",
        "           MAX(CASE WHEN ElixhauserPulmonaryCirculationDisorders >= 0 THEN elix.ElixhauserPulmonaryCirculationDisorders ELSE 0 end) AS ElixhauserPulmonaryCirculationDisorders,\n",
        "           MAX(CASE WHEN ElixhauserRenalFailure >= 0 THEN elix.ElixhauserRenalFailure ELSE 0 end) AS ElixhauserRenalFailure,\n",
        "           MAX(CASE WHEN ElixhauserRheumatoidArthritisCollagenVascularDiseases >= 0 THEN elix.ElixhauserRheumatoidArthritisCollagenVascularDiseases ELSE 0 end) AS ElixhauserRheumatoidArthritisCollagenVascularDiseases,\n",
        "           MAX(CASE WHEN ElixhauserSolidTumorWithoutMetastasis >= 0 THEN elix.ElixhauserSolidTumorWithoutMetastasis ELSE 0 end) AS ElixhauserSolidTumorWithoutMetastasis,\n",
        "           MAX(CASE WHEN ElixhauserValvularDisease >= 0 THEN elix.ElixhauserValvularDisease ELSE 0 end) AS ElixhauserValvularDisease,\n",
        "           MAX(CASE WHEN ElixhauserWeightLoss >= 0 THEN elix.ElixhauserWeightLoss ELSE 0 end) AS ElixhauserWeightLoss\n",
        "    FROM MGI_Data.PatientInfoAll p\n",
        "        JOIN MGI_Data.Encounter e\n",
        "            ON e.PatientID = p.patientID\n",
        "        JOIN MGI_Data.EncounterComorbiditiesElixhauser elix\n",
        "            ON elix.EncounterID = e.EncounterID\n",
        "    GROUP BY p.patientID\n",
        ") i;"
      ],
      "execution_count": 0,
      "outputs": []
    },
    {
      "cell_type": "code",
      "metadata": {
        "id": "Sz3uJSSOXBPr",
        "colab_type": "code",
        "outputId": "41f86eb3-a552-4812-98b4-f47c540c177d",
        "colab": {
          "base_uri": "https://localhost:8080/",
          "height": 100
        }
      },
      "source": [
        "df_elix_pat_counts"
      ],
      "execution_count": 0,
      "outputs": [
        {
          "output_type": "execute_result",
          "data": {
            "text/html": [
              "<div>\n",
              "<style scoped>\n",
              "    .dataframe tbody tr th:only-of-type {\n",
              "        vertical-align: middle;\n",
              "    }\n",
              "\n",
              "    .dataframe tbody tr th {\n",
              "        vertical-align: top;\n",
              "    }\n",
              "\n",
              "    .dataframe thead th {\n",
              "        text-align: right;\n",
              "    }\n",
              "</style>\n",
              "<table border=\"1\" class=\"dataframe\">\n",
              "  <thead>\n",
              "    <tr style=\"text-align: right;\">\n",
              "      <th></th>\n",
              "      <th>ElixhauserAlcoholAbuse</th>\n",
              "      <th>ElixhauserBloodLossAnemia</th>\n",
              "      <th>ElixhauserCardiacArrhythmias</th>\n",
              "      <th>ElixhauserChronicPulmonaryDisease</th>\n",
              "      <th>ElixhauserCoagulopathy</th>\n",
              "      <th>ElixhauserCongestiveHeartFailure</th>\n",
              "      <th>ElixhauserDeficiencyAnemia</th>\n",
              "      <th>ElixhauserDepression</th>\n",
              "      <th>ElixhauserDiabetesComplicated</th>\n",
              "      <th>ElixhauserDiabetesUncomplicated</th>\n",
              "      <th>ElixhauserDrugAbuse</th>\n",
              "      <th>ElixhauserFluidElectrolyteDisorders</th>\n",
              "      <th>ElixhauserHypertensionComplicated</th>\n",
              "      <th>ElixhauserHypertensionUncomplicated</th>\n",
              "      <th>ElixhauserHypothyroidism</th>\n",
              "      <th>ElixhauserLiverDisease</th>\n",
              "      <th>ElixhauserLymphoma</th>\n",
              "      <th>ElixhauserMetastaticCancer</th>\n",
              "      <th>ElixhauserObesity</th>\n",
              "      <th>ElixhauserOtherNeurologicalDisorders</th>\n",
              "      <th>ElixhauserParalysis</th>\n",
              "      <th>ElixhauserPepticUlcerDiseaseExcludingBleeding</th>\n",
              "      <th>ElixhauserPeripheralVascularDisorders</th>\n",
              "      <th>ElixhauserPsychoses</th>\n",
              "      <th>ElixhauserPulmonaryCirculationDisorders</th>\n",
              "      <th>ElixhauserRenalFailure</th>\n",
              "      <th>ElixhauserRheumatoidArthritisCollagenVascularDiseases</th>\n",
              "      <th>ElixhauserSolidTumorWithoutMetastasis</th>\n",
              "      <th>ElixhauserValvularDisease</th>\n",
              "      <th>ElixhauserWeightLoss</th>\n",
              "    </tr>\n",
              "  </thead>\n",
              "  <tbody>\n",
              "    <tr>\n",
              "      <th>0</th>\n",
              "      <td>2915</td>\n",
              "      <td>2247</td>\n",
              "      <td>19825</td>\n",
              "      <td>17207</td>\n",
              "      <td>6188</td>\n",
              "      <td>5817</td>\n",
              "      <td>5428</td>\n",
              "      <td>20374</td>\n",
              "      <td>5883</td>\n",
              "      <td>12625</td>\n",
              "      <td>4241</td>\n",
              "      <td>11458</td>\n",
              "      <td>5844</td>\n",
              "      <td>28632</td>\n",
              "      <td>10519</td>\n",
              "      <td>9653</td>\n",
              "      <td>1938</td>\n",
              "      <td>15856</td>\n",
              "      <td>21941</td>\n",
              "      <td>5599</td>\n",
              "      <td>1320</td>\n",
              "      <td>2059</td>\n",
              "      <td>8081</td>\n",
              "      <td>1436</td>\n",
              "      <td>4102</td>\n",
              "      <td>7291</td>\n",
              "      <td>6570</td>\n",
              "      <td>19754</td>\n",
              "      <td>5186</td>\n",
              "      <td>6381</td>\n",
              "    </tr>\n",
              "  </tbody>\n",
              "</table>\n",
              "</div>"
            ],
            "text/plain": [
              "   ElixhauserAlcoholAbuse  ...  ElixhauserWeightLoss\n",
              "0                    2915  ...                  6381\n",
              "\n",
              "[1 rows x 30 columns]"
            ]
          },
          "metadata": {
            "tags": []
          },
          "execution_count": 41
        }
      ]
    },
    {
      "cell_type": "code",
      "metadata": {
        "id": "KuabKEZAIvxk",
        "colab_type": "code",
        "colab": {}
      },
      "source": [
        "# Option 2\n",
        "%%bigquery df_elix_pat --project $PROJECT_ID\n",
        "SELECT p.PatientID,\n",
        "    MAX(ElixhauserCongestiveHeartFailure)                       AS ElixhauserCongestiveHeartFailure                      ,\n",
        "    MAX(ElixhauserCardiacArrhythmias)                           AS ElixhauserCardiacArrhythmias                          ,\n",
        "    MAX(ElixhauserValvularDisease)                              AS ElixhauserValvularDisease                             ,\n",
        "    MAX(ElixhauserPulmonaryCirculationDisorders)                AS ElixhauserPulmonaryCirculationDisorders               ,\n",
        "    MAX(ElixhauserPeripheralVascularDisorders)                  AS ElixhauserPeripheralVascularDisorders                 ,\n",
        "    MAX(ElixhauserHypertensionUncomplicated)                    AS ElixhauserHypertensionUncomplicated                   ,\n",
        "    MAX(ElixhauserHypertensionComplicated)                      AS ElixhauserHypertensionComplicated                     ,\n",
        "    MAX(ElixhauserParalysis)                                    AS ElixhauserParalysis                                   ,\n",
        "    MAX(ElixhauserOtherNeurologicalDisorders)                   AS ElixhauserOtherNeurologicalDisorders                  ,\n",
        "    MAX(ElixhauserChronicPulmonaryDisease)                      AS ElixhauserChronicPulmonaryDisease                     ,\n",
        "    MAX(ElixhauserDiabetesUncomplicated)                        AS ElixhauserDiabetesUncomplicated                       ,\n",
        "    MAX(ElixhauserDiabetesComplicated)                          AS ElixhauserDiabetesComplicated                         ,\n",
        "    MAX(ElixhauserHypothyroidism)                               AS ElixhauserHypothyroidism                              ,\n",
        "    MAX(ElixhauserRenalFailure)                                 AS ElixhauserRenalFailure                                ,\n",
        "    MAX(ElixhauserLiverDisease)                                 AS ElixhauserLiverDisease                                ,\n",
        "    MAX(ElixhauserPepticUlcerDiseaseExcludingBleeding)          AS ElixhauserPepticUlcerDiseaseExcludingBleeding         ,\n",
        "    MAX(ElixhauserLymphoma)                                     AS ElixhauserLymphoma                                    ,\n",
        "    MAX(ElixhauserMetastaticCancer)                             AS ElixhauserMetastaticCancer                            ,\n",
        "    MAX(ElixhauserSolidTumorWithoutMetastasis)                  AS ElixhauserSolidTumorWithoutMetastasis                 ,\n",
        "    MAX(ElixhauserRheumatoidArthritisCollagenVascularDiseases)  AS ElixhauserRheumatoidArthritisCollagenVascularDiseases ,\n",
        "    MAX(ElixhauserCoagulopathy)                                 AS ElixhauserCoagulopathy                                ,\n",
        "    MAX(ElixhauserObesity)                                      AS ElixhauserObesity                                     ,\n",
        "    MAX(ElixhauserWeightLoss)                                   AS ElixhauserWeightLoss                                  ,\n",
        "    MAX(ElixhauserFluidElectrolyteDisorders)                    AS ElixhauserFluidElectrolyteDisorders                   ,\n",
        "    MAX(ElixhauserBloodLossAnemia)                              AS ElixhauserBloodLossAnemia                             ,\n",
        "    MAX(ElixhauserDeficiencyAnemia)                             AS ElixhauserDeficiencyAnemia                            ,\n",
        "    MAX(ElixhauserAlcoholAbuse)                                 AS ElixhauserAlcoholAbuse                                ,\n",
        "    MAX(ElixhauserDrugAbuse)                                    AS ElixhauserDrugAbuse                                   ,\n",
        "    MAX(ElixhauserPsychoses)                                    AS ElixhauserPsychoses                                   ,\n",
        "    MAX(ElixhauserDepression)                                   AS ElixhauserDepression                                  \n",
        "\n",
        "FROM MGI_Data.PatientInfoAll p\n",
        "    JOIN MGI_Data.Encounter e\n",
        "        ON e.PatientID = p.patientID\n",
        "    LEFT OUTER JOIN MGI_Data.EncounterComorbiditiesElixhauser elix\n",
        "        ON elix.EncounterID = e.EncounterID\n",
        "GROUP BY p.PatientID"
      ],
      "execution_count": 0,
      "outputs": []
    },
    {
      "cell_type": "code",
      "metadata": {
        "id": "A8qa7gMeI55D",
        "colab_type": "code",
        "outputId": "83ab176b-ce20-4cac-de06-a5209174dcaf",
        "colab": {
          "base_uri": "https://localhost:8080/",
          "height": 979
        }
      },
      "source": [
        "df_elix_pat = df_elix_pat.replace({-99: 0}) # Replace NULL values with 0\n",
        "df_elix_pat.set_index('PatientID').apply(['sum', 'mean']).T"
      ],
      "execution_count": 0,
      "outputs": [
        {
          "output_type": "execute_result",
          "data": {
            "text/html": [
              "<div>\n",
              "<style scoped>\n",
              "    .dataframe tbody tr th:only-of-type {\n",
              "        vertical-align: middle;\n",
              "    }\n",
              "\n",
              "    .dataframe tbody tr th {\n",
              "        vertical-align: top;\n",
              "    }\n",
              "\n",
              "    .dataframe thead th {\n",
              "        text-align: right;\n",
              "    }\n",
              "</style>\n",
              "<table border=\"1\" class=\"dataframe\">\n",
              "  <thead>\n",
              "    <tr style=\"text-align: right;\">\n",
              "      <th></th>\n",
              "      <th>sum</th>\n",
              "      <th>mean</th>\n",
              "    </tr>\n",
              "  </thead>\n",
              "  <tbody>\n",
              "    <tr>\n",
              "      <th>ElixhauserCongestiveHeartFailure</th>\n",
              "      <td>5817.0</td>\n",
              "      <td>0.099226</td>\n",
              "    </tr>\n",
              "    <tr>\n",
              "      <th>ElixhauserCardiacArrhythmias</th>\n",
              "      <td>19825.0</td>\n",
              "      <td>0.338172</td>\n",
              "    </tr>\n",
              "    <tr>\n",
              "      <th>ElixhauserValvularDisease</th>\n",
              "      <td>5186.0</td>\n",
              "      <td>0.088462</td>\n",
              "    </tr>\n",
              "    <tr>\n",
              "      <th>ElixhauserPulmonaryCirculationDisorders</th>\n",
              "      <td>4102.0</td>\n",
              "      <td>0.069971</td>\n",
              "    </tr>\n",
              "    <tr>\n",
              "      <th>ElixhauserPeripheralVascularDisorders</th>\n",
              "      <td>8081.0</td>\n",
              "      <td>0.137845</td>\n",
              "    </tr>\n",
              "    <tr>\n",
              "      <th>ElixhauserHypertensionUncomplicated</th>\n",
              "      <td>28632.0</td>\n",
              "      <td>0.488401</td>\n",
              "    </tr>\n",
              "    <tr>\n",
              "      <th>ElixhauserHypertensionComplicated</th>\n",
              "      <td>5844.0</td>\n",
              "      <td>0.099686</td>\n",
              "    </tr>\n",
              "    <tr>\n",
              "      <th>ElixhauserParalysis</th>\n",
              "      <td>1320.0</td>\n",
              "      <td>0.022516</td>\n",
              "    </tr>\n",
              "    <tr>\n",
              "      <th>ElixhauserOtherNeurologicalDisorders</th>\n",
              "      <td>5599.0</td>\n",
              "      <td>0.095507</td>\n",
              "    </tr>\n",
              "    <tr>\n",
              "      <th>ElixhauserChronicPulmonaryDisease</th>\n",
              "      <td>17207.0</td>\n",
              "      <td>0.293515</td>\n",
              "    </tr>\n",
              "    <tr>\n",
              "      <th>ElixhauserDiabetesUncomplicated</th>\n",
              "      <td>12625.0</td>\n",
              "      <td>0.215355</td>\n",
              "    </tr>\n",
              "    <tr>\n",
              "      <th>ElixhauserDiabetesComplicated</th>\n",
              "      <td>5883.0</td>\n",
              "      <td>0.100351</td>\n",
              "    </tr>\n",
              "    <tr>\n",
              "      <th>ElixhauserHypothyroidism</th>\n",
              "      <td>10519.0</td>\n",
              "      <td>0.179432</td>\n",
              "    </tr>\n",
              "    <tr>\n",
              "      <th>ElixhauserRenalFailure</th>\n",
              "      <td>7291.0</td>\n",
              "      <td>0.124369</td>\n",
              "    </tr>\n",
              "    <tr>\n",
              "      <th>ElixhauserLiverDisease</th>\n",
              "      <td>9653.0</td>\n",
              "      <td>0.164660</td>\n",
              "    </tr>\n",
              "    <tr>\n",
              "      <th>ElixhauserPepticUlcerDiseaseExcludingBleeding</th>\n",
              "      <td>2059.0</td>\n",
              "      <td>0.035122</td>\n",
              "    </tr>\n",
              "    <tr>\n",
              "      <th>ElixhauserLymphoma</th>\n",
              "      <td>1938.0</td>\n",
              "      <td>0.033058</td>\n",
              "    </tr>\n",
              "    <tr>\n",
              "      <th>ElixhauserMetastaticCancer</th>\n",
              "      <td>15856.0</td>\n",
              "      <td>0.270469</td>\n",
              "    </tr>\n",
              "    <tr>\n",
              "      <th>ElixhauserSolidTumorWithoutMetastasis</th>\n",
              "      <td>19754.0</td>\n",
              "      <td>0.336961</td>\n",
              "    </tr>\n",
              "    <tr>\n",
              "      <th>ElixhauserRheumatoidArthritisCollagenVascularDiseases</th>\n",
              "      <td>6570.0</td>\n",
              "      <td>0.112070</td>\n",
              "    </tr>\n",
              "    <tr>\n",
              "      <th>ElixhauserCoagulopathy</th>\n",
              "      <td>6188.0</td>\n",
              "      <td>0.105554</td>\n",
              "    </tr>\n",
              "    <tr>\n",
              "      <th>ElixhauserObesity</th>\n",
              "      <td>21941.0</td>\n",
              "      <td>0.374267</td>\n",
              "    </tr>\n",
              "    <tr>\n",
              "      <th>ElixhauserWeightLoss</th>\n",
              "      <td>6381.0</td>\n",
              "      <td>0.108846</td>\n",
              "    </tr>\n",
              "    <tr>\n",
              "      <th>ElixhauserFluidElectrolyteDisorders</th>\n",
              "      <td>11458.0</td>\n",
              "      <td>0.195449</td>\n",
              "    </tr>\n",
              "    <tr>\n",
              "      <th>ElixhauserBloodLossAnemia</th>\n",
              "      <td>2247.0</td>\n",
              "      <td>0.038329</td>\n",
              "    </tr>\n",
              "    <tr>\n",
              "      <th>ElixhauserDeficiencyAnemia</th>\n",
              "      <td>5428.0</td>\n",
              "      <td>0.092590</td>\n",
              "    </tr>\n",
              "    <tr>\n",
              "      <th>ElixhauserAlcoholAbuse</th>\n",
              "      <td>2915.0</td>\n",
              "      <td>0.049724</td>\n",
              "    </tr>\n",
              "    <tr>\n",
              "      <th>ElixhauserDrugAbuse</th>\n",
              "      <td>4241.0</td>\n",
              "      <td>0.072342</td>\n",
              "    </tr>\n",
              "    <tr>\n",
              "      <th>ElixhauserPsychoses</th>\n",
              "      <td>1436.0</td>\n",
              "      <td>0.024495</td>\n",
              "    </tr>\n",
              "    <tr>\n",
              "      <th>ElixhauserDepression</th>\n",
              "      <td>20374.0</td>\n",
              "      <td>0.347537</td>\n",
              "    </tr>\n",
              "  </tbody>\n",
              "</table>\n",
              "</div>"
            ],
            "text/plain": [
              "                                                        sum      mean\n",
              "ElixhauserCongestiveHeartFailure                     5817.0  0.099226\n",
              "ElixhauserCardiacArrhythmias                        19825.0  0.338172\n",
              "ElixhauserValvularDisease                            5186.0  0.088462\n",
              "ElixhauserPulmonaryCirculationDisorders              4102.0  0.069971\n",
              "ElixhauserPeripheralVascularDisorders                8081.0  0.137845\n",
              "ElixhauserHypertensionUncomplicated                 28632.0  0.488401\n",
              "ElixhauserHypertensionComplicated                    5844.0  0.099686\n",
              "ElixhauserParalysis                                  1320.0  0.022516\n",
              "ElixhauserOtherNeurologicalDisorders                 5599.0  0.095507\n",
              "ElixhauserChronicPulmonaryDisease                   17207.0  0.293515\n",
              "ElixhauserDiabetesUncomplicated                     12625.0  0.215355\n",
              "ElixhauserDiabetesComplicated                        5883.0  0.100351\n",
              "ElixhauserHypothyroidism                            10519.0  0.179432\n",
              "ElixhauserRenalFailure                               7291.0  0.124369\n",
              "ElixhauserLiverDisease                               9653.0  0.164660\n",
              "ElixhauserPepticUlcerDiseaseExcludingBleeding        2059.0  0.035122\n",
              "ElixhauserLymphoma                                   1938.0  0.033058\n",
              "ElixhauserMetastaticCancer                          15856.0  0.270469\n",
              "ElixhauserSolidTumorWithoutMetastasis               19754.0  0.336961\n",
              "ElixhauserRheumatoidArthritisCollagenVascularDi...   6570.0  0.112070\n",
              "ElixhauserCoagulopathy                               6188.0  0.105554\n",
              "ElixhauserObesity                                   21941.0  0.374267\n",
              "ElixhauserWeightLoss                                 6381.0  0.108846\n",
              "ElixhauserFluidElectrolyteDisorders                 11458.0  0.195449\n",
              "ElixhauserBloodLossAnemia                            2247.0  0.038329\n",
              "ElixhauserDeficiencyAnemia                           5428.0  0.092590\n",
              "ElixhauserAlcoholAbuse                               2915.0  0.049724\n",
              "ElixhauserDrugAbuse                                  4241.0  0.072342\n",
              "ElixhauserPsychoses                                  1436.0  0.024495\n",
              "ElixhauserDepression                                20374.0  0.347537"
            ]
          },
          "metadata": {
            "tags": []
          },
          "execution_count": 43
        }
      ]
    },
    {
      "cell_type": "markdown",
      "metadata": {
        "id": "k0cNNVL2V3rT",
        "colab_type": "text"
      },
      "source": [
        "### PrimaryEncounter-level counts"
      ]
    },
    {
      "cell_type": "code",
      "metadata": {
        "id": "MN-_N8m2WSCu",
        "colab_type": "code",
        "colab": {}
      },
      "source": [
        "%%bigquery df_elix_enc_counts --project $PROJECT_ID\n",
        "SELECT \n",
        "    COUNT(DISTINCT PrimaryEncounterID) as PrimaryEncounterCount,\n",
        "    SUM(ElixhauserCongestiveHeartFailure)                       AS ElixhauserCongestiveHeartFailure                      ,\n",
        "    SUM(ElixhauserCardiacArrhythmias)                           AS ElixhauserCardiacArrhythmias                          ,\n",
        "    SUM(ElixhauserValvularDisease)                              AS ElixhauserValvularDisease                             ,\n",
        "    SUM(ElixhauserPulmonaryCirculationDisorders)                AS ElixhauserPulmonaryCirculationDisorders               ,\n",
        "    SUM(ElixhauserPeripheralVascularDisorders)                  AS ElixhauserPeripheralVascularDisorders                 ,\n",
        "    SUM(ElixhauserHypertensionUncomplicated)                    AS ElixhauserHypertensionUncomplicated                   ,\n",
        "    SUM(ElixhauserHypertensionComplicated)                      AS ElixhauserHypertensionComplicated                     ,\n",
        "    SUM(ElixhauserParalysis)                                    AS ElixhauserParalysis                                   ,\n",
        "    SUM(ElixhauserOtherNeurologicalDisorders)                   AS ElixhauserOtherNeurologicalDisorders                  ,\n",
        "    SUM(ElixhauserChronicPulmonaryDisease)                      AS ElixhauserChronicPulmonaryDisease                     ,\n",
        "    SUM(ElixhauserDiabetesUncomplicated)                        AS ElixhauserDiabetesUncomplicated                       ,\n",
        "    SUM(ElixhauserDiabetesComplicated)                          AS ElixhauserDiabetesComplicated                         ,\n",
        "    SUM(ElixhauserHypothyroidism)                               AS ElixhauserHypothyroidism                              ,\n",
        "    SUM(ElixhauserRenalFailure)                                 AS ElixhauserRenalFailure                                ,\n",
        "    SUM(ElixhauserLiverDisease)                                 AS ElixhauserLiverDisease                                ,\n",
        "    SUM(ElixhauserPepticUlcerDiseaseExcludingBleeding)          AS ElixhauserPepticUlcerDiseaseExcludingBleeding         ,\n",
        "    SUM(ElixhauserLymphoma)                                     AS ElixhauserLymphoma                                    ,\n",
        "    SUM(ElixhauserMetastaticCancer)                             AS ElixhauserMetastaticCancer                            ,\n",
        "    SUM(ElixhauserSolidTumorWithoutMetastasis)                  AS ElixhauserSolidTumorWithoutMetastasis                 ,\n",
        "    SUM(ElixhauserRheumatoidArthritisCollagenVascularDiseases)  AS ElixhauserRheumatoidArthritisCollagenVascularDiseases ,\n",
        "    SUM(ElixhauserCoagulopathy)                                 AS ElixhauserCoagulopathy                                ,\n",
        "    SUM(ElixhauserObesity)                                      AS ElixhauserObesity                                     ,\n",
        "    SUM(ElixhauserWeightLoss)                                   AS ElixhauserWeightLoss                                  ,\n",
        "    SUM(ElixhauserFluidElectrolyteDisorders)                    AS ElixhauserFluidElectrolyteDisorders                   ,\n",
        "    SUM(ElixhauserBloodLossAnemia)                              AS ElixhauserBloodLossAnemia                             ,\n",
        "    SUM(ElixhauserDeficiencyAnemia)                             AS ElixhauserDeficiencyAnemia                            ,\n",
        "    SUM(ElixhauserAlcoholAbuse)                                 AS ElixhauserAlcoholAbuse                                ,\n",
        "    SUM(ElixhauserDrugAbuse)                                    AS ElixhauserDrugAbuse                                   ,\n",
        "    SUM(ElixhauserPsychoses)                                    AS ElixhauserPsychoses                                   ,\n",
        "    SUM(ElixhauserDepression)                                   AS ElixhauserDepression                                  \n",
        "\n",
        "FROM (\n",
        "    SELECT COALESCE(e.PrimaryEncounterID, e.EncounterID) AS PrimaryEncounterID,\n",
        "        MAX(CASE WHEN ElixhauserCongestiveHeartFailure                       >= 0 THEN ElixhauserCongestiveHeartFailure                       ELSE 0 END) AS ElixhauserCongestiveHeartFailure                      ,\n",
        "        MAX(CASE WHEN ElixhauserCardiacArrhythmias                           >= 0 THEN ElixhauserCardiacArrhythmias                           ELSE 0 END) AS ElixhauserCardiacArrhythmias                          ,\n",
        "        MAX(CASE WHEN ElixhauserValvularDisease                              >= 0 THEN ElixhauserValvularDisease                              ELSE 0 END) AS ElixhauserValvularDisease                             ,\n",
        "        MAX(CASE WHEN ElixhauserPulmonaryCirculationDisorders                >= 0 THEN ElixhauserPulmonaryCirculationDisorders                ELSE 0 END) AS ElixhauserPulmonaryCirculationDisorders               ,\n",
        "        MAX(CASE WHEN ElixhauserPeripheralVascularDisorders                  >= 0 THEN ElixhauserPeripheralVascularDisorders                  ELSE 0 END) AS ElixhauserPeripheralVascularDisorders                 ,\n",
        "        MAX(CASE WHEN ElixhauserHypertensionUncomplicated                    >= 0 THEN ElixhauserHypertensionUncomplicated                    ELSE 0 END) AS ElixhauserHypertensionUncomplicated                   ,\n",
        "        MAX(CASE WHEN ElixhauserHypertensionComplicated                      >= 0 THEN ElixhauserHypertensionComplicated                      ELSE 0 END) AS ElixhauserHypertensionComplicated                     ,\n",
        "        MAX(CASE WHEN ElixhauserParalysis                                    >= 0 THEN ElixhauserParalysis                                    ELSE 0 END) AS ElixhauserParalysis                                   ,\n",
        "        MAX(CASE WHEN ElixhauserOtherNeurologicalDisorders                   >= 0 THEN ElixhauserOtherNeurologicalDisorders                   ELSE 0 END) AS ElixhauserOtherNeurologicalDisorders                  ,\n",
        "        MAX(CASE WHEN ElixhauserChronicPulmonaryDisease                      >= 0 THEN ElixhauserChronicPulmonaryDisease                      ELSE 0 END) AS ElixhauserChronicPulmonaryDisease                     ,\n",
        "        MAX(CASE WHEN ElixhauserDiabetesUncomplicated                        >= 0 THEN ElixhauserDiabetesUncomplicated                        ELSE 0 END) AS ElixhauserDiabetesUncomplicated                       ,\n",
        "        MAX(CASE WHEN ElixhauserDiabetesComplicated                          >= 0 THEN ElixhauserDiabetesComplicated                          ELSE 0 END) AS ElixhauserDiabetesComplicated                         ,\n",
        "        MAX(CASE WHEN ElixhauserHypothyroidism                               >= 0 THEN ElixhauserHypothyroidism                               ELSE 0 END) AS ElixhauserHypothyroidism                              ,\n",
        "        MAX(CASE WHEN ElixhauserRenalFailure                                 >= 0 THEN ElixhauserRenalFailure                                 ELSE 0 END) AS ElixhauserRenalFailure                                ,\n",
        "        MAX(CASE WHEN ElixhauserLiverDisease                                 >= 0 THEN ElixhauserLiverDisease                                 ELSE 0 END) AS ElixhauserLiverDisease                                ,\n",
        "        MAX(CASE WHEN ElixhauserPepticUlcerDiseaseExcludingBleeding          >= 0 THEN ElixhauserPepticUlcerDiseaseExcludingBleeding          ELSE 0 END) AS ElixhauserPepticUlcerDiseaseExcludingBleeding         ,\n",
        "        MAX(CASE WHEN ElixhauserLymphoma                                     >= 0 THEN ElixhauserLymphoma                                     ELSE 0 END) AS ElixhauserLymphoma                                    ,\n",
        "        MAX(CASE WHEN ElixhauserMetastaticCancer                             >= 0 THEN ElixhauserMetastaticCancer                             ELSE 0 END) AS ElixhauserMetastaticCancer                            ,\n",
        "        MAX(CASE WHEN ElixhauserSolidTumorWithoutMetastasis                  >= 0 THEN ElixhauserSolidTumorWithoutMetastasis                  ELSE 0 END) AS ElixhauserSolidTumorWithoutMetastasis                 ,\n",
        "        MAX(CASE WHEN ElixhauserRheumatoidArthritisCollagenVascularDiseases  >= 0 THEN ElixhauserRheumatoidArthritisCollagenVascularDiseases  ELSE 0 END) AS ElixhauserRheumatoidArthritisCollagenVascularDiseases ,\n",
        "        MAX(CASE WHEN ElixhauserCoagulopathy                                 >= 0 THEN ElixhauserCoagulopathy                                 ELSE 0 END) AS ElixhauserCoagulopathy                                ,\n",
        "        MAX(CASE WHEN ElixhauserObesity                                      >= 0 THEN ElixhauserObesity                                      ELSE 0 END) AS ElixhauserObesity                                     ,\n",
        "        MAX(CASE WHEN ElixhauserWeightLoss                                   >= 0 THEN ElixhauserWeightLoss                                   ELSE 0 END) AS ElixhauserWeightLoss                                  ,\n",
        "        MAX(CASE WHEN ElixhauserFluidElectrolyteDisorders                    >= 0 THEN ElixhauserFluidElectrolyteDisorders                    ELSE 0 END) AS ElixhauserFluidElectrolyteDisorders                   ,\n",
        "        MAX(CASE WHEN ElixhauserBloodLossAnemia                              >= 0 THEN ElixhauserBloodLossAnemia                              ELSE 0 END) AS ElixhauserBloodLossAnemia                             ,\n",
        "        MAX(CASE WHEN ElixhauserDeficiencyAnemia                             >= 0 THEN ElixhauserDeficiencyAnemia                             ELSE 0 END) AS ElixhauserDeficiencyAnemia                            ,\n",
        "        MAX(CASE WHEN ElixhauserAlcoholAbuse                                 >= 0 THEN ElixhauserAlcoholAbuse                                 ELSE 0 END) AS ElixhauserAlcoholAbuse                                ,\n",
        "        MAX(CASE WHEN ElixhauserDrugAbuse                                    >= 0 THEN ElixhauserDrugAbuse                                    ELSE 0 END) AS ElixhauserDrugAbuse                                   ,\n",
        "        MAX(CASE WHEN ElixhauserPsychoses                                    >= 0 THEN ElixhauserPsychoses                                    ELSE 0 END) AS ElixhauserPsychoses                                   ,\n",
        "        MAX(CASE WHEN ElixhauserDepression                                   >= 0 THEN ElixhauserDepression                                   ELSE 0 END) AS ElixhauserDepression                                  \n",
        "    FROM MGI_Data.EncounterProperties e\n",
        "        LEFT OUTER JOIN MGI_Data.EncounterComorbiditiesElixhauser elix\n",
        "            ON elix.EncounterID = e.EncounterID\n",
        "    GROUP BY PrimaryEncounterID\n",
        "\n",
        ") i;"
      ],
      "execution_count": 0,
      "outputs": []
    },
    {
      "cell_type": "code",
      "metadata": {
        "id": "FDQjh9JaWUdo",
        "colab_type": "code",
        "outputId": "d44a02e7-73e0-4fd5-a38d-a027d4b783c6",
        "colab": {
          "base_uri": "https://localhost:8080/",
          "height": 1000
        }
      },
      "source": [
        "df_elix_enc_counts_ = df_elix_enc_counts.T\n",
        "df_elix_enc_counts_['count'] = df_elix_enc_counts_[0]\n",
        "df_elix_enc_counts_['fraction'] = df_elix_enc_counts_['count'] / df_elix_enc_counts_.loc['PrimaryEncounterCount', 'count']\n",
        "df_elix_enc_counts_[['count', 'fraction']]"
      ],
      "execution_count": 0,
      "outputs": [
        {
          "output_type": "execute_result",
          "data": {
            "text/html": [
              "<div>\n",
              "<style scoped>\n",
              "    .dataframe tbody tr th:only-of-type {\n",
              "        vertical-align: middle;\n",
              "    }\n",
              "\n",
              "    .dataframe tbody tr th {\n",
              "        vertical-align: top;\n",
              "    }\n",
              "\n",
              "    .dataframe thead th {\n",
              "        text-align: right;\n",
              "    }\n",
              "</style>\n",
              "<table border=\"1\" class=\"dataframe\">\n",
              "  <thead>\n",
              "    <tr style=\"text-align: right;\">\n",
              "      <th></th>\n",
              "      <th>count</th>\n",
              "      <th>fraction</th>\n",
              "    </tr>\n",
              "  </thead>\n",
              "  <tbody>\n",
              "    <tr>\n",
              "      <th>PrimaryEncounterCount</th>\n",
              "      <td>15799232</td>\n",
              "      <td>1.000000</td>\n",
              "    </tr>\n",
              "    <tr>\n",
              "      <th>ElixhauserCongestiveHeartFailure</th>\n",
              "      <td>218869</td>\n",
              "      <td>0.013853</td>\n",
              "    </tr>\n",
              "    <tr>\n",
              "      <th>ElixhauserCardiacArrhythmias</th>\n",
              "      <td>447666</td>\n",
              "      <td>0.028335</td>\n",
              "    </tr>\n",
              "    <tr>\n",
              "      <th>ElixhauserValvularDisease</th>\n",
              "      <td>122963</td>\n",
              "      <td>0.007783</td>\n",
              "    </tr>\n",
              "    <tr>\n",
              "      <th>ElixhauserPulmonaryCirculationDisorders</th>\n",
              "      <td>122501</td>\n",
              "      <td>0.007754</td>\n",
              "    </tr>\n",
              "    <tr>\n",
              "      <th>ElixhauserPeripheralVascularDisorders</th>\n",
              "      <td>184611</td>\n",
              "      <td>0.011685</td>\n",
              "    </tr>\n",
              "    <tr>\n",
              "      <th>ElixhauserHypertensionUncomplicated</th>\n",
              "      <td>1126694</td>\n",
              "      <td>0.071313</td>\n",
              "    </tr>\n",
              "    <tr>\n",
              "      <th>ElixhauserHypertensionComplicated</th>\n",
              "      <td>29470</td>\n",
              "      <td>0.001865</td>\n",
              "    </tr>\n",
              "    <tr>\n",
              "      <th>ElixhauserParalysis</th>\n",
              "      <td>17566</td>\n",
              "      <td>0.001112</td>\n",
              "    </tr>\n",
              "    <tr>\n",
              "      <th>ElixhauserOtherNeurologicalDisorders</th>\n",
              "      <td>144693</td>\n",
              "      <td>0.009158</td>\n",
              "    </tr>\n",
              "    <tr>\n",
              "      <th>ElixhauserChronicPulmonaryDisease</th>\n",
              "      <td>535629</td>\n",
              "      <td>0.033902</td>\n",
              "    </tr>\n",
              "    <tr>\n",
              "      <th>ElixhauserDiabetesUncomplicated</th>\n",
              "      <td>712200</td>\n",
              "      <td>0.045078</td>\n",
              "    </tr>\n",
              "    <tr>\n",
              "      <th>ElixhauserDiabetesComplicated</th>\n",
              "      <td>79759</td>\n",
              "      <td>0.005048</td>\n",
              "    </tr>\n",
              "    <tr>\n",
              "      <th>ElixhauserHypothyroidism</th>\n",
              "      <td>271975</td>\n",
              "      <td>0.017214</td>\n",
              "    </tr>\n",
              "    <tr>\n",
              "      <th>ElixhauserRenalFailure</th>\n",
              "      <td>354121</td>\n",
              "      <td>0.022414</td>\n",
              "    </tr>\n",
              "    <tr>\n",
              "      <th>ElixhauserLiverDisease</th>\n",
              "      <td>213199</td>\n",
              "      <td>0.013494</td>\n",
              "    </tr>\n",
              "    <tr>\n",
              "      <th>ElixhauserPepticUlcerDiseaseExcludingBleeding</th>\n",
              "      <td>31981</td>\n",
              "      <td>0.002024</td>\n",
              "    </tr>\n",
              "    <tr>\n",
              "      <th>ElixhauserLymphoma</th>\n",
              "      <td>80191</td>\n",
              "      <td>0.005076</td>\n",
              "    </tr>\n",
              "    <tr>\n",
              "      <th>ElixhauserMetastaticCancer</th>\n",
              "      <td>493778</td>\n",
              "      <td>0.031253</td>\n",
              "    </tr>\n",
              "    <tr>\n",
              "      <th>ElixhauserSolidTumorWithoutMetastasis</th>\n",
              "      <td>944329</td>\n",
              "      <td>0.059771</td>\n",
              "    </tr>\n",
              "    <tr>\n",
              "      <th>ElixhauserRheumatoidArthritisCollagenVascularDiseases</th>\n",
              "      <td>212089</td>\n",
              "      <td>0.013424</td>\n",
              "    </tr>\n",
              "    <tr>\n",
              "      <th>ElixhauserCoagulopathy</th>\n",
              "      <td>128518</td>\n",
              "      <td>0.008134</td>\n",
              "    </tr>\n",
              "    <tr>\n",
              "      <th>ElixhauserObesity</th>\n",
              "      <td>427272</td>\n",
              "      <td>0.027044</td>\n",
              "    </tr>\n",
              "    <tr>\n",
              "      <th>ElixhauserWeightLoss</th>\n",
              "      <td>30263</td>\n",
              "      <td>0.001915</td>\n",
              "    </tr>\n",
              "    <tr>\n",
              "      <th>ElixhauserFluidElectrolyteDisorders</th>\n",
              "      <td>58591</td>\n",
              "      <td>0.003708</td>\n",
              "    </tr>\n",
              "    <tr>\n",
              "      <th>ElixhauserBloodLossAnemia</th>\n",
              "      <td>11887</td>\n",
              "      <td>0.000752</td>\n",
              "    </tr>\n",
              "    <tr>\n",
              "      <th>ElixhauserDeficiencyAnemia</th>\n",
              "      <td>47778</td>\n",
              "      <td>0.003024</td>\n",
              "    </tr>\n",
              "    <tr>\n",
              "      <th>ElixhauserAlcoholAbuse</th>\n",
              "      <td>60640</td>\n",
              "      <td>0.003838</td>\n",
              "    </tr>\n",
              "    <tr>\n",
              "      <th>ElixhauserDrugAbuse</th>\n",
              "      <td>55027</td>\n",
              "      <td>0.003483</td>\n",
              "    </tr>\n",
              "    <tr>\n",
              "      <th>ElixhauserPsychoses</th>\n",
              "      <td>10064</td>\n",
              "      <td>0.000637</td>\n",
              "    </tr>\n",
              "    <tr>\n",
              "      <th>ElixhauserDepression</th>\n",
              "      <td>648093</td>\n",
              "      <td>0.041021</td>\n",
              "    </tr>\n",
              "  </tbody>\n",
              "</table>\n",
              "</div>"
            ],
            "text/plain": [
              "                                                       count  fraction\n",
              "PrimaryEncounterCount                               15799232  1.000000\n",
              "ElixhauserCongestiveHeartFailure                      218869  0.013853\n",
              "ElixhauserCardiacArrhythmias                          447666  0.028335\n",
              "ElixhauserValvularDisease                             122963  0.007783\n",
              "ElixhauserPulmonaryCirculationDisorders               122501  0.007754\n",
              "ElixhauserPeripheralVascularDisorders                 184611  0.011685\n",
              "ElixhauserHypertensionUncomplicated                  1126694  0.071313\n",
              "ElixhauserHypertensionComplicated                      29470  0.001865\n",
              "ElixhauserParalysis                                    17566  0.001112\n",
              "ElixhauserOtherNeurologicalDisorders                  144693  0.009158\n",
              "ElixhauserChronicPulmonaryDisease                     535629  0.033902\n",
              "ElixhauserDiabetesUncomplicated                       712200  0.045078\n",
              "ElixhauserDiabetesComplicated                          79759  0.005048\n",
              "ElixhauserHypothyroidism                              271975  0.017214\n",
              "ElixhauserRenalFailure                                354121  0.022414\n",
              "ElixhauserLiverDisease                                213199  0.013494\n",
              "ElixhauserPepticUlcerDiseaseExcludingBleeding          31981  0.002024\n",
              "ElixhauserLymphoma                                     80191  0.005076\n",
              "ElixhauserMetastaticCancer                            493778  0.031253\n",
              "ElixhauserSolidTumorWithoutMetastasis                 944329  0.059771\n",
              "ElixhauserRheumatoidArthritisCollagenVascularDi...    212089  0.013424\n",
              "ElixhauserCoagulopathy                                128518  0.008134\n",
              "ElixhauserObesity                                     427272  0.027044\n",
              "ElixhauserWeightLoss                                   30263  0.001915\n",
              "ElixhauserFluidElectrolyteDisorders                    58591  0.003708\n",
              "ElixhauserBloodLossAnemia                              11887  0.000752\n",
              "ElixhauserDeficiencyAnemia                             47778  0.003024\n",
              "ElixhauserAlcoholAbuse                                 60640  0.003838\n",
              "ElixhauserDrugAbuse                                    55027  0.003483\n",
              "ElixhauserPsychoses                                    10064  0.000637\n",
              "ElixhauserDepression                                  648093  0.041021"
            ]
          },
          "metadata": {
            "tags": []
          },
          "execution_count": 45
        }
      ]
    },
    {
      "cell_type": "markdown",
      "metadata": {
        "id": "hs3M8DmyPpre",
        "colab_type": "text"
      },
      "source": [
        "## Figure 1:  Number of patients grouped by the range of data span.\n",
        "\n",
        "Data span = (max date - min date in the database)"
      ]
    },
    {
      "cell_type": "code",
      "metadata": {
        "colab_type": "code",
        "id": "NNLWx-9LOiEv",
        "colab": {}
      },
      "source": [
        "%%bigquery df_daterange --project $PROJECT_ID\n",
        "SELECT\n",
        "    e.PatientID,\n",
        "    min(e.ActivityDate) AS minDate,\n",
        "    max(e.ActivityDate) AS maxDate\n",
        "FROM\n",
        "    MGI_Data.Encounter e JOIN\n",
        "    MGI_Data.EncounterProperties ep ON e.encounterID = ep.encounterID\n",
        "WHERE   \n",
        "    ep.HasLabs + ep.HasMeds + ep.HasObservations + ep.HasOrders + ep.HasProblems + ep.HasProcedures >= 1\n",
        "    AND e.ActivityDate > TIMESTAMP('1900-01-01 00:00:00+00:00')\n",
        "    AND e.ActivityDate < TIMESTAMP('2019-06-01 00:00:00+00:00')\n",
        "GROUP BY e.PatientID"
      ],
      "execution_count": 0,
      "outputs": []
    },
    {
      "cell_type": "code",
      "metadata": {
        "colab_type": "code",
        "id": "rtFTpOCEOiE2",
        "colab": {}
      },
      "source": [
        "df_daterange['range'] = df_daterange['maxDate'] - df_daterange['minDate']\n",
        "df_daterange['rangeInYears'] = df_daterange['range'].apply(lambda r: r.total_seconds() / (3600*24*365.25))"
      ],
      "execution_count": 0,
      "outputs": []
    },
    {
      "cell_type": "code",
      "metadata": {
        "colab_type": "code",
        "outputId": "1915c2f7-e439-4244-b548-6063092d87cd",
        "id": "Pm4P2FFsOiE4",
        "colab": {
          "base_uri": "https://localhost:8080/",
          "height": 170
        }
      },
      "source": [
        "df_daterange['rangeInYears'].describe()"
      ],
      "execution_count": 0,
      "outputs": [
        {
          "output_type": "execute_result",
          "data": {
            "text/plain": [
              "count    58624.000000\n",
              "mean         8.405622\n",
              "std          6.958799\n",
              "min          0.000000\n",
              "25%          2.050650\n",
              "50%          6.173854\n",
              "75%         15.143053\n",
              "max         67.096509\n",
              "Name: rangeInYears, dtype: float64"
            ]
          },
          "metadata": {
            "tags": []
          },
          "execution_count": 48
        }
      ]
    },
    {
      "cell_type": "code",
      "metadata": {
        "id": "c3sS-8kxENuK",
        "colab_type": "code",
        "outputId": "fbb27321-c028-42aa-984e-ec5be1b6de94",
        "colab": {
          "base_uri": "https://localhost:8080/",
          "height": 375
        }
      },
      "source": [
        "df_daterange['rangeInYears'].hist(bins=range(0,30))\n",
        "plt.xlabel('Range of data span (years)')\n",
        "plt.ylabel('Number of patients')\n",
        "plt.savefig('hist.pdf')"
      ],
      "execution_count": 0,
      "outputs": [
        {
          "output_type": "display_data",
          "data": {
            "text/plain": [
              "<Figure size 432x288 with 1 Axes>"
            ],
            "image/svg+xml": "<?xml version=\"1.0\" encoding=\"utf-8\" standalone=\"no\"?>\n<!DOCTYPE svg PUBLIC \"-//W3C//DTD SVG 1.1//EN\"\n  \"http://www.w3.org/Graphics/SVG/1.1/DTD/svg11.dtd\">\n<!-- Created with matplotlib (https://matplotlib.org/) -->\n<svg height=\"265.69625pt\" version=\"1.1\" viewBox=\"0 0 398.828125 265.69625\" width=\"398.828125pt\" xmlns=\"http://www.w3.org/2000/svg\" xmlns:xlink=\"http://www.w3.org/1999/xlink\">\n <defs>\n  <style type=\"text/css\">\n*{stroke-linecap:butt;stroke-linejoin:round;}\n  </style>\n </defs>\n <g id=\"figure_1\">\n  <g id=\"patch_1\">\n   <path d=\"M 0 265.69625 \nL 398.828125 265.69625 \nL 398.828125 0 \nL 0 0 \nz\n\" style=\"fill:none;\"/>\n  </g>\n  <g id=\"axes_1\">\n   <g id=\"patch_2\">\n    <path d=\"M 53.328125 228.14 \nL 388.128125 228.14 \nL 388.128125 10.7 \nL 53.328125 10.7 \nz\n\" style=\"fill:#ffffff;\"/>\n   </g>\n   <g id=\"patch_3\">\n    <path clip-path=\"url(#p3ce2a3c0b4)\" d=\"M 68.546307 228.14 \nL 79.041605 228.14 \nL 79.041605 21.054286 \nL 68.546307 21.054286 \nz\n\" style=\"fill:#1f77b4;\"/>\n   </g>\n   <g id=\"patch_4\">\n    <path clip-path=\"url(#p3ce2a3c0b4)\" d=\"M 79.041605 228.14 \nL 89.536902 228.14 \nL 89.536902 79.887135 \nL 79.041605 79.887135 \nz\n\" style=\"fill:#1f77b4;\"/>\n   </g>\n   <g id=\"patch_5\">\n    <path clip-path=\"url(#p3ce2a3c0b4)\" d=\"M 89.536902 228.14 \nL 100.0322 228.14 \nL 100.0322 120.505709 \nL 89.536902 120.505709 \nz\n\" style=\"fill:#1f77b4;\"/>\n   </g>\n   <g id=\"patch_6\">\n    <path clip-path=\"url(#p3ce2a3c0b4)\" d=\"M 100.0322 228.14 \nL 110.527498 228.14 \nL 110.527498 133.248308 \nL 100.0322 133.248308 \nz\n\" style=\"fill:#1f77b4;\"/>\n   </g>\n   <g id=\"patch_7\">\n    <path clip-path=\"url(#p3ce2a3c0b4)\" d=\"M 110.527498 228.14 \nL 121.022796 228.14 \nL 121.022796 146.188084 \nL 110.527498 146.188084 \nz\n\" style=\"fill:#1f77b4;\"/>\n   </g>\n   <g id=\"patch_8\">\n    <path clip-path=\"url(#p3ce2a3c0b4)\" d=\"M 121.022796 228.14 \nL 131.518094 228.14 \nL 131.518094 156.638494 \nL 121.022796 156.638494 \nz\n\" style=\"fill:#1f77b4;\"/>\n   </g>\n   <g id=\"patch_9\">\n    <path clip-path=\"url(#p3ce2a3c0b4)\" d=\"M 131.518094 228.14 \nL 142.013391 228.14 \nL 142.013391 169.800095 \nL 131.518094 169.800095 \nz\n\" style=\"fill:#1f77b4;\"/>\n   </g>\n   <g id=\"patch_10\">\n    <path clip-path=\"url(#p3ce2a3c0b4)\" d=\"M 142.013391 228.14 \nL 152.508689 228.14 \nL 152.508689 185.03206 \nL 142.013391 185.03206 \nz\n\" style=\"fill:#1f77b4;\"/>\n   </g>\n   <g id=\"patch_11\">\n    <path clip-path=\"url(#p3ce2a3c0b4)\" d=\"M 152.508689 228.14 \nL 163.003987 228.14 \nL 163.003987 190.331206 \nL 152.508689 190.331206 \nz\n\" style=\"fill:#1f77b4;\"/>\n   </g>\n   <g id=\"patch_12\">\n    <path clip-path=\"url(#p3ce2a3c0b4)\" d=\"M 163.003987 228.14 \nL 173.499285 228.14 \nL 173.499285 192.302982 \nL 163.003987 192.302982 \nz\n\" style=\"fill:#1f77b4;\"/>\n   </g>\n   <g id=\"patch_13\">\n    <path clip-path=\"url(#p3ce2a3c0b4)\" d=\"M 173.499285 228.14 \nL 183.994583 228.14 \nL 183.994583 190.99668 \nL 173.499285 190.99668 \nz\n\" style=\"fill:#1f77b4;\"/>\n   </g>\n   <g id=\"patch_14\">\n    <path clip-path=\"url(#p3ce2a3c0b4)\" d=\"M 183.994583 228.14 \nL 194.48988 228.14 \nL 194.48988 192.105804 \nL 183.994583 192.105804 \nz\n\" style=\"fill:#1f77b4;\"/>\n   </g>\n   <g id=\"patch_15\">\n    <path clip-path=\"url(#p3ce2a3c0b4)\" d=\"M 194.48988 228.14 \nL 204.985178 228.14 \nL 204.985178 188.729139 \nL 194.48988 188.729139 \nz\n\" style=\"fill:#1f77b4;\"/>\n   </g>\n   <g id=\"patch_16\">\n    <path clip-path=\"url(#p3ce2a3c0b4)\" d=\"M 204.985178 228.14 \nL 215.480476 228.14 \nL 215.480476 188.581255 \nL 204.985178 188.581255 \nz\n\" style=\"fill:#1f77b4;\"/>\n   </g>\n   <g id=\"patch_17\">\n    <path clip-path=\"url(#p3ce2a3c0b4)\" d=\"M 215.480476 228.14 \nL 225.975774 228.14 \nL 225.975774 189.493202 \nL 215.480476 189.493202 \nz\n\" style=\"fill:#1f77b4;\"/>\n   </g>\n   <g id=\"patch_18\">\n    <path clip-path=\"url(#p3ce2a3c0b4)\" d=\"M 225.975774 228.14 \nL 236.471072 228.14 \nL 236.471072 185.894711 \nL 225.975774 185.894711 \nz\n\" style=\"fill:#1f77b4;\"/>\n   </g>\n   <g id=\"patch_19\">\n    <path clip-path=\"url(#p3ce2a3c0b4)\" d=\"M 236.471072 228.14 \nL 246.96637 228.14 \nL 246.96637 183.306756 \nL 236.471072 183.306756 \nz\n\" style=\"fill:#1f77b4;\"/>\n   </g>\n   <g id=\"patch_20\">\n    <path clip-path=\"url(#p3ce2a3c0b4)\" d=\"M 246.96637 228.14 \nL 257.461667 228.14 \nL 257.461667 174.236589 \nL 246.96637 174.236589 \nz\n\" style=\"fill:#1f77b4;\"/>\n   </g>\n   <g id=\"patch_21\">\n    <path clip-path=\"url(#p3ce2a3c0b4)\" d=\"M 257.461667 228.14 \nL 267.956965 228.14 \nL 267.956965 125.583031 \nL 257.461667 125.583031 \nz\n\" style=\"fill:#1f77b4;\"/>\n   </g>\n   <g id=\"patch_22\">\n    <path clip-path=\"url(#p3ce2a3c0b4)\" d=\"M 267.956965 228.14 \nL 278.452263 228.14 \nL 278.452263 122.551426 \nL 267.956965 122.551426 \nz\n\" style=\"fill:#1f77b4;\"/>\n   </g>\n   <g id=\"patch_23\">\n    <path clip-path=\"url(#p3ce2a3c0b4)\" d=\"M 278.452263 228.14 \nL 288.947561 228.14 \nL 288.947561 220.105015 \nL 278.452263 220.105015 \nz\n\" style=\"fill:#1f77b4;\"/>\n   </g>\n   <g id=\"patch_24\">\n    <path clip-path=\"url(#p3ce2a3c0b4)\" d=\"M 288.947561 228.14 \nL 299.442859 228.14 \nL 299.442859 225.527398 \nL 288.947561 225.527398 \nz\n\" style=\"fill:#1f77b4;\"/>\n   </g>\n   <g id=\"patch_25\">\n    <path clip-path=\"url(#p3ce2a3c0b4)\" d=\"M 299.442859 228.14 \nL 309.938156 228.14 \nL 309.938156 226.537932 \nL 299.442859 226.537932 \nz\n\" style=\"fill:#1f77b4;\"/>\n   </g>\n   <g id=\"patch_26\">\n    <path clip-path=\"url(#p3ce2a3c0b4)\" d=\"M 309.938156 228.14 \nL 320.433454 228.14 \nL 320.433454 227.203407 \nL 309.938156 227.203407 \nz\n\" style=\"fill:#1f77b4;\"/>\n   </g>\n   <g id=\"patch_27\">\n    <path clip-path=\"url(#p3ce2a3c0b4)\" d=\"M 320.433454 228.14 \nL 330.928752 228.14 \nL 330.928752 227.375937 \nL 320.433454 227.375937 \nz\n\" style=\"fill:#1f77b4;\"/>\n   </g>\n   <g id=\"patch_28\">\n    <path clip-path=\"url(#p3ce2a3c0b4)\" d=\"M 330.928752 228.14 \nL 341.42405 228.14 \nL 341.42405 227.499173 \nL 330.928752 227.499173 \nz\n\" style=\"fill:#1f77b4;\"/>\n   </g>\n   <g id=\"patch_29\">\n    <path clip-path=\"url(#p3ce2a3c0b4)\" d=\"M 341.42405 228.14 \nL 351.919348 228.14 \nL 351.919348 227.400584 \nL 341.42405 227.400584 \nz\n\" style=\"fill:#1f77b4;\"/>\n   </g>\n   <g id=\"patch_30\">\n    <path clip-path=\"url(#p3ce2a3c0b4)\" d=\"M 351.919348 228.14 \nL 362.414645 228.14 \nL 362.414645 227.745645 \nL 351.919348 227.745645 \nz\n\" style=\"fill:#1f77b4;\"/>\n   </g>\n   <g id=\"patch_31\">\n    <path clip-path=\"url(#p3ce2a3c0b4)\" d=\"M 362.414645 228.14 \nL 372.909943 228.14 \nL 372.909943 227.647056 \nL 362.414645 227.647056 \nz\n\" style=\"fill:#1f77b4;\"/>\n   </g>\n   <g id=\"matplotlib.axis_1\">\n    <g id=\"xtick_1\">\n     <g id=\"line2d_1\">\n      <path clip-path=\"url(#p3ce2a3c0b4)\" d=\"M 68.546307 228.14 \nL 68.546307 10.7 \n\" style=\"fill:none;stroke:#b0b0b0;stroke-linecap:square;stroke-width:0.8;\"/>\n     </g>\n     <g id=\"line2d_2\">\n      <defs>\n       <path d=\"M 0 0 \nL 0 3.5 \n\" id=\"m2c1f03ea51\" style=\"stroke:#000000;stroke-width:0.8;\"/>\n      </defs>\n      <g>\n       <use style=\"stroke:#000000;stroke-width:0.8;\" x=\"68.546307\" xlink:href=\"#m2c1f03ea51\" y=\"228.14\"/>\n      </g>\n     </g>\n     <g id=\"text_1\">\n      <!-- 0 -->\n      <defs>\n       <path d=\"M 31.78125 66.40625 \nQ 24.171875 66.40625 20.328125 58.90625 \nQ 16.5 51.421875 16.5 36.375 \nQ 16.5 21.390625 20.328125 13.890625 \nQ 24.171875 6.390625 31.78125 6.390625 \nQ 39.453125 6.390625 43.28125 13.890625 \nQ 47.125 21.390625 47.125 36.375 \nQ 47.125 51.421875 43.28125 58.90625 \nQ 39.453125 66.40625 31.78125 66.40625 \nz\nM 31.78125 74.21875 \nQ 44.046875 74.21875 50.515625 64.515625 \nQ 56.984375 54.828125 56.984375 36.375 \nQ 56.984375 17.96875 50.515625 8.265625 \nQ 44.046875 -1.421875 31.78125 -1.421875 \nQ 19.53125 -1.421875 13.0625 8.265625 \nQ 6.59375 17.96875 6.59375 36.375 \nQ 6.59375 54.828125 13.0625 64.515625 \nQ 19.53125 74.21875 31.78125 74.21875 \nz\n\" id=\"DejaVuSans-48\"/>\n      </defs>\n      <g transform=\"translate(65.365057 242.738437)scale(0.1 -0.1)\">\n       <use xlink:href=\"#DejaVuSans-48\"/>\n      </g>\n     </g>\n    </g>\n    <g id=\"xtick_2\">\n     <g id=\"line2d_3\">\n      <path clip-path=\"url(#p3ce2a3c0b4)\" d=\"M 121.022796 228.14 \nL 121.022796 10.7 \n\" style=\"fill:none;stroke:#b0b0b0;stroke-linecap:square;stroke-width:0.8;\"/>\n     </g>\n     <g id=\"line2d_4\">\n      <g>\n       <use style=\"stroke:#000000;stroke-width:0.8;\" x=\"121.022796\" xlink:href=\"#m2c1f03ea51\" y=\"228.14\"/>\n      </g>\n     </g>\n     <g id=\"text_2\">\n      <!-- 5 -->\n      <defs>\n       <path d=\"M 10.796875 72.90625 \nL 49.515625 72.90625 \nL 49.515625 64.59375 \nL 19.828125 64.59375 \nL 19.828125 46.734375 \nQ 21.96875 47.46875 24.109375 47.828125 \nQ 26.265625 48.1875 28.421875 48.1875 \nQ 40.625 48.1875 47.75 41.5 \nQ 54.890625 34.8125 54.890625 23.390625 \nQ 54.890625 11.625 47.5625 5.09375 \nQ 40.234375 -1.421875 26.90625 -1.421875 \nQ 22.3125 -1.421875 17.546875 -0.640625 \nQ 12.796875 0.140625 7.71875 1.703125 \nL 7.71875 11.625 \nQ 12.109375 9.234375 16.796875 8.0625 \nQ 21.484375 6.890625 26.703125 6.890625 \nQ 35.15625 6.890625 40.078125 11.328125 \nQ 45.015625 15.765625 45.015625 23.390625 \nQ 45.015625 31 40.078125 35.4375 \nQ 35.15625 39.890625 26.703125 39.890625 \nQ 22.75 39.890625 18.8125 39.015625 \nQ 14.890625 38.140625 10.796875 36.28125 \nz\n\" id=\"DejaVuSans-53\"/>\n      </defs>\n      <g transform=\"translate(117.841546 242.738437)scale(0.1 -0.1)\">\n       <use xlink:href=\"#DejaVuSans-53\"/>\n      </g>\n     </g>\n    </g>\n    <g id=\"xtick_3\">\n     <g id=\"line2d_5\">\n      <path clip-path=\"url(#p3ce2a3c0b4)\" d=\"M 173.499285 228.14 \nL 173.499285 10.7 \n\" style=\"fill:none;stroke:#b0b0b0;stroke-linecap:square;stroke-width:0.8;\"/>\n     </g>\n     <g id=\"line2d_6\">\n      <g>\n       <use style=\"stroke:#000000;stroke-width:0.8;\" x=\"173.499285\" xlink:href=\"#m2c1f03ea51\" y=\"228.14\"/>\n      </g>\n     </g>\n     <g id=\"text_3\">\n      <!-- 10 -->\n      <defs>\n       <path d=\"M 12.40625 8.296875 \nL 28.515625 8.296875 \nL 28.515625 63.921875 \nL 10.984375 60.40625 \nL 10.984375 69.390625 \nL 28.421875 72.90625 \nL 38.28125 72.90625 \nL 38.28125 8.296875 \nL 54.390625 8.296875 \nL 54.390625 0 \nL 12.40625 0 \nz\n\" id=\"DejaVuSans-49\"/>\n      </defs>\n      <g transform=\"translate(167.136785 242.738437)scale(0.1 -0.1)\">\n       <use xlink:href=\"#DejaVuSans-49\"/>\n       <use x=\"63.623047\" xlink:href=\"#DejaVuSans-48\"/>\n      </g>\n     </g>\n    </g>\n    <g id=\"xtick_4\">\n     <g id=\"line2d_7\">\n      <path clip-path=\"url(#p3ce2a3c0b4)\" d=\"M 225.975774 228.14 \nL 225.975774 10.7 \n\" style=\"fill:none;stroke:#b0b0b0;stroke-linecap:square;stroke-width:0.8;\"/>\n     </g>\n     <g id=\"line2d_8\">\n      <g>\n       <use style=\"stroke:#000000;stroke-width:0.8;\" x=\"225.975774\" xlink:href=\"#m2c1f03ea51\" y=\"228.14\"/>\n      </g>\n     </g>\n     <g id=\"text_4\">\n      <!-- 15 -->\n      <g transform=\"translate(219.613274 242.738437)scale(0.1 -0.1)\">\n       <use xlink:href=\"#DejaVuSans-49\"/>\n       <use x=\"63.623047\" xlink:href=\"#DejaVuSans-53\"/>\n      </g>\n     </g>\n    </g>\n    <g id=\"xtick_5\">\n     <g id=\"line2d_9\">\n      <path clip-path=\"url(#p3ce2a3c0b4)\" d=\"M 278.452263 228.14 \nL 278.452263 10.7 \n\" style=\"fill:none;stroke:#b0b0b0;stroke-linecap:square;stroke-width:0.8;\"/>\n     </g>\n     <g id=\"line2d_10\">\n      <g>\n       <use style=\"stroke:#000000;stroke-width:0.8;\" x=\"278.452263\" xlink:href=\"#m2c1f03ea51\" y=\"228.14\"/>\n      </g>\n     </g>\n     <g id=\"text_5\">\n      <!-- 20 -->\n      <defs>\n       <path d=\"M 19.1875 8.296875 \nL 53.609375 8.296875 \nL 53.609375 0 \nL 7.328125 0 \nL 7.328125 8.296875 \nQ 12.9375 14.109375 22.625 23.890625 \nQ 32.328125 33.6875 34.8125 36.53125 \nQ 39.546875 41.84375 41.421875 45.53125 \nQ 43.3125 49.21875 43.3125 52.78125 \nQ 43.3125 58.59375 39.234375 62.25 \nQ 35.15625 65.921875 28.609375 65.921875 \nQ 23.96875 65.921875 18.8125 64.3125 \nQ 13.671875 62.703125 7.8125 59.421875 \nL 7.8125 69.390625 \nQ 13.765625 71.78125 18.9375 73 \nQ 24.125 74.21875 28.421875 74.21875 \nQ 39.75 74.21875 46.484375 68.546875 \nQ 53.21875 62.890625 53.21875 53.421875 \nQ 53.21875 48.921875 51.53125 44.890625 \nQ 49.859375 40.875 45.40625 35.40625 \nQ 44.1875 33.984375 37.640625 27.21875 \nQ 31.109375 20.453125 19.1875 8.296875 \nz\n\" id=\"DejaVuSans-50\"/>\n      </defs>\n      <g transform=\"translate(272.089763 242.738437)scale(0.1 -0.1)\">\n       <use xlink:href=\"#DejaVuSans-50\"/>\n       <use x=\"63.623047\" xlink:href=\"#DejaVuSans-48\"/>\n      </g>\n     </g>\n    </g>\n    <g id=\"xtick_6\">\n     <g id=\"line2d_11\">\n      <path clip-path=\"url(#p3ce2a3c0b4)\" d=\"M 330.928752 228.14 \nL 330.928752 10.7 \n\" style=\"fill:none;stroke:#b0b0b0;stroke-linecap:square;stroke-width:0.8;\"/>\n     </g>\n     <g id=\"line2d_12\">\n      <g>\n       <use style=\"stroke:#000000;stroke-width:0.8;\" x=\"330.928752\" xlink:href=\"#m2c1f03ea51\" y=\"228.14\"/>\n      </g>\n     </g>\n     <g id=\"text_6\">\n      <!-- 25 -->\n      <g transform=\"translate(324.566252 242.738437)scale(0.1 -0.1)\">\n       <use xlink:href=\"#DejaVuSans-50\"/>\n       <use x=\"63.623047\" xlink:href=\"#DejaVuSans-53\"/>\n      </g>\n     </g>\n    </g>\n    <g id=\"xtick_7\">\n     <g id=\"line2d_13\">\n      <path clip-path=\"url(#p3ce2a3c0b4)\" d=\"M 383.405241 228.14 \nL 383.405241 10.7 \n\" style=\"fill:none;stroke:#b0b0b0;stroke-linecap:square;stroke-width:0.8;\"/>\n     </g>\n     <g id=\"line2d_14\">\n      <g>\n       <use style=\"stroke:#000000;stroke-width:0.8;\" x=\"383.405241\" xlink:href=\"#m2c1f03ea51\" y=\"228.14\"/>\n      </g>\n     </g>\n     <g id=\"text_7\">\n      <!-- 30 -->\n      <defs>\n       <path d=\"M 40.578125 39.3125 \nQ 47.65625 37.796875 51.625 33 \nQ 55.609375 28.21875 55.609375 21.1875 \nQ 55.609375 10.40625 48.1875 4.484375 \nQ 40.765625 -1.421875 27.09375 -1.421875 \nQ 22.515625 -1.421875 17.65625 -0.515625 \nQ 12.796875 0.390625 7.625 2.203125 \nL 7.625 11.71875 \nQ 11.71875 9.328125 16.59375 8.109375 \nQ 21.484375 6.890625 26.8125 6.890625 \nQ 36.078125 6.890625 40.9375 10.546875 \nQ 45.796875 14.203125 45.796875 21.1875 \nQ 45.796875 27.640625 41.28125 31.265625 \nQ 36.765625 34.90625 28.71875 34.90625 \nL 20.21875 34.90625 \nL 20.21875 43.015625 \nL 29.109375 43.015625 \nQ 36.375 43.015625 40.234375 45.921875 \nQ 44.09375 48.828125 44.09375 54.296875 \nQ 44.09375 59.90625 40.109375 62.90625 \nQ 36.140625 65.921875 28.71875 65.921875 \nQ 24.65625 65.921875 20.015625 65.03125 \nQ 15.375 64.15625 9.8125 62.3125 \nL 9.8125 71.09375 \nQ 15.4375 72.65625 20.34375 73.4375 \nQ 25.25 74.21875 29.59375 74.21875 \nQ 40.828125 74.21875 47.359375 69.109375 \nQ 53.90625 64.015625 53.90625 55.328125 \nQ 53.90625 49.265625 50.4375 45.09375 \nQ 46.96875 40.921875 40.578125 39.3125 \nz\n\" id=\"DejaVuSans-51\"/>\n      </defs>\n      <g transform=\"translate(377.042741 242.738437)scale(0.1 -0.1)\">\n       <use xlink:href=\"#DejaVuSans-51\"/>\n       <use x=\"63.623047\" xlink:href=\"#DejaVuSans-48\"/>\n      </g>\n     </g>\n    </g>\n    <g id=\"text_8\">\n     <!-- Range of data span (years) -->\n     <defs>\n      <path d=\"M 44.390625 34.1875 \nQ 47.5625 33.109375 50.5625 29.59375 \nQ 53.5625 26.078125 56.59375 19.921875 \nL 66.609375 0 \nL 56 0 \nL 46.6875 18.703125 \nQ 43.0625 26.03125 39.671875 28.421875 \nQ 36.28125 30.8125 30.421875 30.8125 \nL 19.671875 30.8125 \nL 19.671875 0 \nL 9.8125 0 \nL 9.8125 72.90625 \nL 32.078125 72.90625 \nQ 44.578125 72.90625 50.734375 67.671875 \nQ 56.890625 62.453125 56.890625 51.90625 \nQ 56.890625 45.015625 53.6875 40.46875 \nQ 50.484375 35.9375 44.390625 34.1875 \nz\nM 19.671875 64.796875 \nL 19.671875 38.921875 \nL 32.078125 38.921875 \nQ 39.203125 38.921875 42.84375 42.21875 \nQ 46.484375 45.515625 46.484375 51.90625 \nQ 46.484375 58.296875 42.84375 61.546875 \nQ 39.203125 64.796875 32.078125 64.796875 \nz\n\" id=\"DejaVuSans-82\"/>\n      <path d=\"M 34.28125 27.484375 \nQ 23.390625 27.484375 19.1875 25 \nQ 14.984375 22.515625 14.984375 16.5 \nQ 14.984375 11.71875 18.140625 8.90625 \nQ 21.296875 6.109375 26.703125 6.109375 \nQ 34.1875 6.109375 38.703125 11.40625 \nQ 43.21875 16.703125 43.21875 25.484375 \nL 43.21875 27.484375 \nz\nM 52.203125 31.203125 \nL 52.203125 0 \nL 43.21875 0 \nL 43.21875 8.296875 \nQ 40.140625 3.328125 35.546875 0.953125 \nQ 30.953125 -1.421875 24.3125 -1.421875 \nQ 15.921875 -1.421875 10.953125 3.296875 \nQ 6 8.015625 6 15.921875 \nQ 6 25.140625 12.171875 29.828125 \nQ 18.359375 34.515625 30.609375 34.515625 \nL 43.21875 34.515625 \nL 43.21875 35.40625 \nQ 43.21875 41.609375 39.140625 45 \nQ 35.0625 48.390625 27.6875 48.390625 \nQ 23 48.390625 18.546875 47.265625 \nQ 14.109375 46.140625 10.015625 43.890625 \nL 10.015625 52.203125 \nQ 14.9375 54.109375 19.578125 55.046875 \nQ 24.21875 56 28.609375 56 \nQ 40.484375 56 46.34375 49.84375 \nQ 52.203125 43.703125 52.203125 31.203125 \nz\n\" id=\"DejaVuSans-97\"/>\n      <path d=\"M 54.890625 33.015625 \nL 54.890625 0 \nL 45.90625 0 \nL 45.90625 32.71875 \nQ 45.90625 40.484375 42.875 44.328125 \nQ 39.84375 48.1875 33.796875 48.1875 \nQ 26.515625 48.1875 22.3125 43.546875 \nQ 18.109375 38.921875 18.109375 30.90625 \nL 18.109375 0 \nL 9.078125 0 \nL 9.078125 54.6875 \nL 18.109375 54.6875 \nL 18.109375 46.1875 \nQ 21.34375 51.125 25.703125 53.5625 \nQ 30.078125 56 35.796875 56 \nQ 45.21875 56 50.046875 50.171875 \nQ 54.890625 44.34375 54.890625 33.015625 \nz\n\" id=\"DejaVuSans-110\"/>\n      <path d=\"M 45.40625 27.984375 \nQ 45.40625 37.75 41.375 43.109375 \nQ 37.359375 48.484375 30.078125 48.484375 \nQ 22.859375 48.484375 18.828125 43.109375 \nQ 14.796875 37.75 14.796875 27.984375 \nQ 14.796875 18.265625 18.828125 12.890625 \nQ 22.859375 7.515625 30.078125 7.515625 \nQ 37.359375 7.515625 41.375 12.890625 \nQ 45.40625 18.265625 45.40625 27.984375 \nz\nM 54.390625 6.78125 \nQ 54.390625 -7.171875 48.1875 -13.984375 \nQ 42 -20.796875 29.203125 -20.796875 \nQ 24.46875 -20.796875 20.265625 -20.09375 \nQ 16.0625 -19.390625 12.109375 -17.921875 \nL 12.109375 -9.1875 \nQ 16.0625 -11.328125 19.921875 -12.34375 \nQ 23.78125 -13.375 27.78125 -13.375 \nQ 36.625 -13.375 41.015625 -8.765625 \nQ 45.40625 -4.15625 45.40625 5.171875 \nL 45.40625 9.625 \nQ 42.625 4.78125 38.28125 2.390625 \nQ 33.9375 0 27.875 0 \nQ 17.828125 0 11.671875 7.65625 \nQ 5.515625 15.328125 5.515625 27.984375 \nQ 5.515625 40.671875 11.671875 48.328125 \nQ 17.828125 56 27.875 56 \nQ 33.9375 56 38.28125 53.609375 \nQ 42.625 51.21875 45.40625 46.390625 \nL 45.40625 54.6875 \nL 54.390625 54.6875 \nz\n\" id=\"DejaVuSans-103\"/>\n      <path d=\"M 56.203125 29.59375 \nL 56.203125 25.203125 \nL 14.890625 25.203125 \nQ 15.484375 15.921875 20.484375 11.0625 \nQ 25.484375 6.203125 34.421875 6.203125 \nQ 39.59375 6.203125 44.453125 7.46875 \nQ 49.3125 8.734375 54.109375 11.28125 \nL 54.109375 2.78125 \nQ 49.265625 0.734375 44.1875 -0.34375 \nQ 39.109375 -1.421875 33.890625 -1.421875 \nQ 20.796875 -1.421875 13.15625 6.1875 \nQ 5.515625 13.8125 5.515625 26.8125 \nQ 5.515625 40.234375 12.765625 48.109375 \nQ 20.015625 56 32.328125 56 \nQ 43.359375 56 49.78125 48.890625 \nQ 56.203125 41.796875 56.203125 29.59375 \nz\nM 47.21875 32.234375 \nQ 47.125 39.59375 43.09375 43.984375 \nQ 39.0625 48.390625 32.421875 48.390625 \nQ 24.90625 48.390625 20.390625 44.140625 \nQ 15.875 39.890625 15.1875 32.171875 \nz\n\" id=\"DejaVuSans-101\"/>\n      <path id=\"DejaVuSans-32\"/>\n      <path d=\"M 30.609375 48.390625 \nQ 23.390625 48.390625 19.1875 42.75 \nQ 14.984375 37.109375 14.984375 27.296875 \nQ 14.984375 17.484375 19.15625 11.84375 \nQ 23.34375 6.203125 30.609375 6.203125 \nQ 37.796875 6.203125 41.984375 11.859375 \nQ 46.1875 17.53125 46.1875 27.296875 \nQ 46.1875 37.015625 41.984375 42.703125 \nQ 37.796875 48.390625 30.609375 48.390625 \nz\nM 30.609375 56 \nQ 42.328125 56 49.015625 48.375 \nQ 55.71875 40.765625 55.71875 27.296875 \nQ 55.71875 13.875 49.015625 6.21875 \nQ 42.328125 -1.421875 30.609375 -1.421875 \nQ 18.84375 -1.421875 12.171875 6.21875 \nQ 5.515625 13.875 5.515625 27.296875 \nQ 5.515625 40.765625 12.171875 48.375 \nQ 18.84375 56 30.609375 56 \nz\n\" id=\"DejaVuSans-111\"/>\n      <path d=\"M 37.109375 75.984375 \nL 37.109375 68.5 \nL 28.515625 68.5 \nQ 23.6875 68.5 21.796875 66.546875 \nQ 19.921875 64.59375 19.921875 59.515625 \nL 19.921875 54.6875 \nL 34.71875 54.6875 \nL 34.71875 47.703125 \nL 19.921875 47.703125 \nL 19.921875 0 \nL 10.890625 0 \nL 10.890625 47.703125 \nL 2.296875 47.703125 \nL 2.296875 54.6875 \nL 10.890625 54.6875 \nL 10.890625 58.5 \nQ 10.890625 67.625 15.140625 71.796875 \nQ 19.390625 75.984375 28.609375 75.984375 \nz\n\" id=\"DejaVuSans-102\"/>\n      <path d=\"M 45.40625 46.390625 \nL 45.40625 75.984375 \nL 54.390625 75.984375 \nL 54.390625 0 \nL 45.40625 0 \nL 45.40625 8.203125 \nQ 42.578125 3.328125 38.25 0.953125 \nQ 33.9375 -1.421875 27.875 -1.421875 \nQ 17.96875 -1.421875 11.734375 6.484375 \nQ 5.515625 14.40625 5.515625 27.296875 \nQ 5.515625 40.1875 11.734375 48.09375 \nQ 17.96875 56 27.875 56 \nQ 33.9375 56 38.25 53.625 \nQ 42.578125 51.265625 45.40625 46.390625 \nz\nM 14.796875 27.296875 \nQ 14.796875 17.390625 18.875 11.75 \nQ 22.953125 6.109375 30.078125 6.109375 \nQ 37.203125 6.109375 41.296875 11.75 \nQ 45.40625 17.390625 45.40625 27.296875 \nQ 45.40625 37.203125 41.296875 42.84375 \nQ 37.203125 48.484375 30.078125 48.484375 \nQ 22.953125 48.484375 18.875 42.84375 \nQ 14.796875 37.203125 14.796875 27.296875 \nz\n\" id=\"DejaVuSans-100\"/>\n      <path d=\"M 18.3125 70.21875 \nL 18.3125 54.6875 \nL 36.8125 54.6875 \nL 36.8125 47.703125 \nL 18.3125 47.703125 \nL 18.3125 18.015625 \nQ 18.3125 11.328125 20.140625 9.421875 \nQ 21.96875 7.515625 27.59375 7.515625 \nL 36.8125 7.515625 \nL 36.8125 0 \nL 27.59375 0 \nQ 17.1875 0 13.234375 3.875 \nQ 9.28125 7.765625 9.28125 18.015625 \nL 9.28125 47.703125 \nL 2.6875 47.703125 \nL 2.6875 54.6875 \nL 9.28125 54.6875 \nL 9.28125 70.21875 \nz\n\" id=\"DejaVuSans-116\"/>\n      <path d=\"M 44.28125 53.078125 \nL 44.28125 44.578125 \nQ 40.484375 46.53125 36.375 47.5 \nQ 32.28125 48.484375 27.875 48.484375 \nQ 21.1875 48.484375 17.84375 46.4375 \nQ 14.5 44.390625 14.5 40.28125 \nQ 14.5 37.15625 16.890625 35.375 \nQ 19.28125 33.59375 26.515625 31.984375 \nL 29.59375 31.296875 \nQ 39.15625 29.25 43.1875 25.515625 \nQ 47.21875 21.78125 47.21875 15.09375 \nQ 47.21875 7.46875 41.1875 3.015625 \nQ 35.15625 -1.421875 24.609375 -1.421875 \nQ 20.21875 -1.421875 15.453125 -0.5625 \nQ 10.6875 0.296875 5.421875 2 \nL 5.421875 11.28125 \nQ 10.40625 8.6875 15.234375 7.390625 \nQ 20.0625 6.109375 24.8125 6.109375 \nQ 31.15625 6.109375 34.5625 8.28125 \nQ 37.984375 10.453125 37.984375 14.40625 \nQ 37.984375 18.0625 35.515625 20.015625 \nQ 33.0625 21.96875 24.703125 23.78125 \nL 21.578125 24.515625 \nQ 13.234375 26.265625 9.515625 29.90625 \nQ 5.8125 33.546875 5.8125 39.890625 \nQ 5.8125 47.609375 11.28125 51.796875 \nQ 16.75 56 26.8125 56 \nQ 31.78125 56 36.171875 55.265625 \nQ 40.578125 54.546875 44.28125 53.078125 \nz\n\" id=\"DejaVuSans-115\"/>\n      <path d=\"M 18.109375 8.203125 \nL 18.109375 -20.796875 \nL 9.078125 -20.796875 \nL 9.078125 54.6875 \nL 18.109375 54.6875 \nL 18.109375 46.390625 \nQ 20.953125 51.265625 25.265625 53.625 \nQ 29.59375 56 35.59375 56 \nQ 45.5625 56 51.78125 48.09375 \nQ 58.015625 40.1875 58.015625 27.296875 \nQ 58.015625 14.40625 51.78125 6.484375 \nQ 45.5625 -1.421875 35.59375 -1.421875 \nQ 29.59375 -1.421875 25.265625 0.953125 \nQ 20.953125 3.328125 18.109375 8.203125 \nz\nM 48.6875 27.296875 \nQ 48.6875 37.203125 44.609375 42.84375 \nQ 40.53125 48.484375 33.40625 48.484375 \nQ 26.265625 48.484375 22.1875 42.84375 \nQ 18.109375 37.203125 18.109375 27.296875 \nQ 18.109375 17.390625 22.1875 11.75 \nQ 26.265625 6.109375 33.40625 6.109375 \nQ 40.53125 6.109375 44.609375 11.75 \nQ 48.6875 17.390625 48.6875 27.296875 \nz\n\" id=\"DejaVuSans-112\"/>\n      <path d=\"M 31 75.875 \nQ 24.46875 64.65625 21.28125 53.65625 \nQ 18.109375 42.671875 18.109375 31.390625 \nQ 18.109375 20.125 21.3125 9.0625 \nQ 24.515625 -2 31 -13.1875 \nL 23.1875 -13.1875 \nQ 15.875 -1.703125 12.234375 9.375 \nQ 8.59375 20.453125 8.59375 31.390625 \nQ 8.59375 42.28125 12.203125 53.3125 \nQ 15.828125 64.359375 23.1875 75.875 \nz\n\" id=\"DejaVuSans-40\"/>\n      <path d=\"M 32.171875 -5.078125 \nQ 28.375 -14.84375 24.75 -17.8125 \nQ 21.140625 -20.796875 15.09375 -20.796875 \nL 7.90625 -20.796875 \nL 7.90625 -13.28125 \nL 13.1875 -13.28125 \nQ 16.890625 -13.28125 18.9375 -11.515625 \nQ 21 -9.765625 23.484375 -3.21875 \nL 25.09375 0.875 \nL 2.984375 54.6875 \nL 12.5 54.6875 \nL 29.59375 11.921875 \nL 46.6875 54.6875 \nL 56.203125 54.6875 \nz\n\" id=\"DejaVuSans-121\"/>\n      <path d=\"M 41.109375 46.296875 \nQ 39.59375 47.171875 37.8125 47.578125 \nQ 36.03125 48 33.890625 48 \nQ 26.265625 48 22.1875 43.046875 \nQ 18.109375 38.09375 18.109375 28.8125 \nL 18.109375 0 \nL 9.078125 0 \nL 9.078125 54.6875 \nL 18.109375 54.6875 \nL 18.109375 46.1875 \nQ 20.953125 51.171875 25.484375 53.578125 \nQ 30.03125 56 36.53125 56 \nQ 37.453125 56 38.578125 55.875 \nQ 39.703125 55.765625 41.0625 55.515625 \nz\n\" id=\"DejaVuSans-114\"/>\n      <path d=\"M 8.015625 75.875 \nL 15.828125 75.875 \nQ 23.140625 64.359375 26.78125 53.3125 \nQ 30.421875 42.28125 30.421875 31.390625 \nQ 30.421875 20.453125 26.78125 9.375 \nQ 23.140625 -1.703125 15.828125 -13.1875 \nL 8.015625 -13.1875 \nQ 14.5 -2 17.703125 9.0625 \nQ 20.90625 20.125 20.90625 31.390625 \nQ 20.90625 42.671875 17.703125 53.65625 \nQ 14.5 64.65625 8.015625 75.875 \nz\n\" id=\"DejaVuSans-41\"/>\n     </defs>\n     <g transform=\"translate(152.660156 256.416562)scale(0.1 -0.1)\">\n      <use xlink:href=\"#DejaVuSans-82\"/>\n      <use x=\"69.451172\" xlink:href=\"#DejaVuSans-97\"/>\n      <use x=\"130.730469\" xlink:href=\"#DejaVuSans-110\"/>\n      <use x=\"194.109375\" xlink:href=\"#DejaVuSans-103\"/>\n      <use x=\"257.585938\" xlink:href=\"#DejaVuSans-101\"/>\n      <use x=\"319.109375\" xlink:href=\"#DejaVuSans-32\"/>\n      <use x=\"350.896484\" xlink:href=\"#DejaVuSans-111\"/>\n      <use x=\"412.078125\" xlink:href=\"#DejaVuSans-102\"/>\n      <use x=\"447.283203\" xlink:href=\"#DejaVuSans-32\"/>\n      <use x=\"479.070312\" xlink:href=\"#DejaVuSans-100\"/>\n      <use x=\"542.546875\" xlink:href=\"#DejaVuSans-97\"/>\n      <use x=\"603.826172\" xlink:href=\"#DejaVuSans-116\"/>\n      <use x=\"643.035156\" xlink:href=\"#DejaVuSans-97\"/>\n      <use x=\"704.314453\" xlink:href=\"#DejaVuSans-32\"/>\n      <use x=\"736.101562\" xlink:href=\"#DejaVuSans-115\"/>\n      <use x=\"788.201172\" xlink:href=\"#DejaVuSans-112\"/>\n      <use x=\"851.677734\" xlink:href=\"#DejaVuSans-97\"/>\n      <use x=\"912.957031\" xlink:href=\"#DejaVuSans-110\"/>\n      <use x=\"976.335938\" xlink:href=\"#DejaVuSans-32\"/>\n      <use x=\"1008.123047\" xlink:href=\"#DejaVuSans-40\"/>\n      <use x=\"1047.136719\" xlink:href=\"#DejaVuSans-121\"/>\n      <use x=\"1106.316406\" xlink:href=\"#DejaVuSans-101\"/>\n      <use x=\"1167.839844\" xlink:href=\"#DejaVuSans-97\"/>\n      <use x=\"1229.119141\" xlink:href=\"#DejaVuSans-114\"/>\n      <use x=\"1270.232422\" xlink:href=\"#DejaVuSans-115\"/>\n      <use x=\"1322.332031\" xlink:href=\"#DejaVuSans-41\"/>\n     </g>\n    </g>\n   </g>\n   <g id=\"matplotlib.axis_2\">\n    <g id=\"ytick_1\">\n     <g id=\"line2d_15\">\n      <path clip-path=\"url(#p3ce2a3c0b4)\" d=\"M 53.328125 228.14 \nL 388.128125 228.14 \n\" style=\"fill:none;stroke:#b0b0b0;stroke-linecap:square;stroke-width:0.8;\"/>\n     </g>\n     <g id=\"line2d_16\">\n      <defs>\n       <path d=\"M 0 0 \nL -3.5 0 \n\" id=\"m13a08886d6\" style=\"stroke:#000000;stroke-width:0.8;\"/>\n      </defs>\n      <g>\n       <use style=\"stroke:#000000;stroke-width:0.8;\" x=\"53.328125\" xlink:href=\"#m13a08886d6\" y=\"228.14\"/>\n      </g>\n     </g>\n     <g id=\"text_9\">\n      <!-- 0 -->\n      <g transform=\"translate(39.965625 231.939219)scale(0.1 -0.1)\">\n       <use xlink:href=\"#DejaVuSans-48\"/>\n      </g>\n     </g>\n    </g>\n    <g id=\"ytick_2\">\n     <g id=\"line2d_17\">\n      <path clip-path=\"url(#p3ce2a3c0b4)\" d=\"M 53.328125 203.492807 \nL 388.128125 203.492807 \n\" style=\"fill:none;stroke:#b0b0b0;stroke-linecap:square;stroke-width:0.8;\"/>\n     </g>\n     <g id=\"line2d_18\">\n      <g>\n       <use style=\"stroke:#000000;stroke-width:0.8;\" x=\"53.328125\" xlink:href=\"#m13a08886d6\" y=\"203.492807\"/>\n      </g>\n     </g>\n     <g id=\"text_10\">\n      <!-- 1000 -->\n      <g transform=\"translate(20.878125 207.292026)scale(0.1 -0.1)\">\n       <use xlink:href=\"#DejaVuSans-49\"/>\n       <use x=\"63.623047\" xlink:href=\"#DejaVuSans-48\"/>\n       <use x=\"127.246094\" xlink:href=\"#DejaVuSans-48\"/>\n       <use x=\"190.869141\" xlink:href=\"#DejaVuSans-48\"/>\n      </g>\n     </g>\n    </g>\n    <g id=\"ytick_3\">\n     <g id=\"line2d_19\">\n      <path clip-path=\"url(#p3ce2a3c0b4)\" d=\"M 53.328125 178.845614 \nL 388.128125 178.845614 \n\" style=\"fill:none;stroke:#b0b0b0;stroke-linecap:square;stroke-width:0.8;\"/>\n     </g>\n     <g id=\"line2d_20\">\n      <g>\n       <use style=\"stroke:#000000;stroke-width:0.8;\" x=\"53.328125\" xlink:href=\"#m13a08886d6\" y=\"178.845614\"/>\n      </g>\n     </g>\n     <g id=\"text_11\">\n      <!-- 2000 -->\n      <g transform=\"translate(20.878125 182.644833)scale(0.1 -0.1)\">\n       <use xlink:href=\"#DejaVuSans-50\"/>\n       <use x=\"63.623047\" xlink:href=\"#DejaVuSans-48\"/>\n       <use x=\"127.246094\" xlink:href=\"#DejaVuSans-48\"/>\n       <use x=\"190.869141\" xlink:href=\"#DejaVuSans-48\"/>\n      </g>\n     </g>\n    </g>\n    <g id=\"ytick_4\">\n     <g id=\"line2d_21\">\n      <path clip-path=\"url(#p3ce2a3c0b4)\" d=\"M 53.328125 154.198421 \nL 388.128125 154.198421 \n\" style=\"fill:none;stroke:#b0b0b0;stroke-linecap:square;stroke-width:0.8;\"/>\n     </g>\n     <g id=\"line2d_22\">\n      <g>\n       <use style=\"stroke:#000000;stroke-width:0.8;\" x=\"53.328125\" xlink:href=\"#m13a08886d6\" y=\"154.198421\"/>\n      </g>\n     </g>\n     <g id=\"text_12\">\n      <!-- 3000 -->\n      <g transform=\"translate(20.878125 157.99764)scale(0.1 -0.1)\">\n       <use xlink:href=\"#DejaVuSans-51\"/>\n       <use x=\"63.623047\" xlink:href=\"#DejaVuSans-48\"/>\n       <use x=\"127.246094\" xlink:href=\"#DejaVuSans-48\"/>\n       <use x=\"190.869141\" xlink:href=\"#DejaVuSans-48\"/>\n      </g>\n     </g>\n    </g>\n    <g id=\"ytick_5\">\n     <g id=\"line2d_23\">\n      <path clip-path=\"url(#p3ce2a3c0b4)\" d=\"M 53.328125 129.551229 \nL 388.128125 129.551229 \n\" style=\"fill:none;stroke:#b0b0b0;stroke-linecap:square;stroke-width:0.8;\"/>\n     </g>\n     <g id=\"line2d_24\">\n      <g>\n       <use style=\"stroke:#000000;stroke-width:0.8;\" x=\"53.328125\" xlink:href=\"#m13a08886d6\" y=\"129.551229\"/>\n      </g>\n     </g>\n     <g id=\"text_13\">\n      <!-- 4000 -->\n      <defs>\n       <path d=\"M 37.796875 64.3125 \nL 12.890625 25.390625 \nL 37.796875 25.390625 \nz\nM 35.203125 72.90625 \nL 47.609375 72.90625 \nL 47.609375 25.390625 \nL 58.015625 25.390625 \nL 58.015625 17.1875 \nL 47.609375 17.1875 \nL 47.609375 0 \nL 37.796875 0 \nL 37.796875 17.1875 \nL 4.890625 17.1875 \nL 4.890625 26.703125 \nz\n\" id=\"DejaVuSans-52\"/>\n      </defs>\n      <g transform=\"translate(20.878125 133.350447)scale(0.1 -0.1)\">\n       <use xlink:href=\"#DejaVuSans-52\"/>\n       <use x=\"63.623047\" xlink:href=\"#DejaVuSans-48\"/>\n       <use x=\"127.246094\" xlink:href=\"#DejaVuSans-48\"/>\n       <use x=\"190.869141\" xlink:href=\"#DejaVuSans-48\"/>\n      </g>\n     </g>\n    </g>\n    <g id=\"ytick_6\">\n     <g id=\"line2d_25\">\n      <path clip-path=\"url(#p3ce2a3c0b4)\" d=\"M 53.328125 104.904036 \nL 388.128125 104.904036 \n\" style=\"fill:none;stroke:#b0b0b0;stroke-linecap:square;stroke-width:0.8;\"/>\n     </g>\n     <g id=\"line2d_26\">\n      <g>\n       <use style=\"stroke:#000000;stroke-width:0.8;\" x=\"53.328125\" xlink:href=\"#m13a08886d6\" y=\"104.904036\"/>\n      </g>\n     </g>\n     <g id=\"text_14\">\n      <!-- 5000 -->\n      <g transform=\"translate(20.878125 108.703255)scale(0.1 -0.1)\">\n       <use xlink:href=\"#DejaVuSans-53\"/>\n       <use x=\"63.623047\" xlink:href=\"#DejaVuSans-48\"/>\n       <use x=\"127.246094\" xlink:href=\"#DejaVuSans-48\"/>\n       <use x=\"190.869141\" xlink:href=\"#DejaVuSans-48\"/>\n      </g>\n     </g>\n    </g>\n    <g id=\"ytick_7\">\n     <g id=\"line2d_27\">\n      <path clip-path=\"url(#p3ce2a3c0b4)\" d=\"M 53.328125 80.256843 \nL 388.128125 80.256843 \n\" style=\"fill:none;stroke:#b0b0b0;stroke-linecap:square;stroke-width:0.8;\"/>\n     </g>\n     <g id=\"line2d_28\">\n      <g>\n       <use style=\"stroke:#000000;stroke-width:0.8;\" x=\"53.328125\" xlink:href=\"#m13a08886d6\" y=\"80.256843\"/>\n      </g>\n     </g>\n     <g id=\"text_15\">\n      <!-- 6000 -->\n      <defs>\n       <path d=\"M 33.015625 40.375 \nQ 26.375 40.375 22.484375 35.828125 \nQ 18.609375 31.296875 18.609375 23.390625 \nQ 18.609375 15.53125 22.484375 10.953125 \nQ 26.375 6.390625 33.015625 6.390625 \nQ 39.65625 6.390625 43.53125 10.953125 \nQ 47.40625 15.53125 47.40625 23.390625 \nQ 47.40625 31.296875 43.53125 35.828125 \nQ 39.65625 40.375 33.015625 40.375 \nz\nM 52.59375 71.296875 \nL 52.59375 62.3125 \nQ 48.875 64.0625 45.09375 64.984375 \nQ 41.3125 65.921875 37.59375 65.921875 \nQ 27.828125 65.921875 22.671875 59.328125 \nQ 17.53125 52.734375 16.796875 39.40625 \nQ 19.671875 43.65625 24.015625 45.921875 \nQ 28.375 48.1875 33.59375 48.1875 \nQ 44.578125 48.1875 50.953125 41.515625 \nQ 57.328125 34.859375 57.328125 23.390625 \nQ 57.328125 12.15625 50.6875 5.359375 \nQ 44.046875 -1.421875 33.015625 -1.421875 \nQ 20.359375 -1.421875 13.671875 8.265625 \nQ 6.984375 17.96875 6.984375 36.375 \nQ 6.984375 53.65625 15.1875 63.9375 \nQ 23.390625 74.21875 37.203125 74.21875 \nQ 40.921875 74.21875 44.703125 73.484375 \nQ 48.484375 72.75 52.59375 71.296875 \nz\n\" id=\"DejaVuSans-54\"/>\n      </defs>\n      <g transform=\"translate(20.878125 84.056062)scale(0.1 -0.1)\">\n       <use xlink:href=\"#DejaVuSans-54\"/>\n       <use x=\"63.623047\" xlink:href=\"#DejaVuSans-48\"/>\n       <use x=\"127.246094\" xlink:href=\"#DejaVuSans-48\"/>\n       <use x=\"190.869141\" xlink:href=\"#DejaVuSans-48\"/>\n      </g>\n     </g>\n    </g>\n    <g id=\"ytick_8\">\n     <g id=\"line2d_29\">\n      <path clip-path=\"url(#p3ce2a3c0b4)\" d=\"M 53.328125 55.60965 \nL 388.128125 55.60965 \n\" style=\"fill:none;stroke:#b0b0b0;stroke-linecap:square;stroke-width:0.8;\"/>\n     </g>\n     <g id=\"line2d_30\">\n      <g>\n       <use style=\"stroke:#000000;stroke-width:0.8;\" x=\"53.328125\" xlink:href=\"#m13a08886d6\" y=\"55.60965\"/>\n      </g>\n     </g>\n     <g id=\"text_16\">\n      <!-- 7000 -->\n      <defs>\n       <path d=\"M 8.203125 72.90625 \nL 55.078125 72.90625 \nL 55.078125 68.703125 \nL 28.609375 0 \nL 18.3125 0 \nL 43.21875 64.59375 \nL 8.203125 64.59375 \nz\n\" id=\"DejaVuSans-55\"/>\n      </defs>\n      <g transform=\"translate(20.878125 59.408869)scale(0.1 -0.1)\">\n       <use xlink:href=\"#DejaVuSans-55\"/>\n       <use x=\"63.623047\" xlink:href=\"#DejaVuSans-48\"/>\n       <use x=\"127.246094\" xlink:href=\"#DejaVuSans-48\"/>\n       <use x=\"190.869141\" xlink:href=\"#DejaVuSans-48\"/>\n      </g>\n     </g>\n    </g>\n    <g id=\"ytick_9\">\n     <g id=\"line2d_31\">\n      <path clip-path=\"url(#p3ce2a3c0b4)\" d=\"M 53.328125 30.962457 \nL 388.128125 30.962457 \n\" style=\"fill:none;stroke:#b0b0b0;stroke-linecap:square;stroke-width:0.8;\"/>\n     </g>\n     <g id=\"line2d_32\">\n      <g>\n       <use style=\"stroke:#000000;stroke-width:0.8;\" x=\"53.328125\" xlink:href=\"#m13a08886d6\" y=\"30.962457\"/>\n      </g>\n     </g>\n     <g id=\"text_17\">\n      <!-- 8000 -->\n      <defs>\n       <path d=\"M 31.78125 34.625 \nQ 24.75 34.625 20.71875 30.859375 \nQ 16.703125 27.09375 16.703125 20.515625 \nQ 16.703125 13.921875 20.71875 10.15625 \nQ 24.75 6.390625 31.78125 6.390625 \nQ 38.8125 6.390625 42.859375 10.171875 \nQ 46.921875 13.96875 46.921875 20.515625 \nQ 46.921875 27.09375 42.890625 30.859375 \nQ 38.875 34.625 31.78125 34.625 \nz\nM 21.921875 38.8125 \nQ 15.578125 40.375 12.03125 44.71875 \nQ 8.5 49.078125 8.5 55.328125 \nQ 8.5 64.0625 14.71875 69.140625 \nQ 20.953125 74.21875 31.78125 74.21875 \nQ 42.671875 74.21875 48.875 69.140625 \nQ 55.078125 64.0625 55.078125 55.328125 \nQ 55.078125 49.078125 51.53125 44.71875 \nQ 48 40.375 41.703125 38.8125 \nQ 48.828125 37.15625 52.796875 32.3125 \nQ 56.78125 27.484375 56.78125 20.515625 \nQ 56.78125 9.90625 50.3125 4.234375 \nQ 43.84375 -1.421875 31.78125 -1.421875 \nQ 19.734375 -1.421875 13.25 4.234375 \nQ 6.78125 9.90625 6.78125 20.515625 \nQ 6.78125 27.484375 10.78125 32.3125 \nQ 14.796875 37.15625 21.921875 38.8125 \nz\nM 18.3125 54.390625 \nQ 18.3125 48.734375 21.84375 45.5625 \nQ 25.390625 42.390625 31.78125 42.390625 \nQ 38.140625 42.390625 41.71875 45.5625 \nQ 45.3125 48.734375 45.3125 54.390625 \nQ 45.3125 60.0625 41.71875 63.234375 \nQ 38.140625 66.40625 31.78125 66.40625 \nQ 25.390625 66.40625 21.84375 63.234375 \nQ 18.3125 60.0625 18.3125 54.390625 \nz\n\" id=\"DejaVuSans-56\"/>\n      </defs>\n      <g transform=\"translate(20.878125 34.761676)scale(0.1 -0.1)\">\n       <use xlink:href=\"#DejaVuSans-56\"/>\n       <use x=\"63.623047\" xlink:href=\"#DejaVuSans-48\"/>\n       <use x=\"127.246094\" xlink:href=\"#DejaVuSans-48\"/>\n       <use x=\"190.869141\" xlink:href=\"#DejaVuSans-48\"/>\n      </g>\n     </g>\n    </g>\n    <g id=\"text_18\">\n     <!-- Number of patients -->\n     <defs>\n      <path d=\"M 9.8125 72.90625 \nL 23.09375 72.90625 \nL 55.421875 11.921875 \nL 55.421875 72.90625 \nL 64.984375 72.90625 \nL 64.984375 0 \nL 51.703125 0 \nL 19.390625 60.984375 \nL 19.390625 0 \nL 9.8125 0 \nz\n\" id=\"DejaVuSans-78\"/>\n      <path d=\"M 8.5 21.578125 \nL 8.5 54.6875 \nL 17.484375 54.6875 \nL 17.484375 21.921875 \nQ 17.484375 14.15625 20.5 10.265625 \nQ 23.53125 6.390625 29.59375 6.390625 \nQ 36.859375 6.390625 41.078125 11.03125 \nQ 45.3125 15.671875 45.3125 23.6875 \nL 45.3125 54.6875 \nL 54.296875 54.6875 \nL 54.296875 0 \nL 45.3125 0 \nL 45.3125 8.40625 \nQ 42.046875 3.421875 37.71875 1 \nQ 33.40625 -1.421875 27.6875 -1.421875 \nQ 18.265625 -1.421875 13.375 4.4375 \nQ 8.5 10.296875 8.5 21.578125 \nz\nM 31.109375 56 \nz\n\" id=\"DejaVuSans-117\"/>\n      <path d=\"M 52 44.1875 \nQ 55.375 50.25 60.0625 53.125 \nQ 64.75 56 71.09375 56 \nQ 79.640625 56 84.28125 50.015625 \nQ 88.921875 44.046875 88.921875 33.015625 \nL 88.921875 0 \nL 79.890625 0 \nL 79.890625 32.71875 \nQ 79.890625 40.578125 77.09375 44.375 \nQ 74.3125 48.1875 68.609375 48.1875 \nQ 61.625 48.1875 57.5625 43.546875 \nQ 53.515625 38.921875 53.515625 30.90625 \nL 53.515625 0 \nL 44.484375 0 \nL 44.484375 32.71875 \nQ 44.484375 40.625 41.703125 44.40625 \nQ 38.921875 48.1875 33.109375 48.1875 \nQ 26.21875 48.1875 22.15625 43.53125 \nQ 18.109375 38.875 18.109375 30.90625 \nL 18.109375 0 \nL 9.078125 0 \nL 9.078125 54.6875 \nL 18.109375 54.6875 \nL 18.109375 46.1875 \nQ 21.1875 51.21875 25.484375 53.609375 \nQ 29.78125 56 35.6875 56 \nQ 41.65625 56 45.828125 52.96875 \nQ 50 49.953125 52 44.1875 \nz\n\" id=\"DejaVuSans-109\"/>\n      <path d=\"M 48.6875 27.296875 \nQ 48.6875 37.203125 44.609375 42.84375 \nQ 40.53125 48.484375 33.40625 48.484375 \nQ 26.265625 48.484375 22.1875 42.84375 \nQ 18.109375 37.203125 18.109375 27.296875 \nQ 18.109375 17.390625 22.1875 11.75 \nQ 26.265625 6.109375 33.40625 6.109375 \nQ 40.53125 6.109375 44.609375 11.75 \nQ 48.6875 17.390625 48.6875 27.296875 \nz\nM 18.109375 46.390625 \nQ 20.953125 51.265625 25.265625 53.625 \nQ 29.59375 56 35.59375 56 \nQ 45.5625 56 51.78125 48.09375 \nQ 58.015625 40.1875 58.015625 27.296875 \nQ 58.015625 14.40625 51.78125 6.484375 \nQ 45.5625 -1.421875 35.59375 -1.421875 \nQ 29.59375 -1.421875 25.265625 0.953125 \nQ 20.953125 3.328125 18.109375 8.203125 \nL 18.109375 0 \nL 9.078125 0 \nL 9.078125 75.984375 \nL 18.109375 75.984375 \nz\n\" id=\"DejaVuSans-98\"/>\n      <path d=\"M 9.421875 54.6875 \nL 18.40625 54.6875 \nL 18.40625 0 \nL 9.421875 0 \nz\nM 9.421875 75.984375 \nL 18.40625 75.984375 \nL 18.40625 64.59375 \nL 9.421875 64.59375 \nz\n\" id=\"DejaVuSans-105\"/>\n     </defs>\n     <g transform=\"translate(14.798438 167.90125)rotate(-90)scale(0.1 -0.1)\">\n      <use xlink:href=\"#DejaVuSans-78\"/>\n      <use x=\"74.804688\" xlink:href=\"#DejaVuSans-117\"/>\n      <use x=\"138.183594\" xlink:href=\"#DejaVuSans-109\"/>\n      <use x=\"235.595703\" xlink:href=\"#DejaVuSans-98\"/>\n      <use x=\"299.072266\" xlink:href=\"#DejaVuSans-101\"/>\n      <use x=\"360.595703\" xlink:href=\"#DejaVuSans-114\"/>\n      <use x=\"401.708984\" xlink:href=\"#DejaVuSans-32\"/>\n      <use x=\"433.496094\" xlink:href=\"#DejaVuSans-111\"/>\n      <use x=\"494.677734\" xlink:href=\"#DejaVuSans-102\"/>\n      <use x=\"529.882812\" xlink:href=\"#DejaVuSans-32\"/>\n      <use x=\"561.669922\" xlink:href=\"#DejaVuSans-112\"/>\n      <use x=\"625.146484\" xlink:href=\"#DejaVuSans-97\"/>\n      <use x=\"686.425781\" xlink:href=\"#DejaVuSans-116\"/>\n      <use x=\"725.634766\" xlink:href=\"#DejaVuSans-105\"/>\n      <use x=\"753.417969\" xlink:href=\"#DejaVuSans-101\"/>\n      <use x=\"814.941406\" xlink:href=\"#DejaVuSans-110\"/>\n      <use x=\"878.320312\" xlink:href=\"#DejaVuSans-116\"/>\n      <use x=\"917.529297\" xlink:href=\"#DejaVuSans-115\"/>\n     </g>\n    </g>\n   </g>\n   <g id=\"patch_32\">\n    <path d=\"M 53.328125 228.14 \nL 53.328125 10.7 \n\" style=\"fill:none;stroke:#000000;stroke-linecap:square;stroke-linejoin:miter;stroke-width:0.8;\"/>\n   </g>\n   <g id=\"patch_33\">\n    <path d=\"M 388.128125 228.14 \nL 388.128125 10.7 \n\" style=\"fill:none;stroke:#000000;stroke-linecap:square;stroke-linejoin:miter;stroke-width:0.8;\"/>\n   </g>\n   <g id=\"patch_34\">\n    <path d=\"M 53.328125 228.14 \nL 388.128125 228.14 \n\" style=\"fill:none;stroke:#000000;stroke-linecap:square;stroke-linejoin:miter;stroke-width:0.8;\"/>\n   </g>\n   <g id=\"patch_35\">\n    <path d=\"M 53.328125 10.7 \nL 388.128125 10.7 \n\" style=\"fill:none;stroke:#000000;stroke-linecap:square;stroke-linejoin:miter;stroke-width:0.8;\"/>\n   </g>\n  </g>\n </g>\n <defs>\n  <clipPath id=\"p3ce2a3c0b4\">\n   <rect height=\"217.44\" width=\"334.8\" x=\"53.328125\" y=\"10.7\"/>\n  </clipPath>\n </defs>\n</svg>\n"
          },
          "metadata": {
            "tags": []
          }
        }
      ]
    }
  ]
}