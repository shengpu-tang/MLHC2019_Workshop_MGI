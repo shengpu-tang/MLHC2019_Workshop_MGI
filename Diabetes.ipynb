{
 "cells": [
  {
   "cell_type": "markdown",
   "metadata": {},
   "source": [
    "## * Setup steps"
   ]
  },
  {
   "cell_type": "code",
   "execution_count": null,
   "metadata": {},
   "outputs": [],
   "source": [
    "!pip install -q -U pydata-google-auth google-cloud-bigquery pyarrow"
   ]
  },
  {
   "cell_type": "code",
   "execution_count": null,
   "metadata": {},
   "outputs": [],
   "source": [
    "import pandas as pd\n",
    "import numpy as np\n",
    "import matplotlib\n",
    "import matplotlib.pyplot as plt\n",
    "matplotlib.rcParams['font.family'] = 'serif'\n",
    "%config InlineBackend.figure_format = 'svg'\n",
    "import os\n",
    "hostname = os.popen('hostname').read().strip()\n",
    "\n",
    "PROJECT_ID = \"mlforhc2019-worker0-c1fd\" # Modify this line to your worker project ID\n",
    "\n",
    "from google.cloud import bigquery\n",
    "client = bigquery.Client(project=PROJECT_ID)\n",
    "\n",
    "%load_ext google.cloud.bigquery"
   ]
  },
  {
   "cell_type": "markdown",
   "metadata": {},
   "source": [
    "# Example Study: Cohort of patients with diabetes and are managing with lifestyle changes"
   ]
  },
  {
   "cell_type": "markdown",
   "metadata": {},
   "source": [
    "In this sample notebook, we will extract data related to our cohort of interest from the MGI database. \n",
    "\n",
    "We will use the following pragmatic definition of diabetes, modified from [Narges Razavian et al., 2015](https://doi.org/10.1089/big.2015.0020). A patient is considered to have diabetes if:\n",
    "\n",
    "1. (a diagnosis code related to Diabetes under the Elixhauser comorbidity index); **OR** (HbA1C value > 6.5%)\n",
    "\n",
    "    **AND**\n",
    "\n",
    "2. use of a diabetes medication, i.e. with a therapeutic class of \"antihyperglycemics\"\n",
    "\n",
    "The onset time of diabetes for a patient is defined as the earliest time that any of the criteria above are met. "
   ]
  },
  {
   "cell_type": "markdown",
   "metadata": {},
   "source": [
    "## 1. Cohort discovery"
   ]
  },
  {
   "cell_type": "markdown",
   "metadata": {},
   "source": [
    "### 1.1 Decide what to look for and verity table content"
   ]
  },
  {
   "cell_type": "code",
   "execution_count": null,
   "metadata": {},
   "outputs": [],
   "source": [
    "%%bigquery --project $PROJECT_ID\n",
    "# Display the list of ICD codes used for Elixhauser comorbidity definition\n",
    "SELECT * FROM `mlforhc2019-data-ee97.mlforhc2019_data_data_bq.ComorbidityAlgorithmCodes` \n",
    "WHERE Algorithm = 'Elixhauser' AND Comorbidity LIKE \"Diabetes%\" LIMIT 1000"
   ]
  },
  {
   "cell_type": "code",
   "execution_count": null,
   "metadata": {},
   "outputs": [],
   "source": [
    "%%bigquery --project $PROJECT_ID\n",
    "# Display the list of antihyperglycemic drugs\n",
    "SELECT DISTINCT(MO.MedicationName)\n",
    "FROM `mlforhc2019-data-ee97.mlforhc2019_data_data_bq.MedicationOrders` MO  \n",
    "WHERE\n",
    "  upper(MO.TherapeuticClass) like '%ANTIHYPERGLYCEMICS%'"
   ]
  },
  {
   "cell_type": "markdown",
   "metadata": {},
   "source": [
    "### 1.2 Extract cohort"
   ]
  },
  {
   "cell_type": "code",
   "execution_count": null,
   "metadata": {},
   "outputs": [],
   "source": [
    "%%bigquery df_cohort --project $PROJECT_ID\n",
    "WITH elixhauserPatients AS\n",
    "(\n",
    "  SELECT \n",
    "    Diag.PatientID,\n",
    "    MIN(coalesce(Diag.DiagnosisObservationDate,Diag.ActivityDate)) as `dbDate`\n",
    "  FROM \n",
    "  `mlforhc2019-data-ee97.mlforhc2019_data_data_bq.ComorbidityAlgorithmCodes` CAC\n",
    "  JOIN\n",
    "  `mlforhc2019-data-ee97.mlforhc2019_data_data_bq.Diagnoses` Diag on CAC.Lexicon = Diag.Lexicon  and CAC.DiagnosisCode  = Diag.TermCodeMapped \n",
    "  WHERE\n",
    "    lower(CAC.Comorbidity) LIKE '%diabetes%'\n",
    "    AND\n",
    "    lower(CAC.Algorithm  ) LIKE '%elix%'\n",
    "  GROUP BY\n",
    "    Diag.PatientID\n",
    "),\n",
    "labPatients AS\n",
    "(\n",
    "  SELECT \n",
    "    LR.PatientID,\n",
    "    MIN(LR.Observation_Date) AS `dbDate`\n",
    "  FROM `mlforhc2019-data-ee97.mlforhc2019_data_data_bq.LabResults` LR \n",
    "  WHERE \n",
    "    LOWER(result_name) like '%a1c%' \n",
    "    AND SAFE_CAST(Value AS FLOAT64) > 6.5\n",
    "  GROUP BY\n",
    "    LR.PatientID\n",
    "),\n",
    "medPatients AS\n",
    "(\n",
    "  SELECT\n",
    "    MO.PatientID,\n",
    "    MIN(MO.OrderDate) AS `dbDate`\n",
    "  FROM `mlforhc2019-data-ee97.mlforhc2019_data_data_bq.MedicationOrders` MO  \n",
    "  WHERE\n",
    "    UPPER(MO.TherapeuticClass) LIKE '%ANTIHYPERGLYCEMICS%' \n",
    "  GROUP BY\n",
    "    MO.PatientID\n",
    "),\n",
    "allPatients AS\n",
    "(\n",
    "  SELECT *\n",
    "  FROM elixhauserPatients ep\n",
    "  UNION ALL\n",
    "  SELECT * \n",
    "  FROM labPatients lp\n",
    ")\n",
    "\n",
    "SELECT\n",
    "  ap.PatientID,\n",
    "  min(ap.dbDate) AS `earliestDate`\n",
    "FROM\n",
    "  allPatients ap\n",
    "  JOIN\n",
    "  medPatients mp ON ap.patientID = mp.patientID\n",
    "GROUP BY\n",
    "  ap.PatientID"
   ]
  },
  {
   "cell_type": "code",
   "execution_count": null,
   "metadata": {},
   "outputs": [],
   "source": [
    "print('Number of patients in cohort:', len(df_cohort))"
   ]
  },
  {
   "cell_type": "code",
   "execution_count": null,
   "metadata": {},
   "outputs": [],
   "source": [
    "df_cohort.head()"
   ]
  },
  {
   "cell_type": "code",
   "execution_count": null,
   "metadata": {},
   "outputs": [],
   "source": [
    "IDs = df_cohort['PatientID']"
   ]
  },
  {
   "cell_type": "markdown",
   "metadata": {},
   "source": [
    "## 2. Demographics\n",
    "\n",
    "Distributions of gender and age"
   ]
  },
  {
   "cell_type": "code",
   "execution_count": null,
   "metadata": {},
   "outputs": [],
   "source": [
    "%%bigquery df_demog --project $PROJECT_ID\n",
    "SELECT * FROM `mlforhc2019-data-ee97`.mlforhc2019_data_data_bq.PatientInfo"
   ]
  },
  {
   "cell_type": "markdown",
   "metadata": {},
   "source": [
    "### 2.1 Gender distribution"
   ]
  },
  {
   "cell_type": "code",
   "execution_count": null,
   "metadata": {},
   "outputs": [],
   "source": [
    "df_pop = df_demog[df_demog['PatientID'].isin(IDs)]\n",
    "df_pop.groupby('GenderName')[['PatientID']].count()"
   ]
  },
  {
   "cell_type": "markdown",
   "metadata": {},
   "source": [
    "### 2.2 Age distribution"
   ]
  },
  {
   "cell_type": "code",
   "execution_count": null,
   "metadata": {},
   "outputs": [],
   "source": [
    "%%bigquery df_age --project $PROJECT_ID\n",
    "SELECT PatientID, MAX(AgeInYears) AS Age # Get age at most recent encounter\n",
    "FROM `mlforhc2019-data-ee97`.mlforhc2019_data_data_bq.Encounter \n",
    "GROUP BY PatientID"
   ]
  },
  {
   "cell_type": "code",
   "execution_count": null,
   "metadata": {},
   "outputs": [],
   "source": [
    "df_pop_age = df_age[df_age['PatientID'].isin(IDs)].copy()\n",
    "df_pop_age.describe()\n",
    "\n",
    "# Replace redacted ages (>89) with 91, the median of those ages\n",
    "df_pop_age.loc[df_pop_age['Age'] == 300, 'Age'] = 91\n",
    "\n",
    "# Plot a histogram\n",
    "df_pop_age.hist(bins=np.arange(15,100,2))\n",
    "_, max_ = plt.ylim()\n",
    "x = df_pop_age['Age']\n",
    "plt.axvline(x.median(), color='k', linestyle='dashed', linewidth=1)\n",
    "plt.text(x.median() - x.median()/3, max_ - max_/10, 'Median: {:.2f}'.format(x.median()))\n",
    "plt.show()"
   ]
  },
  {
   "cell_type": "markdown",
   "metadata": {},
   "source": [
    "## 3. Retrive additional data and save as tables"
   ]
  },
  {
   "cell_type": "code",
   "execution_count": null,
   "metadata": {
    "codeCollapsed": false,
    "hiddenCell": true
   },
   "outputs": [],
   "source": [
    "# Helper function to upload pandas dataframe to BigQuery\n",
    "dataset_id=\"mlforhc2019_worker0_data_bq\"\n",
    "dataset = bigquery.Dataset(\"{}.{}\".format(PROJECT_ID, dataset_id))\n",
    "dataset.location = \"US\"\n",
    "client.get_dataset(dataset)\n",
    "\n",
    "def upload_table(df, table_name):\n",
    "    # Upload a pandas dataframe into your BigQuery dataset\n",
    "    job = client.load_table_from_dataframe(df, dataset.table(table_name), location=\"US\")\n",
    "    job.result()  # Waits for table load to complete.\n",
    "    assert job.state == \"DONE\"\n",
    "    print(\"Done: upload to\", table_name, \"in\", dataset_id)"
   ]
  },
  {
   "cell_type": "markdown",
   "metadata": {},
   "source": [
    "### 3.1 Save the cohort of interest"
   ]
  },
  {
   "cell_type": "code",
   "execution_count": null,
   "metadata": {},
   "outputs": [],
   "source": [
    "# Choose a unique table name, in this case use the hostname of this VM\n",
    "upload_table(df_cohort, table_name = hostname + '_' + 'Cohort')"
   ]
  },
  {
   "cell_type": "markdown",
   "metadata": {},
   "source": [
    "### 3.2 Top 10 procedures within cohort"
   ]
  },
  {
   "cell_type": "code",
   "execution_count": null,
   "metadata": {},
   "outputs": [],
   "source": [
    "q = \"\"\"\n",
    "SELECT\n",
    "  Pr.TermCodeMapped,\n",
    "  Pr.termNameMapped,\n",
    "  COUNT(DISTINCT Pr.PatientID) AS `numPatients`\n",
    "FROM\n",
    "  `{}.{}.{}` P\n",
    "JOIN\n",
    "  `mlforhc2019-data-ee97.mlforhc2019_data_data_bq.Procedures` Pr\n",
    "ON\n",
    "  P.patientID = Pr.patientID\n",
    "GROUP BY\n",
    "  Pr.TermCodeMapped,\n",
    "  Pr.termNameMapped\n",
    "ORDER BY\n",
    "  `numPatients` DESC\n",
    "LIMIT\n",
    "  10\n",
    "\"\"\".format(PROJECT_ID, dataset.dataset_id, hostname + '_' + 'Cohort')\n",
    "job_config = bigquery.QueryJobConfig()\n",
    "df_proc = client.query(q, job_config=job_config).to_dataframe()\n",
    "df_proc"
   ]
  },
  {
   "cell_type": "markdown",
   "metadata": {},
   "source": [
    "### 3.3 Height, Weight, Body-mass index (BMI)"
   ]
  },
  {
   "cell_type": "code",
   "execution_count": null,
   "metadata": {},
   "outputs": [],
   "source": [
    "# Save the query results to a BigQuery table in your BigQuery dataset directly\n",
    "# Without downloading and uploading\n",
    "\n",
    "# Delete table if exists\n",
    "table_name = hostname + '_' + 'BMI'\n",
    "client.delete_table(dataset.table(table_name), not_found_ok=True)\n",
    "\n",
    "# Run query\n",
    "q = \"\"\"\n",
    "SELECT P.PatientID, B.EncounterID, B.MedianHeightCm, B.MedianWeightKG, B.BMI\n",
    "FROM `{}.{}.{}` P\n",
    "  JOIN `mlforhc2019-data-ee97.mlforhc2019_data_data_bq.Encounter` E on P.PatientID = E.PatientID\n",
    "  JOIN `mlforhc2019-data-ee97.mlforhc2019_data_data_bq.EncounterBmi` B on B.EncounterID  = E.EncounterID \n",
    "\"\"\".format(PROJECT_ID, dataset.dataset_id, hostname + '_' + 'Cohort')\n",
    "job_config = bigquery.QueryJobConfig()\n",
    "job_config.destination = dataset.table(table_name) # Set destination table\n",
    "job = client.query(q, job_config=job_config)\n",
    "\n",
    "# Waits for the query to finish\n",
    "job.result()\n",
    "print('Done: saving', table_name, 'in', dataset.dataset_id)"
   ]
  },
  {
   "cell_type": "code",
   "execution_count": null,
   "metadata": {},
   "outputs": [],
   "source": [
    "q = \"\"\"SELECT * FROM `{}.{}.{}` LIMIT 100\"\"\".format(PROJECT_ID, dataset.dataset_id, hostname + '_' + 'BMI')\n",
    "job_config = bigquery.QueryJobConfig()\n",
    "client.query(q, job_config=job_config).to_dataframe()"
   ]
  },
  {
   "cell_type": "markdown",
   "metadata": {},
   "source": [
    "### 3.4 Social history\n",
    "\n",
    "Is this patient ever a smoker?"
   ]
  },
  {
   "cell_type": "code",
   "execution_count": null,
   "metadata": {},
   "outputs": [],
   "source": [
    "# Save the query results to a BigQuery table in your BigQuery dataset directly\n",
    "# Without downloading and uploading\n",
    "\n",
    "# Delete table if exists\n",
    "table_name = hostname + '_' + 'Smoker'\n",
    "client.delete_table(dataset.table(table_name), not_found_ok=True)\n",
    "\n",
    "# Run query\n",
    "q = \"\"\"\n",
    "WITH\n",
    "  patientStatuses AS(\n",
    "  SELECT\n",
    "    SH.PatientID,\n",
    "    CASE\n",
    "      WHEN SH.SmokingStatusMapped = 'Former' OR SH.SmokingStatusMapped = 'Current' THEN 1\n",
    "    ELSE\n",
    "    0\n",
    "  END\n",
    "    AS `hasEverSmoked`\n",
    "  FROM\n",
    "    `{}.{}.{}` P\n",
    "  JOIN\n",
    "    `mlforhc2019-data-ee97.mlforhc2019_data_data_bq.SocialHistory` SH\n",
    "  ON\n",
    "    P.PatientID = SH.PatientID ),\n",
    "  patientEverSmoked AS (\n",
    "  SELECT\n",
    "    patientID,\n",
    "    MAX(hasEverSmoked) AS `hasEverSmoked`\n",
    "  FROM\n",
    "    patientStatuses\n",
    "  GROUP BY\n",
    "    PatientID )\n",
    "SELECT\n",
    "  *\n",
    "FROM\n",
    "  patientEverSmoked\n",
    "\"\"\".format(PROJECT_ID, dataset.dataset_id, hostname + '_' + 'Cohort')\n",
    "job_config = bigquery.QueryJobConfig()\n",
    "job_config.destination = dataset.table(table_name) # Set destination table\n",
    "job = client.query(q, job_config=job_config)\n",
    "\n",
    "# Waits for the query to finish\n",
    "job.result()\n",
    "print('Done: saving', table_name, 'in', dataset.dataset_id)"
   ]
  },
  {
   "cell_type": "code",
   "execution_count": null,
   "metadata": {},
   "outputs": [],
   "source": [
    "q = \"\"\"SELECT * FROM `{}.{}.{}` LIMIT 100\"\"\".format(PROJECT_ID, dataset.dataset_id, hostname + '_' + 'Smoker')\n",
    "job_config = bigquery.QueryJobConfig()\n",
    "client.query(q, job_config=job_config).to_dataframe()"
   ]
  },
  {
   "cell_type": "markdown",
   "metadata": {},
   "source": [
    "### 3.5 Vital signs"
   ]
  },
  {
   "cell_type": "code",
   "execution_count": null,
   "metadata": {},
   "outputs": [],
   "source": [
    "# Save the query results to a BigQuery table in your BigQuery dataset directly\n",
    "# Without downloading and uploading\n",
    "\n",
    "# Delete table if exists\n",
    "table_name = hostname + '_' + 'VitalSigns'\n",
    "client.delete_table(dataset.table(table_name), not_found_ok=True)\n",
    "\n",
    "# Run query\n",
    "q = \"\"\"\n",
    "with locationTagRanking as\n",
    "(\n",
    "  select\n",
    "    LocationID,\n",
    "    case\n",
    "      when lower(LocationTag) like '%emergency%' then 3\n",
    "      when lower(LocationTag) like '%inpatient%' then 2\n",
    "      else 1  -- \"Other\"\n",
    "    end as `tagRank`\n",
    "  from\n",
    "    `mlforhc2019-data-ee97.mlforhc2019_data_data_bq.LocationTags` \n",
    "),\n",
    "locationClass as\n",
    "(\n",
    "  select\n",
    "    LocationID,\n",
    "    max(tagRank) as `tagClass`\n",
    "  from\n",
    "    locationTagRanking\n",
    "  Group by\n",
    "    LocationID\n",
    ")\n",
    "SELECT SV.PatientID,\n",
    "  SV.EncounterID,\n",
    "  SV.ObservationDateTime,\n",
    "  SV.BPDiaInvasive,\n",
    "  SV.BPSysInvasive,\n",
    "  SV.BPDiaNonInvasive,\n",
    "  SV.BPSysNonInvasive,\n",
    "  SV.HeartRate,\n",
    "  case\n",
    "    when lc.tagClass = 3 then 'Emergency'\n",
    "    when lc.tagClass = 2 then 'Inpatient'\n",
    "    when lc.tagClass = 1 then 'Other'\n",
    "    else 'Unknown'\n",
    "   end as `patientSetting`  \n",
    "FROM \n",
    "  `{}.{}.{}` P\n",
    "join\n",
    "  `mlforhc2019-data-ee97.mlforhc2019_data_data_bq.NursingStandardVitalSigns` SV on P.PatientID = SV.PatientID\n",
    "left outer join\n",
    "  `mlforhc2019-data-ee97.mlforhc2019_data_data_bq.EncounterLocations` el on SV.EncounterID  = el.EncounterID and SV.ObservationDateTime  between el.StartDate  and el.EndDate \n",
    "left outer join\n",
    "  locationClass lc on el.LocationID = lc.LocationID\n",
    "where\n",
    "  SV.BPDiaInvasive is not null\n",
    "  or SV.BPSysInvasive is not null\n",
    "  or SV.BPDiaNonInvasive is not null\n",
    "  or SV.BPSysNonInvasive is not null\n",
    "  or SV.HeartRate is not null\n",
    "  or SV.Temperature is not null\n",
    "\"\"\".format(PROJECT_ID, dataset.dataset_id, hostname + '_' + 'Cohort')\n",
    "job_config = bigquery.QueryJobConfig()\n",
    "job_config.destination = dataset.table(table_name) # Set destination table\n",
    "job = client.query(q, job_config=job_config)\n",
    "\n",
    "# Waits for the query to finish\n",
    "job.result()\n",
    "print('Done: saving', table_name, 'in', dataset.dataset_id)"
   ]
  },
  {
   "cell_type": "code",
   "execution_count": null,
   "metadata": {},
   "outputs": [],
   "source": [
    "q = \"\"\"SELECT * FROM `{}.{}.{}` LIMIT 100\"\"\".format(PROJECT_ID, dataset.dataset_id, hostname + '_' + 'VitalSigns')\n",
    "job_config = bigquery.QueryJobConfig()\n",
    "client.query(q, job_config=job_config).to_dataframe()"
   ]
  },
  {
   "cell_type": "markdown",
   "metadata": {},
   "source": [
    "### 3.6 Lab results"
   ]
  },
  {
   "cell_type": "code",
   "execution_count": null,
   "metadata": {},
   "outputs": [],
   "source": [
    "# Save the query results to a BigQuery table in your BigQuery dataset directly\n",
    "# Without downloading and uploading\n",
    "\n",
    "# Delete table if exists\n",
    "table_name = hostname + '_' + 'Labs'\n",
    "client.delete_table(dataset.table(table_name), not_found_ok=True)\n",
    "\n",
    "# Run query\n",
    "q = \"\"\"\n",
    "SELECT \n",
    "  LR.PatientID ,\n",
    "  LR.EncounterID,\n",
    "  LR.Order_Date ,\n",
    "  LR.Order_Code ,\n",
    "  LR.Order_Name ,\n",
    "  LR.Collection_Date ,\n",
    "  LR.Observation_Date ,\n",
    "  LR.Result_Code ,\n",
    "  LR.Result_Name ,\n",
    "  LR.LOINC,\n",
    "  LR.Value,\n",
    "  SAFE_CAST(LR.Value as FLOAT64) as `Value_Numeric`,\n",
    "  LR.UNit,\n",
    "  LR.Range\n",
    "FROM \n",
    "  `{}.{}.{}` P\n",
    "  join\n",
    "  `mlforhc2019-data-ee97.mlforhc2019_data_data_bq.LabResults` LR on P.PatientID = LR.PatientID\n",
    "WHERE\n",
    "  Value is not null\n",
    "\"\"\".format(PROJECT_ID, dataset.dataset_id, hostname + '_' + 'Cohort')\n",
    "job_config = bigquery.QueryJobConfig()\n",
    "job_config.destination = dataset.table(table_name) # Set destination table\n",
    "job = client.query(q, job_config=job_config)\n",
    "\n",
    "# Waits for the query to finish\n",
    "job.result()\n",
    "print('Done: saving', table_name, 'in', dataset.dataset_id)"
   ]
  },
  {
   "cell_type": "code",
   "execution_count": null,
   "metadata": {},
   "outputs": [],
   "source": [
    "q = \"\"\"SELECT * FROM `{}.{}.{}` LIMIT 100\"\"\".format(PROJECT_ID, dataset.dataset_id, hostname + '_' + 'Labs')\n",
    "job_config = bigquery.QueryJobConfig()\n",
    "client.query(q, job_config=job_config).to_dataframe()"
   ]
  },
  {
   "cell_type": "markdown",
   "metadata": {},
   "source": [
    "### 3.7 Medication Administrations"
   ]
  },
  {
   "cell_type": "code",
   "execution_count": null,
   "metadata": {},
   "outputs": [],
   "source": [
    "# Save the query results to a BigQuery table in your BigQuery dataset directly\n",
    "# Without downloading and uploading\n",
    "\n",
    "# Delete table if exists\n",
    "table_name = hostname + '_' + 'Meds'\n",
    "client.delete_table(dataset.table(table_name), not_found_ok=True)\n",
    "\n",
    "# Run query\n",
    "q = \"\"\"\n",
    "SELECT\n",
    "  MA.*\n",
    "FROM\n",
    "  `{}.{}.{}` P\n",
    "JOIN\n",
    "  `mlforhc2019-data-ee97.mlforhc2019_data_data_bq.MedicationAdministrations` MA\n",
    "ON\n",
    "  P.PatientID = MA.PatientID\n",
    "\"\"\".format(PROJECT_ID, dataset.dataset_id, hostname + '_' + 'Cohort')\n",
    "job_config = bigquery.QueryJobConfig()\n",
    "job_config.destination = dataset.table(table_name) # Set destination table\n",
    "job = client.query(q, job_config=job_config)\n",
    "\n",
    "# Waits for the query to finish\n",
    "job.result()\n",
    "print('Done: saving', table_name, 'in', dataset.dataset_id)"
   ]
  },
  {
   "cell_type": "code",
   "execution_count": null,
   "metadata": {},
   "outputs": [],
   "source": [
    "q = \"\"\"SELECT * FROM `{}.{}.{}` LIMIT 100\"\"\".format(PROJECT_ID, dataset.dataset_id, hostname + '_' + 'Meds')\n",
    "job_config = bigquery.QueryJobConfig()\n",
    "client.query(q, job_config=job_config).to_dataframe()"
   ]
  },
  {
   "cell_type": "markdown",
   "metadata": {},
   "source": [
    "### 3.8 Encounter location type counts"
   ]
  },
  {
   "cell_type": "code",
   "execution_count": null,
   "metadata": {},
   "outputs": [],
   "source": [
    "# Save the query results to a BigQuery table in your BigQuery dataset directly\n",
    "# Without downloading and uploading\n",
    "\n",
    "# Delete table if exists\n",
    "table_name = hostname + '_' + 'LocationCounts'\n",
    "client.delete_table(dataset.table(table_name), not_found_ok=True)\n",
    "\n",
    "# Run query\n",
    "q = \"\"\"\n",
    "SELECT \n",
    "  P.PatientID,\n",
    "  L.LocationTag,\n",
    "  count(distinct E.EncounterID) as `numEncounters`\n",
    "FROM \n",
    "  `{}.{}.{}` P\n",
    "  join\n",
    "  `mlforhc2019-data-ee97.mlforhc2019_data_data_bq.Encounter` E on P.PatientID = E.PatientID\n",
    "  join\n",
    "  `mlforhc2019-data-ee97.mlforhc2019_data_data_bq.EncounterLocations` EL on E.EncounterID = EL.EncounterID\n",
    "  join\n",
    "  `mlforhc2019-data-ee97.mlforhc2019_data_data_bq.LocationTags` L on EL.LocationID = L.LocationID\n",
    "GROUP BY\n",
    "  P.PatientID,\n",
    "  L.LocationTag\n",
    "\"\"\".format(PROJECT_ID, dataset.dataset_id, hostname + '_' + 'Cohort')\n",
    "job_config = bigquery.QueryJobConfig()\n",
    "job_config.destination = dataset.table(table_name) # Set destination table\n",
    "job = client.query(q, job_config=job_config)\n",
    "\n",
    "# Waits for the query to finish\n",
    "job.result()\n",
    "print('Done: saving', table_name, 'in', dataset.dataset_id)"
   ]
  },
  {
   "cell_type": "code",
   "execution_count": null,
   "metadata": {},
   "outputs": [],
   "source": [
    "q = \"\"\"SELECT * FROM `{}.{}.{}` LIMIT 100\"\"\".format(PROJECT_ID, dataset.dataset_id, hostname + '_' + 'LocationCounts')\n",
    "job_config = bigquery.QueryJobConfig()\n",
    "client.query(q, job_config=job_config).to_dataframe()"
   ]
  },
  {
   "cell_type": "markdown",
   "metadata": {},
   "source": [
    "### 3.9 Orders related to a dietitian"
   ]
  },
  {
   "cell_type": "code",
   "execution_count": null,
   "metadata": {},
   "outputs": [],
   "source": [
    "# Save the query results to a BigQuery table in your BigQuery dataset directly\n",
    "# Without downloading and uploading\n",
    "\n",
    "# Delete table if exists\n",
    "table_name = hostname + '_' + 'DietitianOrders'\n",
    "client.delete_table(dataset.table(table_name), not_found_ok=True)\n",
    "\n",
    "# Run query\n",
    "q = \"\"\"\n",
    "select \n",
    "  O.*\n",
    "from\n",
    "`{}.{}.{}` P\n",
    "join\n",
    "`mlforhc2019-data-ee97.mlforhc2019_data_data_bq.Non_MedicationOrders` O on P.PatientID = O.PatientID \n",
    "where\n",
    "(\n",
    "  lower(ordername) like '%dietitian%' \n",
    "  or lower(ordertype) like '%dietitian%'\n",
    ")\n",
    "\"\"\".format(PROJECT_ID, dataset.dataset_id, hostname + '_' + 'Cohort')\n",
    "job_config = bigquery.QueryJobConfig()\n",
    "job_config.destination = dataset.table(table_name) # Set destination table\n",
    "job = client.query(q, job_config=job_config)\n",
    "\n",
    "# Waits for the query to finish\n",
    "job.result()\n",
    "print('Done: saving', table_name, 'in', dataset.dataset_id)"
   ]
  },
  {
   "cell_type": "code",
   "execution_count": null,
   "metadata": {},
   "outputs": [],
   "source": [
    "q = \"\"\"SELECT * FROM `{}.{}.{}` LIMIT 100\"\"\".format(PROJECT_ID, dataset.dataset_id, hostname + '_' + 'DietitianOrders')\n",
    "job_config = bigquery.QueryJobConfig()\n",
    "client.query(q, job_config=job_config).to_dataframe()"
   ]
  },
  {
   "cell_type": "markdown",
   "metadata": {},
   "source": [
    "## 4. View final tables in the dataset"
   ]
  },
  {
   "cell_type": "code",
   "execution_count": null,
   "metadata": {},
   "outputs": [],
   "source": [
    "%bigquery df_tables --project $PROJECT_ID \n",
    "SELECT\n",
    " * EXCEPT(is_typed)\n",
    "FROM\n",
    " mlforhc2019_worker0_data_bq.INFORMATION_SCHEMA.TABLES"
   ]
  },
  {
   "cell_type": "code",
   "execution_count": null,
   "metadata": {},
   "outputs": [],
   "source": [
    "# Obtain a list of tables that you created\n",
    "df_tables[df_tables['table_name'].str.startswith(hostname)]"
   ]
  },
  {
   "cell_type": "markdown",
   "metadata": {},
   "source": [
    "# 5. Clean-up"
   ]
  },
  {
   "cell_type": "code",
   "execution_count": null,
   "metadata": {},
   "outputs": [],
   "source": [
    "## !!DANGER!! ##\n",
    "# Delete your existing tables\n",
    "dataset_id=\"mlforhc2019_worker0_data_bq\"\n",
    "dataset = bigquery.Dataset(\"{}.{}\".format(PROJECT_ID, dataset_id))\n",
    "dataset.location = \"US\"\n",
    "client.get_dataset(dataset)\n",
    "for tn in df_tables[df_tables['table_name'].str.startswith(hostname)]['table_name']:\n",
    "    client.delete_table(dataset.table(tn), not_found_ok=True)"
   ]
  },
  {
   "cell_type": "code",
   "execution_count": null,
   "metadata": {},
   "outputs": [],
   "source": []
  }
 ],
 "metadata": {
  "kernelspec": {
   "display_name": "Python 3",
   "language": "python",
   "name": "python3"
  },
  "language_info": {
   "codemirror_mode": {
    "name": "ipython",
    "version": 3
   },
   "file_extension": ".py",
   "mimetype": "text/x-python",
   "name": "python",
   "nbconvert_exporter": "python",
   "pygments_lexer": "ipython3",
   "version": "3.5.6"
  }
 },
 "nbformat": 4,
 "nbformat_minor": 2
}
